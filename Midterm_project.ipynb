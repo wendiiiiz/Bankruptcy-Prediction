{
 "cells": [
  {
   "cell_type": "markdown",
   "metadata": {},
   "source": [
    "# Midterm Project\n",
    "\n",
    "\n",
    "You will demonstrate your ability to solve a classification task.\n",
    "\n",
    "The notebook that you submit *should follow the Recipe for Machine Learning* in addition to answering the questions."
   ]
  },
  {
   "cell_type": "markdown",
   "metadata": {},
   "source": [
    "# Objectives\n",
    "\n",
    "For the student to demonstrate mastery on solving a classification problem and presenting\n",
    "the entire Recipe for Machine Learning process in a notebook.\n",
    "\n",
    "There will be little explicit direction for this task.\n",
    "\n",
    "It is meant to be analagous to a pre-interview task that a potential employer might assign\n",
    "to verify your skill"
   ]
  },
  {
   "cell_type": "markdown",
   "metadata": {},
   "source": [
    "# Submission guidelines\n",
    "\n",
    "**In addition** to showing your mastery, there is one task you must perform to make grading easier.\n",
    "\n",
    "- You will implement the body of a subroutine `MyModel`\n",
    "    - that takes as argument, the name of a CSV file containing the test set\n",
    "    - performs predictions on each example in the test set\n",
    "    - returns an array or predictions with a one-to-one correspondence with the examples in the test set\n",
    "    \n",
    "- You will call the subroutine, passing the name of the test set file that we will supply.\n",
    "\n",
    "In this way, we can get the results of your model by executing a single cell."
   ]
  },
  {
   "cell_type": "markdown",
   "metadata": {},
   "source": [
    "`MyModel` has one *required* parameter: `fileName`\n",
    "- you may add additional parameters as you need\n",
    "\n",
    "`MyModel` is where you will perform whatever pre-processing you require, for example\n",
    "- imputing missing values\n",
    "- transformations\n",
    "- whatever else you need\n"
   ]
  },
  {
   "cell_type": "markdown",
   "metadata": {},
   "source": [
    "Here is the cell **that must appear as the last cell in your notebook**\n",
    "- It points to a test file\n",
    "- Your code must make predictions on this test file\n",
    "- There are *no labels* visible to you in the test file; these are available only to the grader"
   ]
  },
  {
   "cell_type": "code",
   "execution_count": 582,
   "metadata": {},
   "outputs": [],
   "source": [
    "data_file = \"5th_yr.csv\""
   ]
  },
  {
   "cell_type": "code",
   "execution_count": 583,
   "metadata": {},
   "outputs": [
    {
     "name": "stdout",
     "output_type": "stream",
     "text": [
      "Test file:  ./data/midterm_project/bankruptcy/holdout/5th_yr.csv\n"
     ]
    }
   ],
   "source": [
    "TEST_PATH = \"./data/midterm_project/bankruptcy/holdout\"\n",
    "\n",
    "import pandas as pd\n",
    "import os\n",
    "\n",
    "testFileName = os.path.join(TEST_PATH, data_file)\n",
    "\n",
    "def MyModel(fileName=None):\n",
    "    print(\"Test file: \", fileName)\n",
    "    \n",
    "    # It should create an array of predictions; we initialize it to the empty array for convenience\n",
    "    predictions = []\n",
    "    \n",
    "    # YOUR CODE GOES HERE\n",
    "    \n",
    "    \n",
    "    return predictions\n",
    "\n",
    "predicts = MyModel(fileName=testFileName)\n"
   ]
  },
  {
   "cell_type": "markdown",
   "metadata": {},
   "source": [
    "# The problem\n",
    "\n",
    "You are to predict whether a company will go bankrupt in the following year, based on financial attributes of the company.\n",
    "- Each row of data corresponds to a single company\n",
    "- There are 64 attributes, described in the section below\n",
    "- The last column (`Bankrupt`) is 1 if the company subsequently went bankrupt; 0 if it did not go bankrupt\n",
    "- The first column is a Company Identifier"
   ]
  },
  {
   "cell_type": "markdown",
   "metadata": {},
   "source": [
    "# Recipe A.1: Get the data"
   ]
  },
  {
   "cell_type": "markdown",
   "metadata": {},
   "source": [
    "# The Data\n",
    "\n",
    "Here's the code to get the data."
   ]
  },
  {
   "cell_type": "code",
   "execution_count": 584,
   "metadata": {},
   "outputs": [],
   "source": [
    "import pandas as pd\n",
    "import os\n",
    "import numpy as np\n",
    "import matplotlib.pyplot as plt\n",
    "\n",
    "from sklearn.model_selection import train_test_split, cross_val_score\n",
    "from sklearn.naive_bayes import GaussianNB\n",
    "from sklearn.metrics import accuracy_score\n",
    "from sklearn.linear_model import LogisticRegression\n",
    "from sklearn.metrics import confusion_matrix\n",
    "\n",
    "from scipy import stats\n",
    "from statistics import stdev\n",
    "\n",
    "from sklearn.neighbors import KNeighborsClassifier\n",
    "from sklearn.ensemble import RandomForestClassifier\n",
    "from sklearn.svm import SVC\n",
    "from sklearn.tree import DecisionTreeClassifier\n",
    "\n",
    "\n",
    "from sklearn.metrics import f1_score\n",
    "\n",
    "\n",
    "\n",
    "# Note the use of *relative path*; your assignments should all use relative rather than absolute paths\n",
    "DATA_PATH = \"./data/midterm_project/bankruptcy/train\"\n",
    "\n",
    "data = pd.read_csv( os.path.join(DATA_PATH, data_file) )\n"
   ]
  },
  {
   "cell_type": "markdown",
   "metadata": {},
   "source": [
    "## Description of attributes"
   ]
  },
  {
   "cell_type": "raw",
   "metadata": {},
   "source": [
    "Attribute Information:\n",
    "\n",
    "Id Company Identifier \n",
    "X1 net profit / total assets\n",
    "X2 total liabilities / total assets\n",
    "X3 working capital / total assets\n",
    "X4 current assets / short-term liabilities\n",
    "X5 [(cash + short-term securities + receivables - short-term liabilities) / (operating expenses - depreciation)] * 365\n",
    "X6 retained earnings / total assets\n",
    "X7 EBIT / total assets\n",
    "X8 book value of equity / total liabilities\n",
    "X9 sales / total assets\n",
    "X10 equity / total assets\n",
    "X11 (gross profit + extraordinary items + financial expenses) / total assets\n",
    "X12 gross profit / short-term liabilities\n",
    "X13 (gross profit + depreciation) / sales\n",
    "X14 (gross profit + interest) / total assets\n",
    "X15 (total liabilities * 365) / (gross profit + depreciation)\n",
    "X16 (gross profit + depreciation) / total liabilities\n",
    "X17 total assets / total liabilities\n",
    "X18 gross profit / total assets\n",
    "X19 gross profit / sales\n",
    "X20 (inventory * 365) / sales\n",
    "X21 sales (n) / sales (n-1)\n",
    "X22 profit on operating activities / total assets\n",
    "X23 net profit / sales\n",
    "X24 gross profit (in 3 years) / total assets\n",
    "X25 (equity - share capital) / total assets\n",
    "X26 (net profit + depreciation) / total liabilities\n",
    "X27 profit on operating activities / financial expenses\n",
    "X28 working capital / fixed assets\n",
    "X29 logarithm of total assets\n",
    "X30 (total liabilities - cash) / sales\n",
    "X31 (gross profit + interest) / sales\n",
    "X32 (current liabilities * 365) / cost of products sold\n",
    "X33 operating expenses / short-term liabilities\n",
    "X34 operating expenses / total liabilities\n",
    "X35 profit on sales / total assets\n",
    "X36 total sales / total assets\n",
    "X37 (current assets - inventories) / long-term liabilities\n",
    "X38 constant capital / total assets\n",
    "X39 profit on sales / sales\n",
    "X40 (current assets - inventory - receivables) / short-term liabilities\n",
    "X41 total liabilities / ((profit on operating activities + depreciation) * (12/365))\n",
    "X42 profit on operating activities / sales\n",
    "X43 rotation receivables + inventory turnover in days\n",
    "X44 (receivables * 365) / sales\n",
    "X45 net profit / inventory\n",
    "X46 (current assets - inventory) / short-term liabilities\n",
    "X47 (inventory * 365) / cost of products sold\n",
    "X48 EBITDA (profit on operating activities - depreciation) / total assets\n",
    "X49 EBITDA (profit on operating activities - depreciation) / sales\n",
    "X50 current assets / total liabilities\n",
    "X51 short-term liabilities / total assets\n",
    "X52 (short-term liabilities * 365) / cost of products sold)\n",
    "X53 equity / fixed assets\n",
    "X54 constant capital / fixed assets\n",
    "X55 working capital\n",
    "X56 (sales - cost of products sold) / sales\n",
    "X57 (current assets - inventory - short-term liabilities) / (sales - gross profit - depreciation)\n",
    "X58 total costs /total sales\n",
    "X59 long-term liabilities / equity\n",
    "X60 sales / inventory\n",
    "X61 sales / receivables\n",
    "X62 (short-term liabilities *365) / sales\n",
    "X63 sales / short-term liabilities\n",
    "X64 sales / fixed assets\n"
   ]
  },
  {
   "cell_type": "markdown",
   "metadata": {},
   "source": [
    "# Recipe A.2: Have a look at the data"
   ]
  },
  {
   "cell_type": "code",
   "execution_count": 585,
   "metadata": {
    "scrolled": true
   },
   "outputs": [
    {
     "name": "stdout",
     "output_type": "stream",
     "text": [
      "<class 'pandas.core.frame.DataFrame'>\n",
      "RangeIndex: 4818 entries, 0 to 4817\n",
      "Data columns (total 66 columns):\n",
      "X1          4818 non-null object\n",
      "X2          4818 non-null object\n",
      "X3          4818 non-null object\n",
      "X4          4818 non-null object\n",
      "X5          4818 non-null object\n",
      "X6          4818 non-null object\n",
      "X7          4818 non-null object\n",
      "X8          4818 non-null object\n",
      "X9          4818 non-null float64\n",
      "X10         4818 non-null object\n",
      "X11         4818 non-null object\n",
      "X12         4818 non-null object\n",
      "X13         4818 non-null float64\n",
      "X14         4818 non-null object\n",
      "X15         4818 non-null object\n",
      "X16         4818 non-null object\n",
      "X17         4818 non-null object\n",
      "X18         4818 non-null object\n",
      "X19         4818 non-null float64\n",
      "X20         4818 non-null float64\n",
      "X21         4818 non-null object\n",
      "X22         4818 non-null object\n",
      "X23         4818 non-null float64\n",
      "X24         4818 non-null object\n",
      "X25         4818 non-null object\n",
      "X26         4818 non-null object\n",
      "X27         4818 non-null object\n",
      "X28         4818 non-null object\n",
      "X29         4818 non-null object\n",
      "X30         4818 non-null float64\n",
      "X31         4818 non-null float64\n",
      "X32         4818 non-null object\n",
      "X33         4818 non-null object\n",
      "X34         4818 non-null object\n",
      "X35         4818 non-null object\n",
      "X36         4818 non-null object\n",
      "X37         4818 non-null object\n",
      "X38         4818 non-null object\n",
      "X39         4818 non-null float64\n",
      "X40         4818 non-null object\n",
      "X41         4818 non-null object\n",
      "X42         4818 non-null float64\n",
      "X43         4818 non-null float64\n",
      "X44         4818 non-null float64\n",
      "X45         4818 non-null object\n",
      "X46         4818 non-null object\n",
      "X47         4818 non-null object\n",
      "X48         4818 non-null object\n",
      "X49         4818 non-null float64\n",
      "X50         4818 non-null object\n",
      "X51         4818 non-null object\n",
      "X52         4818 non-null object\n",
      "X53         4818 non-null object\n",
      "X54         4818 non-null object\n",
      "X55         4818 non-null float64\n",
      "X56         4818 non-null float64\n",
      "X57         4818 non-null object\n",
      "X58         4818 non-null float64\n",
      "X59         4818 non-null object\n",
      "X60         4818 non-null object\n",
      "X61         4818 non-null object\n",
      "X62         4818 non-null float64\n",
      "X63         4818 non-null object\n",
      "X64         4818 non-null object\n",
      "Bankrupt    4818 non-null int64\n",
      "Id          4818 non-null int64\n",
      "dtypes: float64(16), int64(2), object(48)\n",
      "memory usage: 2.4+ MB\n"
     ]
    },
    {
     "data": {
      "text/html": [
       "<div>\n",
       "<style scoped>\n",
       "    .dataframe tbody tr th:only-of-type {\n",
       "        vertical-align: middle;\n",
       "    }\n",
       "\n",
       "    .dataframe tbody tr th {\n",
       "        vertical-align: top;\n",
       "    }\n",
       "\n",
       "    .dataframe thead th {\n",
       "        text-align: right;\n",
       "    }\n",
       "</style>\n",
       "<table border=\"1\" class=\"dataframe\">\n",
       "  <thead>\n",
       "    <tr style=\"text-align: right;\">\n",
       "      <th></th>\n",
       "      <th>X1</th>\n",
       "      <th>X2</th>\n",
       "      <th>X3</th>\n",
       "      <th>X4</th>\n",
       "      <th>X5</th>\n",
       "      <th>X6</th>\n",
       "      <th>X7</th>\n",
       "      <th>X8</th>\n",
       "      <th>X9</th>\n",
       "      <th>X10</th>\n",
       "      <th>...</th>\n",
       "      <th>X57</th>\n",
       "      <th>X58</th>\n",
       "      <th>X59</th>\n",
       "      <th>X60</th>\n",
       "      <th>X61</th>\n",
       "      <th>X62</th>\n",
       "      <th>X63</th>\n",
       "      <th>X64</th>\n",
       "      <th>Bankrupt</th>\n",
       "      <th>Id</th>\n",
       "    </tr>\n",
       "  </thead>\n",
       "  <tbody>\n",
       "    <tr>\n",
       "      <th>0</th>\n",
       "      <td>0.025417</td>\n",
       "      <td>0.41769</td>\n",
       "      <td>0.0568</td>\n",
       "      <td>1.1605</td>\n",
       "      <td>-126.39</td>\n",
       "      <td>0.41355</td>\n",
       "      <td>0.025417</td>\n",
       "      <td>1.2395</td>\n",
       "      <td>1.16500</td>\n",
       "      <td>0.51773</td>\n",
       "      <td>...</td>\n",
       "      <td>0.049094</td>\n",
       "      <td>0.85835</td>\n",
       "      <td>0.12322</td>\n",
       "      <td>5.6167</td>\n",
       "      <td>7.4042</td>\n",
       "      <td>164.310</td>\n",
       "      <td>2.2214</td>\n",
       "      <td>1.334</td>\n",
       "      <td>0</td>\n",
       "      <td>4510</td>\n",
       "    </tr>\n",
       "    <tr>\n",
       "      <th>1</th>\n",
       "      <td>-0.023834</td>\n",
       "      <td>0.2101</td>\n",
       "      <td>0.50839</td>\n",
       "      <td>4.2374</td>\n",
       "      <td>22.034</td>\n",
       "      <td>0.058412</td>\n",
       "      <td>-0.027621</td>\n",
       "      <td>3.6579</td>\n",
       "      <td>0.98183</td>\n",
       "      <td>0.76855</td>\n",
       "      <td>...</td>\n",
       "      <td>-0.031011</td>\n",
       "      <td>1.01850</td>\n",
       "      <td>0.069047</td>\n",
       "      <td>5.7996</td>\n",
       "      <td>7.7529</td>\n",
       "      <td>26.446</td>\n",
       "      <td>13.802</td>\n",
       "      <td>6.4782</td>\n",
       "      <td>0</td>\n",
       "      <td>3537</td>\n",
       "    </tr>\n",
       "    <tr>\n",
       "      <th>2</th>\n",
       "      <td>0.030515</td>\n",
       "      <td>0.44606</td>\n",
       "      <td>0.19569</td>\n",
       "      <td>1.565</td>\n",
       "      <td>35.766</td>\n",
       "      <td>0.28196</td>\n",
       "      <td>0.039264</td>\n",
       "      <td>0.88456</td>\n",
       "      <td>1.05260</td>\n",
       "      <td>0.39457</td>\n",
       "      <td>...</td>\n",
       "      <td>0.077337</td>\n",
       "      <td>0.95006</td>\n",
       "      <td>0.25266</td>\n",
       "      <td>15.049</td>\n",
       "      <td>2.8179</td>\n",
       "      <td>104.730</td>\n",
       "      <td>3.4852</td>\n",
       "      <td>2.6361</td>\n",
       "      <td>0</td>\n",
       "      <td>3920</td>\n",
       "    </tr>\n",
       "    <tr>\n",
       "      <th>3</th>\n",
       "      <td>0.052318</td>\n",
       "      <td>0.056366</td>\n",
       "      <td>0.54562</td>\n",
       "      <td>10.68</td>\n",
       "      <td>438.2</td>\n",
       "      <td>0.13649</td>\n",
       "      <td>0.058164</td>\n",
       "      <td>10.853</td>\n",
       "      <td>1.02790</td>\n",
       "      <td>0.61173</td>\n",
       "      <td>...</td>\n",
       "      <td>0.085524</td>\n",
       "      <td>0.97282</td>\n",
       "      <td>0</td>\n",
       "      <td>6.0157</td>\n",
       "      <td>7.4626</td>\n",
       "      <td>48.756</td>\n",
       "      <td>7.4863</td>\n",
       "      <td>1.0602</td>\n",
       "      <td>0</td>\n",
       "      <td>1806</td>\n",
       "    </tr>\n",
       "    <tr>\n",
       "      <th>4</th>\n",
       "      <td>0.000992</td>\n",
       "      <td>0.49712</td>\n",
       "      <td>0.12316</td>\n",
       "      <td>1.3036</td>\n",
       "      <td>-71.398</td>\n",
       "      <td>0</td>\n",
       "      <td>0.001007</td>\n",
       "      <td>1.0116</td>\n",
       "      <td>1.29210</td>\n",
       "      <td>0.50288</td>\n",
       "      <td>...</td>\n",
       "      <td>0.001974</td>\n",
       "      <td>0.99925</td>\n",
       "      <td>0.019736</td>\n",
       "      <td>3.4819</td>\n",
       "      <td>8.582</td>\n",
       "      <td>114.580</td>\n",
       "      <td>3.1854</td>\n",
       "      <td>2.742</td>\n",
       "      <td>0</td>\n",
       "      <td>1529</td>\n",
       "    </tr>\n",
       "  </tbody>\n",
       "</table>\n",
       "<p>5 rows × 66 columns</p>\n",
       "</div>"
      ],
      "text/plain": [
       "          X1        X2       X3      X4       X5        X6         X7  \\\n",
       "0   0.025417   0.41769   0.0568  1.1605  -126.39   0.41355   0.025417   \n",
       "1  -0.023834    0.2101  0.50839  4.2374   22.034  0.058412  -0.027621   \n",
       "2   0.030515   0.44606  0.19569   1.565   35.766   0.28196   0.039264   \n",
       "3   0.052318  0.056366  0.54562   10.68    438.2   0.13649   0.058164   \n",
       "4   0.000992   0.49712  0.12316  1.3036  -71.398         0   0.001007   \n",
       "\n",
       "        X8       X9      X10  ...         X57      X58       X59     X60  \\\n",
       "0   1.2395  1.16500  0.51773  ...    0.049094  0.85835   0.12322  5.6167   \n",
       "1   3.6579  0.98183  0.76855  ...   -0.031011  1.01850  0.069047  5.7996   \n",
       "2  0.88456  1.05260  0.39457  ...    0.077337  0.95006   0.25266  15.049   \n",
       "3   10.853  1.02790  0.61173  ...    0.085524  0.97282         0  6.0157   \n",
       "4   1.0116  1.29210  0.50288  ...    0.001974  0.99925  0.019736  3.4819   \n",
       "\n",
       "      X61      X62     X63     X64  Bankrupt    Id  \n",
       "0  7.4042  164.310  2.2214   1.334         0  4510  \n",
       "1  7.7529   26.446  13.802  6.4782         0  3537  \n",
       "2  2.8179  104.730  3.4852  2.6361         0  3920  \n",
       "3  7.4626   48.756  7.4863  1.0602         0  1806  \n",
       "4   8.582  114.580  3.1854   2.742         0  1529  \n",
       "\n",
       "[5 rows x 66 columns]"
      ]
     },
     "execution_count": 585,
     "metadata": {},
     "output_type": "execute_result"
    }
   ],
   "source": [
    "data.info()\n",
    "data.head()"
   ]
  },
  {
   "cell_type": "code",
   "execution_count": 586,
   "metadata": {
    "scrolled": false
   },
   "outputs": [
    {
     "data": {
      "text/html": [
       "<div>\n",
       "<style scoped>\n",
       "    .dataframe tbody tr th:only-of-type {\n",
       "        vertical-align: middle;\n",
       "    }\n",
       "\n",
       "    .dataframe tbody tr th {\n",
       "        vertical-align: top;\n",
       "    }\n",
       "\n",
       "    .dataframe thead th {\n",
       "        text-align: right;\n",
       "    }\n",
       "</style>\n",
       "<table border=\"1\" class=\"dataframe\">\n",
       "  <thead>\n",
       "    <tr style=\"text-align: right;\">\n",
       "      <th></th>\n",
       "      <th>X1</th>\n",
       "      <th>X2</th>\n",
       "      <th>X3</th>\n",
       "      <th>X4</th>\n",
       "      <th>X5</th>\n",
       "      <th>X6</th>\n",
       "      <th>X7</th>\n",
       "      <th>X8</th>\n",
       "      <th>X9</th>\n",
       "      <th>X10</th>\n",
       "      <th>...</th>\n",
       "      <th>X57</th>\n",
       "      <th>X58</th>\n",
       "      <th>X59</th>\n",
       "      <th>X60</th>\n",
       "      <th>X61</th>\n",
       "      <th>X62</th>\n",
       "      <th>X63</th>\n",
       "      <th>X64</th>\n",
       "      <th>Bankrupt</th>\n",
       "      <th>Id</th>\n",
       "    </tr>\n",
       "  </thead>\n",
       "  <tbody>\n",
       "    <tr>\n",
       "      <th>4813</th>\n",
       "      <td>0.21199</td>\n",
       "      <td>0.20585</td>\n",
       "      <td>0.1417</td>\n",
       "      <td>1.7941</td>\n",
       "      <td>72.981</td>\n",
       "      <td>0</td>\n",
       "      <td>0.26531</td>\n",
       "      <td>3.8579</td>\n",
       "      <td>0.9842</td>\n",
       "      <td>0.79415</td>\n",
       "      <td>...</td>\n",
       "      <td>0.26694</td>\n",
       "      <td>0.73275</td>\n",
       "      <td>0.022101</td>\n",
       "      <td>?</td>\n",
       "      <td>3.5081</td>\n",
       "      <td>66.1710</td>\n",
       "      <td>5.516</td>\n",
       "      <td>1.4476</td>\n",
       "      <td>0</td>\n",
       "      <td>1985</td>\n",
       "    </tr>\n",
       "    <tr>\n",
       "      <th>4814</th>\n",
       "      <td>0.3119</td>\n",
       "      <td>0.09958</td>\n",
       "      <td>0.57936</td>\n",
       "      <td>10.679</td>\n",
       "      <td>245.98</td>\n",
       "      <td>0</td>\n",
       "      <td>0.31317</td>\n",
       "      <td>9.0422</td>\n",
       "      <td>1.0516</td>\n",
       "      <td>0.90042</td>\n",
       "      <td>...</td>\n",
       "      <td>0.3464</td>\n",
       "      <td>0.70705</td>\n",
       "      <td>0.044114</td>\n",
       "      <td>14.018</td>\n",
       "      <td>7.0618</td>\n",
       "      <td>20.7760</td>\n",
       "      <td>17.568</td>\n",
       "      <td>2.9149</td>\n",
       "      <td>0</td>\n",
       "      <td>3963</td>\n",
       "    </tr>\n",
       "    <tr>\n",
       "      <th>4815</th>\n",
       "      <td>-0.029746</td>\n",
       "      <td>0.44898</td>\n",
       "      <td>0.39136</td>\n",
       "      <td>1.9388</td>\n",
       "      <td>7.8073</td>\n",
       "      <td>-0.020006</td>\n",
       "      <td>-0.030561</td>\n",
       "      <td>1.2259</td>\n",
       "      <td>1.0001</td>\n",
       "      <td>0.5504</td>\n",
       "      <td>...</td>\n",
       "      <td>-0.054046</td>\n",
       "      <td>0.99986</td>\n",
       "      <td>0.058336</td>\n",
       "      <td>15.547</td>\n",
       "      <td>8.7022</td>\n",
       "      <td>34.3700</td>\n",
       "      <td>10.62</td>\n",
       "      <td>23.086</td>\n",
       "      <td>0</td>\n",
       "      <td>4167</td>\n",
       "    </tr>\n",
       "    <tr>\n",
       "      <th>4816</th>\n",
       "      <td>0.28473</td>\n",
       "      <td>0.079573</td>\n",
       "      <td>0.46261</td>\n",
       "      <td>6.8137</td>\n",
       "      <td>-81.158</td>\n",
       "      <td>-0.79551</td>\n",
       "      <td>0.28473</td>\n",
       "      <td>11.567</td>\n",
       "      <td>6.0718</td>\n",
       "      <td>0.92043</td>\n",
       "      <td>...</td>\n",
       "      <td>0.30935</td>\n",
       "      <td>0.19889</td>\n",
       "      <td>0</td>\n",
       "      <td>?</td>\n",
       "      <td>28.5</td>\n",
       "      <td>4.7834</td>\n",
       "      <td>76.305</td>\n",
       "      <td>13.263</td>\n",
       "      <td>0</td>\n",
       "      <td>1579</td>\n",
       "    </tr>\n",
       "    <tr>\n",
       "      <th>4817</th>\n",
       "      <td>0.12009</td>\n",
       "      <td>0.63072</td>\n",
       "      <td>-0.10501</td>\n",
       "      <td>0.81336</td>\n",
       "      <td>-43.226</td>\n",
       "      <td>-0.17492</td>\n",
       "      <td>0.15424</td>\n",
       "      <td>0.5855</td>\n",
       "      <td>3.1990</td>\n",
       "      <td>0.36928</td>\n",
       "      <td>...</td>\n",
       "      <td>0.3252</td>\n",
       "      <td>0.04347</td>\n",
       "      <td>0</td>\n",
       "      <td>12.825</td>\n",
       "      <td>16.441</td>\n",
       "      <td>64.1950</td>\n",
       "      <td>5.6858</td>\n",
       "      <td>5.8982</td>\n",
       "      <td>0</td>\n",
       "      <td>3294</td>\n",
       "    </tr>\n",
       "  </tbody>\n",
       "</table>\n",
       "<p>5 rows × 66 columns</p>\n",
       "</div>"
      ],
      "text/plain": [
       "             X1        X2        X3       X4       X5         X6         X7  \\\n",
       "4813    0.21199   0.20585    0.1417   1.7941   72.981          0    0.26531   \n",
       "4814     0.3119   0.09958   0.57936   10.679   245.98          0    0.31317   \n",
       "4815  -0.029746   0.44898   0.39136   1.9388   7.8073  -0.020006  -0.030561   \n",
       "4816    0.28473  0.079573   0.46261   6.8137  -81.158   -0.79551    0.28473   \n",
       "4817    0.12009   0.63072  -0.10501  0.81336  -43.226   -0.17492    0.15424   \n",
       "\n",
       "          X8      X9      X10  ...         X57      X58       X59     X60  \\\n",
       "4813  3.8579  0.9842  0.79415  ...     0.26694  0.73275  0.022101       ?   \n",
       "4814  9.0422  1.0516  0.90042  ...      0.3464  0.70705  0.044114  14.018   \n",
       "4815  1.2259  1.0001   0.5504  ...   -0.054046  0.99986  0.058336  15.547   \n",
       "4816  11.567  6.0718  0.92043  ...     0.30935  0.19889         0       ?   \n",
       "4817  0.5855  3.1990  0.36928  ...      0.3252  0.04347         0  12.825   \n",
       "\n",
       "         X61      X62     X63     X64  Bankrupt    Id  \n",
       "4813  3.5081  66.1710   5.516  1.4476         0  1985  \n",
       "4814  7.0618  20.7760  17.568  2.9149         0  3963  \n",
       "4815  8.7022  34.3700   10.62  23.086         0  4167  \n",
       "4816    28.5   4.7834  76.305  13.263         0  1579  \n",
       "4817  16.441  64.1950  5.6858  5.8982         0  3294  \n",
       "\n",
       "[5 rows x 66 columns]"
      ]
     },
     "execution_count": 586,
     "metadata": {},
     "output_type": "execute_result"
    }
   ],
   "source": [
    "data.tail()"
   ]
  },
  {
   "cell_type": "markdown",
   "metadata": {},
   "source": [
    "- No null data in any column.\n",
    "- However, we notice that there are \"?\" in some attributes. We need to replace the text data \"?\" with some numerical data later."
   ]
  },
  {
   "cell_type": "code",
   "execution_count": 587,
   "metadata": {
    "scrolled": true
   },
   "outputs": [
    {
     "data": {
      "text/plain": [
       "X1           object\n",
       "X2           object\n",
       "X3           object\n",
       "X4           object\n",
       "X5           object\n",
       "X6           object\n",
       "X7           object\n",
       "X8           object\n",
       "X9          float64\n",
       "X10          object\n",
       "X11          object\n",
       "X12          object\n",
       "X13         float64\n",
       "X14          object\n",
       "X15          object\n",
       "X16          object\n",
       "X17          object\n",
       "X18          object\n",
       "X19         float64\n",
       "X20         float64\n",
       "X21          object\n",
       "X22          object\n",
       "X23         float64\n",
       "X24          object\n",
       "X25          object\n",
       "X26          object\n",
       "X27          object\n",
       "X28          object\n",
       "X29          object\n",
       "X30         float64\n",
       "             ...   \n",
       "X37          object\n",
       "X38          object\n",
       "X39         float64\n",
       "X40          object\n",
       "X41          object\n",
       "X42         float64\n",
       "X43         float64\n",
       "X44         float64\n",
       "X45          object\n",
       "X46          object\n",
       "X47          object\n",
       "X48          object\n",
       "X49         float64\n",
       "X50          object\n",
       "X51          object\n",
       "X52          object\n",
       "X53          object\n",
       "X54          object\n",
       "X55         float64\n",
       "X56         float64\n",
       "X57          object\n",
       "X58         float64\n",
       "X59          object\n",
       "X60          object\n",
       "X61          object\n",
       "X62         float64\n",
       "X63          object\n",
       "X64          object\n",
       "Bankrupt      int64\n",
       "Id            int64\n",
       "Length: 66, dtype: object"
      ]
     },
     "execution_count": 587,
     "metadata": {},
     "output_type": "execute_result"
    }
   ],
   "source": [
    "data.dtypes"
   ]
  },
  {
   "cell_type": "markdown",
   "metadata": {},
   "source": [
    "- Indeed, X1 through X64 should all be float64 rather than object, because those accounting attributes are all floating point numbers with decimal places.\n",
    "- We also need to change data type later."
   ]
  },
  {
   "cell_type": "code",
   "execution_count": 588,
   "metadata": {
    "scrolled": false
   },
   "outputs": [
    {
     "data": {
      "text/html": [
       "<div>\n",
       "<style scoped>\n",
       "    .dataframe tbody tr th:only-of-type {\n",
       "        vertical-align: middle;\n",
       "    }\n",
       "\n",
       "    .dataframe tbody tr th {\n",
       "        vertical-align: top;\n",
       "    }\n",
       "\n",
       "    .dataframe thead th {\n",
       "        text-align: right;\n",
       "    }\n",
       "</style>\n",
       "<table border=\"1\" class=\"dataframe\">\n",
       "  <thead>\n",
       "    <tr style=\"text-align: right;\">\n",
       "      <th></th>\n",
       "      <th>X9</th>\n",
       "      <th>X13</th>\n",
       "      <th>X19</th>\n",
       "      <th>X20</th>\n",
       "      <th>X23</th>\n",
       "      <th>X30</th>\n",
       "      <th>X31</th>\n",
       "      <th>X39</th>\n",
       "      <th>X42</th>\n",
       "      <th>X43</th>\n",
       "      <th>X44</th>\n",
       "      <th>X49</th>\n",
       "      <th>X55</th>\n",
       "      <th>X56</th>\n",
       "      <th>X58</th>\n",
       "      <th>X62</th>\n",
       "      <th>Bankrupt</th>\n",
       "      <th>Id</th>\n",
       "    </tr>\n",
       "  </thead>\n",
       "  <tbody>\n",
       "    <tr>\n",
       "      <th>count</th>\n",
       "      <td>4818.000000</td>\n",
       "      <td>4818.000000</td>\n",
       "      <td>4818.000000</td>\n",
       "      <td>4818.000000</td>\n",
       "      <td>4818.000000</td>\n",
       "      <td>4818.000000</td>\n",
       "      <td>4818.000000</td>\n",
       "      <td>4818.000000</td>\n",
       "      <td>4818.000000</td>\n",
       "      <td>4818.000000</td>\n",
       "      <td>4818.000000</td>\n",
       "      <td>4818.000000</td>\n",
       "      <td>4.818000e+03</td>\n",
       "      <td>4818.000000</td>\n",
       "      <td>4818.000000</td>\n",
       "      <td>4818.000000</td>\n",
       "      <td>4818.000000</td>\n",
       "      <td>4818.000000</td>\n",
       "    </tr>\n",
       "    <tr>\n",
       "      <th>mean</th>\n",
       "      <td>1.579277</td>\n",
       "      <td>0.452284</td>\n",
       "      <td>-0.082028</td>\n",
       "      <td>57.002168</td>\n",
       "      <td>-0.090357</td>\n",
       "      <td>0.691991</td>\n",
       "      <td>-0.068612</td>\n",
       "      <td>0.019158</td>\n",
       "      <td>-0.014902</td>\n",
       "      <td>155.612840</td>\n",
       "      <td>98.610765</td>\n",
       "      <td>-0.072253</td>\n",
       "      <td>1.074023e+04</td>\n",
       "      <td>0.056109</td>\n",
       "      <td>0.959585</td>\n",
       "      <td>177.494445</td>\n",
       "      <td>0.063927</td>\n",
       "      <td>3499.858032</td>\n",
       "    </tr>\n",
       "    <tr>\n",
       "      <th>std</th>\n",
       "      <td>1.342723</td>\n",
       "      <td>34.196231</td>\n",
       "      <td>5.754879</td>\n",
       "      <td>182.018911</td>\n",
       "      <td>5.725258</td>\n",
       "      <td>11.217691</td>\n",
       "      <td>5.748967</td>\n",
       "      <td>0.756891</td>\n",
       "      <td>2.617310</td>\n",
       "      <td>795.989622</td>\n",
       "      <td>725.594072</td>\n",
       "      <td>2.638443</td>\n",
       "      <td>8.284685e+04</td>\n",
       "      <td>0.755462</td>\n",
       "      <td>0.932427</td>\n",
       "      <td>2279.713700</td>\n",
       "      <td>0.244648</td>\n",
       "      <td>1392.049260</td>\n",
       "    </tr>\n",
       "    <tr>\n",
       "      <th>min</th>\n",
       "      <td>0.000191</td>\n",
       "      <td>-310.340000</td>\n",
       "      <td>-310.800000</td>\n",
       "      <td>-29.340000</td>\n",
       "      <td>-310.890000</td>\n",
       "      <td>-23.060000</td>\n",
       "      <td>-310.800000</td>\n",
       "      <td>-47.047000</td>\n",
       "      <td>-143.520000</td>\n",
       "      <td>-3975.600000</td>\n",
       "      <td>-3946.200000</td>\n",
       "      <td>-144.800000</td>\n",
       "      <td>-1.118500e+06</td>\n",
       "      <td>-46.788000</td>\n",
       "      <td>-0.085920</td>\n",
       "      <td>0.000000</td>\n",
       "      <td>0.000000</td>\n",
       "      <td>1071.000000</td>\n",
       "    </tr>\n",
       "    <tr>\n",
       "      <th>25%</th>\n",
       "      <td>1.015600</td>\n",
       "      <td>0.024954</td>\n",
       "      <td>0.004368</td>\n",
       "      <td>18.537750</td>\n",
       "      <td>0.002728</td>\n",
       "      <td>0.085560</td>\n",
       "      <td>0.007006</td>\n",
       "      <td>0.005536</td>\n",
       "      <td>0.000687</td>\n",
       "      <td>76.214500</td>\n",
       "      <td>39.050250</td>\n",
       "      <td>-0.022447</td>\n",
       "      <td>9.771450e+01</td>\n",
       "      <td>0.011478</td>\n",
       "      <td>0.876940</td>\n",
       "      <td>45.065750</td>\n",
       "      <td>0.000000</td>\n",
       "      <td>2296.250000</td>\n",
       "    </tr>\n",
       "    <tr>\n",
       "      <th>50%</th>\n",
       "      <td>1.140500</td>\n",
       "      <td>0.067723</td>\n",
       "      <td>0.035307</td>\n",
       "      <td>38.623000</td>\n",
       "      <td>0.030074</td>\n",
       "      <td>0.225955</td>\n",
       "      <td>0.042826</td>\n",
       "      <td>0.040252</td>\n",
       "      <td>0.040963</td>\n",
       "      <td>106.670000</td>\n",
       "      <td>59.014000</td>\n",
       "      <td>0.012481</td>\n",
       "      <td>1.829500e+03</td>\n",
       "      <td>0.053663</td>\n",
       "      <td>0.950825</td>\n",
       "      <td>73.879500</td>\n",
       "      <td>0.000000</td>\n",
       "      <td>3500.500000</td>\n",
       "    </tr>\n",
       "    <tr>\n",
       "      <th>75%</th>\n",
       "      <td>1.814050</td>\n",
       "      <td>0.134847</td>\n",
       "      <td>0.088287</td>\n",
       "      <td>66.850750</td>\n",
       "      <td>0.075800</td>\n",
       "      <td>0.406145</td>\n",
       "      <td>0.098331</td>\n",
       "      <td>0.091854</td>\n",
       "      <td>0.090831</td>\n",
       "      <td>149.365000</td>\n",
       "      <td>86.087750</td>\n",
       "      <td>0.060499</td>\n",
       "      <td>7.786950e+03</td>\n",
       "      <td>0.124030</td>\n",
       "      <td>0.990358</td>\n",
       "      <td>118.597500</td>\n",
       "      <td>0.000000</td>\n",
       "      <td>4704.750000</td>\n",
       "    </tr>\n",
       "    <tr>\n",
       "      <th>max</th>\n",
       "      <td>37.807000</td>\n",
       "      <td>2340.200000</td>\n",
       "      <td>77.244000</td>\n",
       "      <td>9928.500000</td>\n",
       "      <td>77.244000</td>\n",
       "      <td>656.450000</td>\n",
       "      <td>77.244000</td>\n",
       "      <td>2.901100</td>\n",
       "      <td>40.386000</td>\n",
       "      <td>40515.000000</td>\n",
       "      <td>40515.000000</td>\n",
       "      <td>16.866000</td>\n",
       "      <td>4.212200e+06</td>\n",
       "      <td>1.000000</td>\n",
       "      <td>47.788000</td>\n",
       "      <td>127450.000000</td>\n",
       "      <td>1.000000</td>\n",
       "      <td>5909.000000</td>\n",
       "    </tr>\n",
       "  </tbody>\n",
       "</table>\n",
       "</div>"
      ],
      "text/plain": [
       "                X9          X13          X19          X20          X23  \\\n",
       "count  4818.000000  4818.000000  4818.000000  4818.000000  4818.000000   \n",
       "mean      1.579277     0.452284    -0.082028    57.002168    -0.090357   \n",
       "std       1.342723    34.196231     5.754879   182.018911     5.725258   \n",
       "min       0.000191  -310.340000  -310.800000   -29.340000  -310.890000   \n",
       "25%       1.015600     0.024954     0.004368    18.537750     0.002728   \n",
       "50%       1.140500     0.067723     0.035307    38.623000     0.030074   \n",
       "75%       1.814050     0.134847     0.088287    66.850750     0.075800   \n",
       "max      37.807000  2340.200000    77.244000  9928.500000    77.244000   \n",
       "\n",
       "               X30          X31          X39          X42           X43  \\\n",
       "count  4818.000000  4818.000000  4818.000000  4818.000000   4818.000000   \n",
       "mean      0.691991    -0.068612     0.019158    -0.014902    155.612840   \n",
       "std      11.217691     5.748967     0.756891     2.617310    795.989622   \n",
       "min     -23.060000  -310.800000   -47.047000  -143.520000  -3975.600000   \n",
       "25%       0.085560     0.007006     0.005536     0.000687     76.214500   \n",
       "50%       0.225955     0.042826     0.040252     0.040963    106.670000   \n",
       "75%       0.406145     0.098331     0.091854     0.090831    149.365000   \n",
       "max     656.450000    77.244000     2.901100    40.386000  40515.000000   \n",
       "\n",
       "                X44          X49           X55          X56          X58  \\\n",
       "count   4818.000000  4818.000000  4.818000e+03  4818.000000  4818.000000   \n",
       "mean      98.610765    -0.072253  1.074023e+04     0.056109     0.959585   \n",
       "std      725.594072     2.638443  8.284685e+04     0.755462     0.932427   \n",
       "min    -3946.200000  -144.800000 -1.118500e+06   -46.788000    -0.085920   \n",
       "25%       39.050250    -0.022447  9.771450e+01     0.011478     0.876940   \n",
       "50%       59.014000     0.012481  1.829500e+03     0.053663     0.950825   \n",
       "75%       86.087750     0.060499  7.786950e+03     0.124030     0.990358   \n",
       "max    40515.000000    16.866000  4.212200e+06     1.000000    47.788000   \n",
       "\n",
       "                 X62     Bankrupt           Id  \n",
       "count    4818.000000  4818.000000  4818.000000  \n",
       "mean      177.494445     0.063927  3499.858032  \n",
       "std      2279.713700     0.244648  1392.049260  \n",
       "min         0.000000     0.000000  1071.000000  \n",
       "25%        45.065750     0.000000  2296.250000  \n",
       "50%        73.879500     0.000000  3500.500000  \n",
       "75%       118.597500     0.000000  4704.750000  \n",
       "max    127450.000000     1.000000  5909.000000  "
      ]
     },
     "execution_count": 588,
     "metadata": {},
     "output_type": "execute_result"
    }
   ],
   "source": [
    "data.describe()"
   ]
  },
  {
   "cell_type": "code",
   "execution_count": 589,
   "metadata": {},
   "outputs": [
    {
     "data": {
      "text/plain": [
       "(4818, 66)"
      ]
     },
     "execution_count": 589,
     "metadata": {},
     "output_type": "execute_result"
    }
   ],
   "source": [
    "data.shape"
   ]
  },
  {
   "cell_type": "markdown",
   "metadata": {},
   "source": [
    "# Recipe A.3: Define a performance measure\n",
    "- Let's use Accuracy as a performance measure. We also check recall, precision, specificity & false positive.\n",
    "- Indeed, we'll find out later that accuracy is not a very good performance measure here. We will instead use F1 score as a performance measure after resampling in the extra credit part 1."
   ]
  },
  {
   "cell_type": "markdown",
   "metadata": {},
   "source": [
    "# Recipe A.4: Create a test set\n",
    "\n",
    "- \"holdout\" **does not** have targets (Column \"Bankrupt\") associated with it, so we can't use data in \"holdout\" as examples on which to evaluate the Performance Metric.\n",
    "\n",
    "- So, let's further split \"data\" into X_train, y_train, X_test, y_test"
   ]
  },
  {
   "cell_type": "code",
   "execution_count": 590,
   "metadata": {},
   "outputs": [],
   "source": [
    "X_train, X_test, y_train, y_test = train_test_split(\n",
    "    data.drop(columns = ['Bankrupt']), data['Bankrupt'], test_size=0.2, random_state=42)"
   ]
  },
  {
   "cell_type": "code",
   "execution_count": 591,
   "metadata": {},
   "outputs": [
    {
     "data": {
      "text/plain": [
       "((3854, 65), (964, 65), (3854,), (964,))"
      ]
     },
     "execution_count": 591,
     "metadata": {},
     "output_type": "execute_result"
    }
   ],
   "source": [
    "# Let's take a look at the shape \n",
    "X_train.shape, X_test.shape, y_train.shape, y_test.shape "
   ]
  },
  {
   "cell_type": "code",
   "execution_count": 592,
   "metadata": {
    "scrolled": true
   },
   "outputs": [
    {
     "data": {
      "text/html": [
       "<div>\n",
       "<style scoped>\n",
       "    .dataframe tbody tr th:only-of-type {\n",
       "        vertical-align: middle;\n",
       "    }\n",
       "\n",
       "    .dataframe tbody tr th {\n",
       "        vertical-align: top;\n",
       "    }\n",
       "\n",
       "    .dataframe thead th {\n",
       "        text-align: right;\n",
       "    }\n",
       "</style>\n",
       "<table border=\"1\" class=\"dataframe\">\n",
       "  <thead>\n",
       "    <tr style=\"text-align: right;\">\n",
       "      <th></th>\n",
       "      <th>X1</th>\n",
       "      <th>X2</th>\n",
       "      <th>X3</th>\n",
       "      <th>X4</th>\n",
       "      <th>X5</th>\n",
       "      <th>X6</th>\n",
       "      <th>X7</th>\n",
       "      <th>X8</th>\n",
       "      <th>X9</th>\n",
       "      <th>X10</th>\n",
       "      <th>...</th>\n",
       "      <th>X56</th>\n",
       "      <th>X57</th>\n",
       "      <th>X58</th>\n",
       "      <th>X59</th>\n",
       "      <th>X60</th>\n",
       "      <th>X61</th>\n",
       "      <th>X62</th>\n",
       "      <th>X63</th>\n",
       "      <th>X64</th>\n",
       "      <th>Id</th>\n",
       "    </tr>\n",
       "  </thead>\n",
       "  <tbody>\n",
       "    <tr>\n",
       "      <th>220</th>\n",
       "      <td>0.044757</td>\n",
       "      <td>0.49112</td>\n",
       "      <td>0.001948</td>\n",
       "      <td>1.0137</td>\n",
       "      <td>-10.922</td>\n",
       "      <td>0.13414</td>\n",
       "      <td>0.050963</td>\n",
       "      <td>0.97991</td>\n",
       "      <td>1.0891</td>\n",
       "      <td>0.48125</td>\n",
       "      <td>...</td>\n",
       "      <td>0.081838</td>\n",
       "      <td>0.093001</td>\n",
       "      <td>0.91816</td>\n",
       "      <td>0.72595</td>\n",
       "      <td>39.822</td>\n",
       "      <td>11.499</td>\n",
       "      <td>109.670</td>\n",
       "      <td>3.3281</td>\n",
       "      <td>0.55093</td>\n",
       "      <td>5691</td>\n",
       "    </tr>\n",
       "    <tr>\n",
       "      <th>1361</th>\n",
       "      <td>0.00969</td>\n",
       "      <td>0.60158</td>\n",
       "      <td>0.21247</td>\n",
       "      <td>2.6707</td>\n",
       "      <td>42.71</td>\n",
       "      <td>0.035651</td>\n",
       "      <td>0.012172</td>\n",
       "      <td>0.62063</td>\n",
       "      <td>1.0472</td>\n",
       "      <td>0.37336</td>\n",
       "      <td>...</td>\n",
       "      <td>0.045033</td>\n",
       "      <td>0.025954</td>\n",
       "      <td>0.95497</td>\n",
       "      <td>1.2706</td>\n",
       "      <td>10.178</td>\n",
       "      <td>4.8416</td>\n",
       "      <td>45.180</td>\n",
       "      <td>8.0788</td>\n",
       "      <td>1.5559</td>\n",
       "      <td>1101</td>\n",
       "    </tr>\n",
       "    <tr>\n",
       "      <th>1010</th>\n",
       "      <td>0.014994</td>\n",
       "      <td>0.73291</td>\n",
       "      <td>0.34177</td>\n",
       "      <td>2.1422</td>\n",
       "      <td>-74.761</td>\n",
       "      <td>0.002097</td>\n",
       "      <td>0.003592</td>\n",
       "      <td>0.36443</td>\n",
       "      <td>1.1278</td>\n",
       "      <td>0.26709</td>\n",
       "      <td>...</td>\n",
       "      <td>0.136290</td>\n",
       "      <td>0.056139</td>\n",
       "      <td>0.99686</td>\n",
       "      <td>1.2507</td>\n",
       "      <td>16.314</td>\n",
       "      <td>13.388</td>\n",
       "      <td>96.841</td>\n",
       "      <td>3.7691</td>\n",
       "      <td>3.1415</td>\n",
       "      <td>4461</td>\n",
       "    </tr>\n",
       "    <tr>\n",
       "      <th>2952</th>\n",
       "      <td>0.351</td>\n",
       "      <td>0.25999</td>\n",
       "      <td>0.672</td>\n",
       "      <td>4.0607</td>\n",
       "      <td>70.293</td>\n",
       "      <td>0</td>\n",
       "      <td>0.43429</td>\n",
       "      <td>2.8463</td>\n",
       "      <td>2.0269</td>\n",
       "      <td>0.74001</td>\n",
       "      <td>...</td>\n",
       "      <td>0.209330</td>\n",
       "      <td>0.47432</td>\n",
       "      <td>0.79193</td>\n",
       "      <td>0</td>\n",
       "      <td>22.838</td>\n",
       "      <td>3.9075</td>\n",
       "      <td>39.539</td>\n",
       "      <td>9.2315</td>\n",
       "      <td>18.69</td>\n",
       "      <td>3715</td>\n",
       "    </tr>\n",
       "    <tr>\n",
       "      <th>2135</th>\n",
       "      <td>0.030069</td>\n",
       "      <td>0.58084</td>\n",
       "      <td>0.004893</td>\n",
       "      <td>1.0101</td>\n",
       "      <td>-9.063</td>\n",
       "      <td>0</td>\n",
       "      <td>0.03983</td>\n",
       "      <td>0.72163</td>\n",
       "      <td>4.6379</td>\n",
       "      <td>0.41916</td>\n",
       "      <td>...</td>\n",
       "      <td>0.009166</td>\n",
       "      <td>0.071737</td>\n",
       "      <td>0.99141</td>\n",
       "      <td>0.22429</td>\n",
       "      <td>44.595</td>\n",
       "      <td>16.789</td>\n",
       "      <td>38.151</td>\n",
       "      <td>9.5672</td>\n",
       "      <td>9.0879</td>\n",
       "      <td>4257</td>\n",
       "    </tr>\n",
       "  </tbody>\n",
       "</table>\n",
       "<p>5 rows × 65 columns</p>\n",
       "</div>"
      ],
      "text/plain": [
       "            X1       X2        X3      X4       X5        X6        X7  \\\n",
       "220   0.044757  0.49112  0.001948  1.0137  -10.922   0.13414  0.050963   \n",
       "1361   0.00969  0.60158   0.21247  2.6707    42.71  0.035651  0.012172   \n",
       "1010  0.014994  0.73291   0.34177  2.1422  -74.761  0.002097  0.003592   \n",
       "2952     0.351  0.25999     0.672  4.0607   70.293         0   0.43429   \n",
       "2135  0.030069  0.58084  0.004893  1.0101   -9.063         0   0.03983   \n",
       "\n",
       "           X8      X9      X10  ...        X56       X57      X58      X59  \\\n",
       "220   0.97991  1.0891  0.48125  ...   0.081838  0.093001  0.91816  0.72595   \n",
       "1361  0.62063  1.0472  0.37336  ...   0.045033  0.025954  0.95497   1.2706   \n",
       "1010  0.36443  1.1278  0.26709  ...   0.136290  0.056139  0.99686   1.2507   \n",
       "2952   2.8463  2.0269  0.74001  ...   0.209330   0.47432  0.79193        0   \n",
       "2135  0.72163  4.6379  0.41916  ...   0.009166  0.071737  0.99141  0.22429   \n",
       "\n",
       "         X60     X61      X62     X63      X64    Id  \n",
       "220   39.822  11.499  109.670  3.3281  0.55093  5691  \n",
       "1361  10.178  4.8416   45.180  8.0788   1.5559  1101  \n",
       "1010  16.314  13.388   96.841  3.7691   3.1415  4461  \n",
       "2952  22.838  3.9075   39.539  9.2315    18.69  3715  \n",
       "2135  44.595  16.789   38.151  9.5672   9.0879  4257  \n",
       "\n",
       "[5 rows x 65 columns]"
      ]
     },
     "execution_count": 592,
     "metadata": {},
     "output_type": "execute_result"
    }
   ],
   "source": [
    "# Let's take a look at the head \n",
    "X_train.head()"
   ]
  },
  {
   "cell_type": "code",
   "execution_count": 593,
   "metadata": {
    "scrolled": true
   },
   "outputs": [
    {
     "data": {
      "text/html": [
       "<div>\n",
       "<style scoped>\n",
       "    .dataframe tbody tr th:only-of-type {\n",
       "        vertical-align: middle;\n",
       "    }\n",
       "\n",
       "    .dataframe tbody tr th {\n",
       "        vertical-align: top;\n",
       "    }\n",
       "\n",
       "    .dataframe thead th {\n",
       "        text-align: right;\n",
       "    }\n",
       "</style>\n",
       "<table border=\"1\" class=\"dataframe\">\n",
       "  <thead>\n",
       "    <tr style=\"text-align: right;\">\n",
       "      <th></th>\n",
       "      <th>X1</th>\n",
       "      <th>X2</th>\n",
       "      <th>X3</th>\n",
       "      <th>X4</th>\n",
       "      <th>X5</th>\n",
       "      <th>X6</th>\n",
       "      <th>X7</th>\n",
       "      <th>X8</th>\n",
       "      <th>X9</th>\n",
       "      <th>X10</th>\n",
       "      <th>...</th>\n",
       "      <th>X56</th>\n",
       "      <th>X57</th>\n",
       "      <th>X58</th>\n",
       "      <th>X59</th>\n",
       "      <th>X60</th>\n",
       "      <th>X61</th>\n",
       "      <th>X62</th>\n",
       "      <th>X63</th>\n",
       "      <th>X64</th>\n",
       "      <th>Id</th>\n",
       "    </tr>\n",
       "  </thead>\n",
       "  <tbody>\n",
       "    <tr>\n",
       "      <th>4340</th>\n",
       "      <td>0.001173</td>\n",
       "      <td>0.67203</td>\n",
       "      <td>0.14227</td>\n",
       "      <td>1.2156</td>\n",
       "      <td>-49.408</td>\n",
       "      <td>0.016824</td>\n",
       "      <td>0.001271</td>\n",
       "      <td>0.48075</td>\n",
       "      <td>1.00740</td>\n",
       "      <td>0.32308</td>\n",
       "      <td>...</td>\n",
       "      <td>0.007312</td>\n",
       "      <td>0.003629</td>\n",
       "      <td>0.99269</td>\n",
       "      <td>0.037272</td>\n",
       "      <td>12.302</td>\n",
       "      <td>4.0442</td>\n",
       "      <td>140.440</td>\n",
       "      <td>2.5991</td>\n",
       "      <td>8.6745</td>\n",
       "      <td>3119</td>\n",
       "    </tr>\n",
       "    <tr>\n",
       "      <th>1221</th>\n",
       "      <td>0.13963</td>\n",
       "      <td>0.25081</td>\n",
       "      <td>0.25848</td>\n",
       "      <td>2.2523</td>\n",
       "      <td>31.714</td>\n",
       "      <td>0</td>\n",
       "      <td>0.18239</td>\n",
       "      <td>2.9871</td>\n",
       "      <td>1.54600</td>\n",
       "      <td>0.74919</td>\n",
       "      <td>...</td>\n",
       "      <td>0.124670</td>\n",
       "      <td>0.18637</td>\n",
       "      <td>0.88279</td>\n",
       "      <td>0.044616</td>\n",
       "      <td>11.279</td>\n",
       "      <td>5.1096</td>\n",
       "      <td>48.732</td>\n",
       "      <td>7.4899</td>\n",
       "      <td>2.8891</td>\n",
       "      <td>3687</td>\n",
       "    </tr>\n",
       "    <tr>\n",
       "      <th>2083</th>\n",
       "      <td>0.1476</td>\n",
       "      <td>0.097863</td>\n",
       "      <td>0.46987</td>\n",
       "      <td>6.4957</td>\n",
       "      <td>59.981</td>\n",
       "      <td>0.003564</td>\n",
       "      <td>0.18156</td>\n",
       "      <td>9.2184</td>\n",
       "      <td>1.44620</td>\n",
       "      <td>0.90214</td>\n",
       "      <td>...</td>\n",
       "      <td>0.123660</td>\n",
       "      <td>0.16362</td>\n",
       "      <td>0.87543</td>\n",
       "      <td>0</td>\n",
       "      <td>5.5314</td>\n",
       "      <td>6.8732</td>\n",
       "      <td>21.578</td>\n",
       "      <td>16.916</td>\n",
       "      <td>3.2526</td>\n",
       "      <td>5358</td>\n",
       "    </tr>\n",
       "    <tr>\n",
       "      <th>1044</th>\n",
       "      <td>0.032618</td>\n",
       "      <td>0.74375</td>\n",
       "      <td>0.052153</td>\n",
       "      <td>1.1584</td>\n",
       "      <td>-49.698</td>\n",
       "      <td>0.11127</td>\n",
       "      <td>0.044782</td>\n",
       "      <td>0.33163</td>\n",
       "      <td>1.05450</td>\n",
       "      <td>0.24665</td>\n",
       "      <td>...</td>\n",
       "      <td>0.051681</td>\n",
       "      <td>0.13224</td>\n",
       "      <td>0.94832</td>\n",
       "      <td>1.6806</td>\n",
       "      <td>6.5521</td>\n",
       "      <td>33.065</td>\n",
       "      <td>59.524</td>\n",
       "      <td>6.1319</td>\n",
       "      <td>3.2633</td>\n",
       "      <td>3134</td>\n",
       "    </tr>\n",
       "    <tr>\n",
       "      <th>2555</th>\n",
       "      <td>0.022155</td>\n",
       "      <td>0.54875</td>\n",
       "      <td>0.54093</td>\n",
       "      <td>2.8668</td>\n",
       "      <td>14.402</td>\n",
       "      <td>0</td>\n",
       "      <td>0.022155</td>\n",
       "      <td>0.82231</td>\n",
       "      <td>0.61232</td>\n",
       "      <td>0.45125</td>\n",
       "      <td>...</td>\n",
       "      <td>0.066985</td>\n",
       "      <td>0.049097</td>\n",
       "      <td>0.96466</td>\n",
       "      <td>0.55833</td>\n",
       "      <td>1.1969</td>\n",
       "      <td>2.5829</td>\n",
       "      <td>172.720</td>\n",
       "      <td>2.1132</td>\n",
       "      <td>3.6164</td>\n",
       "      <td>4500</td>\n",
       "    </tr>\n",
       "  </tbody>\n",
       "</table>\n",
       "<p>5 rows × 65 columns</p>\n",
       "</div>"
      ],
      "text/plain": [
       "            X1        X2        X3      X4       X5        X6        X7  \\\n",
       "4340  0.001173   0.67203   0.14227  1.2156  -49.408  0.016824  0.001271   \n",
       "1221   0.13963   0.25081   0.25848  2.2523   31.714         0   0.18239   \n",
       "2083    0.1476  0.097863   0.46987  6.4957   59.981  0.003564   0.18156   \n",
       "1044  0.032618   0.74375  0.052153  1.1584  -49.698   0.11127  0.044782   \n",
       "2555  0.022155   0.54875   0.54093  2.8668   14.402         0  0.022155   \n",
       "\n",
       "           X8       X9      X10  ...        X56       X57      X58       X59  \\\n",
       "4340  0.48075  1.00740  0.32308  ...   0.007312  0.003629  0.99269  0.037272   \n",
       "1221   2.9871  1.54600  0.74919  ...   0.124670   0.18637  0.88279  0.044616   \n",
       "2083   9.2184  1.44620  0.90214  ...   0.123660   0.16362  0.87543         0   \n",
       "1044  0.33163  1.05450  0.24665  ...   0.051681   0.13224  0.94832    1.6806   \n",
       "2555  0.82231  0.61232  0.45125  ...   0.066985  0.049097  0.96466   0.55833   \n",
       "\n",
       "         X60     X61      X62     X63     X64    Id  \n",
       "4340  12.302  4.0442  140.440  2.5991  8.6745  3119  \n",
       "1221  11.279  5.1096   48.732  7.4899  2.8891  3687  \n",
       "2083  5.5314  6.8732   21.578  16.916  3.2526  5358  \n",
       "1044  6.5521  33.065   59.524  6.1319  3.2633  3134  \n",
       "2555  1.1969  2.5829  172.720  2.1132  3.6164  4500  \n",
       "\n",
       "[5 rows x 65 columns]"
      ]
     },
     "execution_count": 593,
     "metadata": {},
     "output_type": "execute_result"
    }
   ],
   "source": [
    "X_test.head()"
   ]
  },
  {
   "cell_type": "code",
   "execution_count": 594,
   "metadata": {
    "scrolled": true
   },
   "outputs": [
    {
     "data": {
      "text/plain": [
       "220     0\n",
       "1361    0\n",
       "1010    0\n",
       "2952    0\n",
       "2135    0\n",
       "Name: Bankrupt, dtype: int64"
      ]
     },
     "execution_count": 594,
     "metadata": {},
     "output_type": "execute_result"
    }
   ],
   "source": [
    "y_train.head()"
   ]
  },
  {
   "cell_type": "code",
   "execution_count": 595,
   "metadata": {
    "scrolled": false
   },
   "outputs": [
    {
     "data": {
      "text/plain": [
       "4340    0\n",
       "1221    0\n",
       "2083    0\n",
       "1044    0\n",
       "2555    0\n",
       "Name: Bankrupt, dtype: int64"
      ]
     },
     "execution_count": 595,
     "metadata": {},
     "output_type": "execute_result"
    }
   ],
   "source": [
    "y_test.head()"
   ]
  },
  {
   "cell_type": "markdown",
   "metadata": {},
   "source": [
    "# Recipe B: Exploratory Data Analysis (EDA)"
   ]
  },
  {
   "cell_type": "markdown",
   "metadata": {},
   "source": [
    "- Plot X_train histogram for X1 through X64"
   ]
  },
  {
   "cell_type": "code",
   "execution_count": 665,
   "metadata": {},
   "outputs": [
    {
     "data": {
      "image/png": "[encoded data removed]",
      "text/plain": [
       "<Figure size 720x720 with 64 Axes>"
      ]
     },
     "metadata": {},
     "output_type": "display_data"
    }
   ],
   "source": [
    "hist = X_train.hist(figsize=(10,10))"
   ]
  },
  {
   "cell_type": "markdown",
   "metadata": {},
   "source": [
    "# Recipe C.1: Cleaning\n"
   ]
  },
  {
   "cell_type": "markdown",
   "metadata": {},
   "source": [
    "## (1) Replace all \"?\" in X_train & X_test with NaN, then change data type from object to float64 \n",
    "- keep \"Id\" as int64"
   ]
  },
  {
   "cell_type": "code",
   "execution_count": 597,
   "metadata": {
    "scrolled": true
   },
   "outputs": [
    {
     "data": {
      "text/plain": [
       "2"
      ]
     },
     "execution_count": 597,
     "metadata": {},
     "output_type": "execute_result"
    }
   ],
   "source": [
    "list(X_train['X1']).count('?')"
   ]
  },
  {
   "cell_type": "code",
   "execution_count": 598,
   "metadata": {
    "scrolled": false
   },
   "outputs": [
    {
     "data": {
      "text/plain": [
       "0"
      ]
     },
     "execution_count": 598,
     "metadata": {},
     "output_type": "execute_result"
    }
   ],
   "source": [
    "X_train = X_train.replace('?', np.NaN)\n",
    "X_test = X_test.replace('?', np.NaN)\n",
    "list(X_train['X1']).count('?')"
   ]
  },
  {
   "cell_type": "code",
   "execution_count": 599,
   "metadata": {
    "scrolled": true
   },
   "outputs": [
    {
     "data": {
      "text/plain": [
       "X1        2\n",
       "X2        2\n",
       "X3        2\n",
       "X4       10\n",
       "X5        9\n",
       "X6        2\n",
       "X7        2\n",
       "X8       10\n",
       "X9        0\n",
       "X10       2\n",
       "X11       2\n",
       "X12      10\n",
       "X13       0\n",
       "X14       2\n",
       "X15       4\n",
       "X16      10\n",
       "X17      10\n",
       "X18       2\n",
       "X19       0\n",
       "X20       0\n",
       "X21      59\n",
       "X22       2\n",
       "X23       0\n",
       "X24      94\n",
       "X25       2\n",
       "X26      10\n",
       "X27     241\n",
       "X28      66\n",
       "X29       2\n",
       "X30       0\n",
       "       ... \n",
       "X36       2\n",
       "X37    1665\n",
       "X38       2\n",
       "X39       0\n",
       "X40      10\n",
       "X41      48\n",
       "X42       0\n",
       "X43       0\n",
       "X44       0\n",
       "X45     177\n",
       "X46      10\n",
       "X47      28\n",
       "X48       2\n",
       "X49       0\n",
       "X50      10\n",
       "X51       2\n",
       "X52      28\n",
       "X53      66\n",
       "X54      66\n",
       "X55       0\n",
       "X56       0\n",
       "X57       2\n",
       "X58       0\n",
       "X59       2\n",
       "X60     177\n",
       "X61       9\n",
       "X62       0\n",
       "X63      10\n",
       "X64      66\n",
       "Id        0\n",
       "Length: 65, dtype: int64"
      ]
     },
     "execution_count": 599,
     "metadata": {},
     "output_type": "execute_result"
    }
   ],
   "source": [
    "X_train = X_train.astype('float64')\n",
    "X_train['Id'] = X_train['Id'].astype('int64')\n",
    "\n",
    "X_test = X_test.astype('float64')\n",
    "X_test['Id'] = X_test['Id'].astype('int64')\n",
    "\n",
    "X_train.isnull().sum()"
   ]
  },
  {
   "cell_type": "code",
   "execution_count": 600,
   "metadata": {
    "scrolled": true
   },
   "outputs": [
    {
     "data": {
      "text/plain": [
       "X1       0\n",
       "X2       0\n",
       "X3       0\n",
       "X4       5\n",
       "X5       1\n",
       "X6       0\n",
       "X7       0\n",
       "X8       4\n",
       "X9       0\n",
       "X10      0\n",
       "X11      0\n",
       "X12      5\n",
       "X13      0\n",
       "X14      0\n",
       "X15      2\n",
       "X16      4\n",
       "X17      4\n",
       "X18      0\n",
       "X19      0\n",
       "X20      0\n",
       "X21     15\n",
       "X22      0\n",
       "X23      0\n",
       "X24     22\n",
       "X25      0\n",
       "X26      4\n",
       "X27     64\n",
       "X28     17\n",
       "X29      0\n",
       "X30      0\n",
       "      ... \n",
       "X36      0\n",
       "X37    403\n",
       "X38      0\n",
       "X39      0\n",
       "X40      5\n",
       "X41     14\n",
       "X42      0\n",
       "X43      0\n",
       "X44      0\n",
       "X45     43\n",
       "X46      5\n",
       "X47      3\n",
       "X48      0\n",
       "X49      0\n",
       "X50      4\n",
       "X51      0\n",
       "X52      4\n",
       "X53     17\n",
       "X54     17\n",
       "X55      0\n",
       "X56      0\n",
       "X57      0\n",
       "X58      0\n",
       "X59      0\n",
       "X60     43\n",
       "X61      3\n",
       "X62      0\n",
       "X63      5\n",
       "X64     17\n",
       "Id       0\n",
       "Length: 65, dtype: int64"
      ]
     },
     "execution_count": 600,
     "metadata": {},
     "output_type": "execute_result"
    }
   ],
   "source": [
    "X_test.isnull().sum()"
   ]
  },
  {
   "cell_type": "markdown",
   "metadata": {},
   "source": [
    "- Since \"Bankrupt\" data type is int64, there's no \"?\" in its column. Thus, we don't need to alter y_train and y_test"
   ]
  },
  {
   "cell_type": "code",
   "execution_count": 601,
   "metadata": {},
   "outputs": [
    {
     "data": {
      "text/plain": [
       "((3854, 65), (3854,))"
      ]
     },
     "execution_count": 601,
     "metadata": {},
     "output_type": "execute_result"
    }
   ],
   "source": [
    "X_train.shape, y_train.shape"
   ]
  },
  {
   "cell_type": "markdown",
   "metadata": {},
   "source": [
    "## (2) Replace NaN in X_train & X_test with median\n",
    "- Since the function for each X is given, I was initially trying to derive the exact number for NaN using the known X's of each company. However, I realized that many X's associated with NaN are also missing. \n",
    "- Since the \"exact\" way doesn't work, let's use median to fill NaN."
   ]
  },
  {
   "cell_type": "code",
   "execution_count": 602,
   "metadata": {
    "scrolled": true
   },
   "outputs": [
    {
     "data": {
      "text/plain": [
       "X1     0\n",
       "X2     0\n",
       "X3     0\n",
       "X4     0\n",
       "X5     0\n",
       "X6     0\n",
       "X7     0\n",
       "X8     0\n",
       "X9     0\n",
       "X10    0\n",
       "X11    0\n",
       "X12    0\n",
       "X13    0\n",
       "X14    0\n",
       "X15    0\n",
       "X16    0\n",
       "X17    0\n",
       "X18    0\n",
       "X19    0\n",
       "X20    0\n",
       "X21    0\n",
       "X22    0\n",
       "X23    0\n",
       "X24    0\n",
       "X25    0\n",
       "X26    0\n",
       "X27    0\n",
       "X28    0\n",
       "X29    0\n",
       "X30    0\n",
       "      ..\n",
       "X36    0\n",
       "X37    0\n",
       "X38    0\n",
       "X39    0\n",
       "X40    0\n",
       "X41    0\n",
       "X42    0\n",
       "X43    0\n",
       "X44    0\n",
       "X45    0\n",
       "X46    0\n",
       "X47    0\n",
       "X48    0\n",
       "X49    0\n",
       "X50    0\n",
       "X51    0\n",
       "X52    0\n",
       "X53    0\n",
       "X54    0\n",
       "X55    0\n",
       "X56    0\n",
       "X57    0\n",
       "X58    0\n",
       "X59    0\n",
       "X60    0\n",
       "X61    0\n",
       "X62    0\n",
       "X63    0\n",
       "X64    0\n",
       "Id     0\n",
       "Length: 65, dtype: int64"
      ]
     },
     "execution_count": 602,
     "metadata": {},
     "output_type": "execute_result"
    }
   ],
   "source": [
    "X_train_median = X_train.median()\n",
    "\n",
    "X_train.fillna(X_train_median, inplace = True)\n",
    "X_test.fillna(X_train_median, inplace = True)\n",
    "\n",
    "X_train.isnull().sum()"
   ]
  },
  {
   "cell_type": "code",
   "execution_count": 603,
   "metadata": {},
   "outputs": [
    {
     "data": {
      "text/plain": [
       "((3854, 65), (3854,))"
      ]
     },
     "execution_count": 603,
     "metadata": {},
     "output_type": "execute_result"
    }
   ],
   "source": [
    "X_train.shape, y_train.shape"
   ]
  },
  {
   "cell_type": "code",
   "execution_count": 604,
   "metadata": {
    "scrolled": true
   },
   "outputs": [
    {
     "data": {
      "text/html": [
       "<div>\n",
       "<style scoped>\n",
       "    .dataframe tbody tr th:only-of-type {\n",
       "        vertical-align: middle;\n",
       "    }\n",
       "\n",
       "    .dataframe tbody tr th {\n",
       "        vertical-align: top;\n",
       "    }\n",
       "\n",
       "    .dataframe thead th {\n",
       "        text-align: right;\n",
       "    }\n",
       "</style>\n",
       "<table border=\"1\" class=\"dataframe\">\n",
       "  <thead>\n",
       "    <tr style=\"text-align: right;\">\n",
       "      <th></th>\n",
       "      <th>X1</th>\n",
       "      <th>X2</th>\n",
       "      <th>X3</th>\n",
       "      <th>X4</th>\n",
       "      <th>X5</th>\n",
       "      <th>X6</th>\n",
       "      <th>X7</th>\n",
       "      <th>X8</th>\n",
       "      <th>X9</th>\n",
       "      <th>X10</th>\n",
       "      <th>...</th>\n",
       "      <th>X56</th>\n",
       "      <th>X57</th>\n",
       "      <th>X58</th>\n",
       "      <th>X59</th>\n",
       "      <th>X60</th>\n",
       "      <th>X61</th>\n",
       "      <th>X62</th>\n",
       "      <th>X63</th>\n",
       "      <th>X64</th>\n",
       "      <th>Id</th>\n",
       "    </tr>\n",
       "  </thead>\n",
       "  <tbody>\n",
       "    <tr>\n",
       "      <th>220</th>\n",
       "      <td>0.044757</td>\n",
       "      <td>0.49112</td>\n",
       "      <td>0.001948</td>\n",
       "      <td>1.0137</td>\n",
       "      <td>-10.922</td>\n",
       "      <td>0.134140</td>\n",
       "      <td>0.050963</td>\n",
       "      <td>0.97991</td>\n",
       "      <td>1.0891</td>\n",
       "      <td>0.48125</td>\n",
       "      <td>...</td>\n",
       "      <td>0.081838</td>\n",
       "      <td>0.093001</td>\n",
       "      <td>0.91816</td>\n",
       "      <td>0.72595</td>\n",
       "      <td>39.822</td>\n",
       "      <td>11.4990</td>\n",
       "      <td>109.670</td>\n",
       "      <td>3.3281</td>\n",
       "      <td>0.55093</td>\n",
       "      <td>5691</td>\n",
       "    </tr>\n",
       "    <tr>\n",
       "      <th>1361</th>\n",
       "      <td>0.009690</td>\n",
       "      <td>0.60158</td>\n",
       "      <td>0.212470</td>\n",
       "      <td>2.6707</td>\n",
       "      <td>42.710</td>\n",
       "      <td>0.035651</td>\n",
       "      <td>0.012172</td>\n",
       "      <td>0.62063</td>\n",
       "      <td>1.0472</td>\n",
       "      <td>0.37336</td>\n",
       "      <td>...</td>\n",
       "      <td>0.045033</td>\n",
       "      <td>0.025954</td>\n",
       "      <td>0.95497</td>\n",
       "      <td>1.27060</td>\n",
       "      <td>10.178</td>\n",
       "      <td>4.8416</td>\n",
       "      <td>45.180</td>\n",
       "      <td>8.0788</td>\n",
       "      <td>1.55590</td>\n",
       "      <td>1101</td>\n",
       "    </tr>\n",
       "    <tr>\n",
       "      <th>1010</th>\n",
       "      <td>0.014994</td>\n",
       "      <td>0.73291</td>\n",
       "      <td>0.341770</td>\n",
       "      <td>2.1422</td>\n",
       "      <td>-74.761</td>\n",
       "      <td>0.002097</td>\n",
       "      <td>0.003592</td>\n",
       "      <td>0.36443</td>\n",
       "      <td>1.1278</td>\n",
       "      <td>0.26709</td>\n",
       "      <td>...</td>\n",
       "      <td>0.136290</td>\n",
       "      <td>0.056139</td>\n",
       "      <td>0.99686</td>\n",
       "      <td>1.25070</td>\n",
       "      <td>16.314</td>\n",
       "      <td>13.3880</td>\n",
       "      <td>96.841</td>\n",
       "      <td>3.7691</td>\n",
       "      <td>3.14150</td>\n",
       "      <td>4461</td>\n",
       "    </tr>\n",
       "    <tr>\n",
       "      <th>2952</th>\n",
       "      <td>0.351000</td>\n",
       "      <td>0.25999</td>\n",
       "      <td>0.672000</td>\n",
       "      <td>4.0607</td>\n",
       "      <td>70.293</td>\n",
       "      <td>0.000000</td>\n",
       "      <td>0.434290</td>\n",
       "      <td>2.84630</td>\n",
       "      <td>2.0269</td>\n",
       "      <td>0.74001</td>\n",
       "      <td>...</td>\n",
       "      <td>0.209330</td>\n",
       "      <td>0.474320</td>\n",
       "      <td>0.79193</td>\n",
       "      <td>0.00000</td>\n",
       "      <td>22.838</td>\n",
       "      <td>3.9075</td>\n",
       "      <td>39.539</td>\n",
       "      <td>9.2315</td>\n",
       "      <td>18.69000</td>\n",
       "      <td>3715</td>\n",
       "    </tr>\n",
       "    <tr>\n",
       "      <th>2135</th>\n",
       "      <td>0.030069</td>\n",
       "      <td>0.58084</td>\n",
       "      <td>0.004893</td>\n",
       "      <td>1.0101</td>\n",
       "      <td>-9.063</td>\n",
       "      <td>0.000000</td>\n",
       "      <td>0.039830</td>\n",
       "      <td>0.72163</td>\n",
       "      <td>4.6379</td>\n",
       "      <td>0.41916</td>\n",
       "      <td>...</td>\n",
       "      <td>0.009166</td>\n",
       "      <td>0.071737</td>\n",
       "      <td>0.99141</td>\n",
       "      <td>0.22429</td>\n",
       "      <td>44.595</td>\n",
       "      <td>16.7890</td>\n",
       "      <td>38.151</td>\n",
       "      <td>9.5672</td>\n",
       "      <td>9.08790</td>\n",
       "      <td>4257</td>\n",
       "    </tr>\n",
       "  </tbody>\n",
       "</table>\n",
       "<p>5 rows × 65 columns</p>\n",
       "</div>"
      ],
      "text/plain": [
       "            X1       X2        X3      X4      X5        X6        X7  \\\n",
       "220   0.044757  0.49112  0.001948  1.0137 -10.922  0.134140  0.050963   \n",
       "1361  0.009690  0.60158  0.212470  2.6707  42.710  0.035651  0.012172   \n",
       "1010  0.014994  0.73291  0.341770  2.1422 -74.761  0.002097  0.003592   \n",
       "2952  0.351000  0.25999  0.672000  4.0607  70.293  0.000000  0.434290   \n",
       "2135  0.030069  0.58084  0.004893  1.0101  -9.063  0.000000  0.039830   \n",
       "\n",
       "           X8      X9      X10  ...        X56       X57      X58      X59  \\\n",
       "220   0.97991  1.0891  0.48125  ...   0.081838  0.093001  0.91816  0.72595   \n",
       "1361  0.62063  1.0472  0.37336  ...   0.045033  0.025954  0.95497  1.27060   \n",
       "1010  0.36443  1.1278  0.26709  ...   0.136290  0.056139  0.99686  1.25070   \n",
       "2952  2.84630  2.0269  0.74001  ...   0.209330  0.474320  0.79193  0.00000   \n",
       "2135  0.72163  4.6379  0.41916  ...   0.009166  0.071737  0.99141  0.22429   \n",
       "\n",
       "         X60      X61      X62     X63       X64    Id  \n",
       "220   39.822  11.4990  109.670  3.3281   0.55093  5691  \n",
       "1361  10.178   4.8416   45.180  8.0788   1.55590  1101  \n",
       "1010  16.314  13.3880   96.841  3.7691   3.14150  4461  \n",
       "2952  22.838   3.9075   39.539  9.2315  18.69000  3715  \n",
       "2135  44.595  16.7890   38.151  9.5672   9.08790  4257  \n",
       "\n",
       "[5 rows x 65 columns]"
      ]
     },
     "execution_count": 604,
     "metadata": {},
     "output_type": "execute_result"
    }
   ],
   "source": [
    "X_train.head()"
   ]
  },
  {
   "cell_type": "markdown",
   "metadata": {},
   "source": [
    "## (3) Set \"Id\" as index for X_train & X_test"
   ]
  },
  {
   "cell_type": "code",
   "execution_count": 605,
   "metadata": {
    "scrolled": false
   },
   "outputs": [
    {
     "data": {
      "text/html": [
       "<div>\n",
       "<style scoped>\n",
       "    .dataframe tbody tr th:only-of-type {\n",
       "        vertical-align: middle;\n",
       "    }\n",
       "\n",
       "    .dataframe tbody tr th {\n",
       "        vertical-align: top;\n",
       "    }\n",
       "\n",
       "    .dataframe thead th {\n",
       "        text-align: right;\n",
       "    }\n",
       "</style>\n",
       "<table border=\"1\" class=\"dataframe\">\n",
       "  <thead>\n",
       "    <tr style=\"text-align: right;\">\n",
       "      <th></th>\n",
       "      <th>X1</th>\n",
       "      <th>X2</th>\n",
       "      <th>X3</th>\n",
       "      <th>X4</th>\n",
       "      <th>X5</th>\n",
       "      <th>X6</th>\n",
       "      <th>X7</th>\n",
       "      <th>X8</th>\n",
       "      <th>X9</th>\n",
       "      <th>X10</th>\n",
       "      <th>...</th>\n",
       "      <th>X55</th>\n",
       "      <th>X56</th>\n",
       "      <th>X57</th>\n",
       "      <th>X58</th>\n",
       "      <th>X59</th>\n",
       "      <th>X60</th>\n",
       "      <th>X61</th>\n",
       "      <th>X62</th>\n",
       "      <th>X63</th>\n",
       "      <th>X64</th>\n",
       "    </tr>\n",
       "    <tr>\n",
       "      <th>Id</th>\n",
       "      <th></th>\n",
       "      <th></th>\n",
       "      <th></th>\n",
       "      <th></th>\n",
       "      <th></th>\n",
       "      <th></th>\n",
       "      <th></th>\n",
       "      <th></th>\n",
       "      <th></th>\n",
       "      <th></th>\n",
       "      <th></th>\n",
       "      <th></th>\n",
       "      <th></th>\n",
       "      <th></th>\n",
       "      <th></th>\n",
       "      <th></th>\n",
       "      <th></th>\n",
       "      <th></th>\n",
       "      <th></th>\n",
       "      <th></th>\n",
       "      <th></th>\n",
       "    </tr>\n",
       "  </thead>\n",
       "  <tbody>\n",
       "    <tr>\n",
       "      <th>5691</th>\n",
       "      <td>0.044757</td>\n",
       "      <td>0.49112</td>\n",
       "      <td>0.001948</td>\n",
       "      <td>1.0137</td>\n",
       "      <td>-10.922</td>\n",
       "      <td>0.134140</td>\n",
       "      <td>0.050963</td>\n",
       "      <td>0.97991</td>\n",
       "      <td>1.0891</td>\n",
       "      <td>0.48125</td>\n",
       "      <td>...</td>\n",
       "      <td>6981.500</td>\n",
       "      <td>0.081838</td>\n",
       "      <td>0.093001</td>\n",
       "      <td>0.91816</td>\n",
       "      <td>0.72595</td>\n",
       "      <td>39.822</td>\n",
       "      <td>11.4990</td>\n",
       "      <td>109.670</td>\n",
       "      <td>3.3281</td>\n",
       "      <td>0.55093</td>\n",
       "    </tr>\n",
       "    <tr>\n",
       "      <th>1101</th>\n",
       "      <td>0.009690</td>\n",
       "      <td>0.60158</td>\n",
       "      <td>0.212470</td>\n",
       "      <td>2.6707</td>\n",
       "      <td>42.710</td>\n",
       "      <td>0.035651</td>\n",
       "      <td>0.012172</td>\n",
       "      <td>0.62063</td>\n",
       "      <td>1.0472</td>\n",
       "      <td>0.37336</td>\n",
       "      <td>...</td>\n",
       "      <td>46802.000</td>\n",
       "      <td>0.045033</td>\n",
       "      <td>0.025954</td>\n",
       "      <td>0.95497</td>\n",
       "      <td>1.27060</td>\n",
       "      <td>10.178</td>\n",
       "      <td>4.8416</td>\n",
       "      <td>45.180</td>\n",
       "      <td>8.0788</td>\n",
       "      <td>1.55590</td>\n",
       "    </tr>\n",
       "    <tr>\n",
       "      <th>4461</th>\n",
       "      <td>0.014994</td>\n",
       "      <td>0.73291</td>\n",
       "      <td>0.341770</td>\n",
       "      <td>2.1422</td>\n",
       "      <td>-74.761</td>\n",
       "      <td>0.002097</td>\n",
       "      <td>0.003592</td>\n",
       "      <td>0.36443</td>\n",
       "      <td>1.1278</td>\n",
       "      <td>0.26709</td>\n",
       "      <td>...</td>\n",
       "      <td>11760.000</td>\n",
       "      <td>0.136290</td>\n",
       "      <td>0.056139</td>\n",
       "      <td>0.99686</td>\n",
       "      <td>1.25070</td>\n",
       "      <td>16.314</td>\n",
       "      <td>13.3880</td>\n",
       "      <td>96.841</td>\n",
       "      <td>3.7691</td>\n",
       "      <td>3.14150</td>\n",
       "    </tr>\n",
       "    <tr>\n",
       "      <th>3715</th>\n",
       "      <td>0.351000</td>\n",
       "      <td>0.25999</td>\n",
       "      <td>0.672000</td>\n",
       "      <td>4.0607</td>\n",
       "      <td>70.293</td>\n",
       "      <td>0.000000</td>\n",
       "      <td>0.434290</td>\n",
       "      <td>2.84630</td>\n",
       "      <td>2.0269</td>\n",
       "      <td>0.74001</td>\n",
       "      <td>...</td>\n",
       "      <td>3206.200</td>\n",
       "      <td>0.209330</td>\n",
       "      <td>0.474320</td>\n",
       "      <td>0.79193</td>\n",
       "      <td>0.00000</td>\n",
       "      <td>22.838</td>\n",
       "      <td>3.9075</td>\n",
       "      <td>39.539</td>\n",
       "      <td>9.2315</td>\n",
       "      <td>18.69000</td>\n",
       "    </tr>\n",
       "    <tr>\n",
       "      <th>4257</th>\n",
       "      <td>0.030069</td>\n",
       "      <td>0.58084</td>\n",
       "      <td>0.004893</td>\n",
       "      <td>1.0101</td>\n",
       "      <td>-9.063</td>\n",
       "      <td>0.000000</td>\n",
       "      <td>0.039830</td>\n",
       "      <td>0.72163</td>\n",
       "      <td>4.6379</td>\n",
       "      <td>0.41916</td>\n",
       "      <td>...</td>\n",
       "      <td>15.613</td>\n",
       "      <td>0.009166</td>\n",
       "      <td>0.071737</td>\n",
       "      <td>0.99141</td>\n",
       "      <td>0.22429</td>\n",
       "      <td>44.595</td>\n",
       "      <td>16.7890</td>\n",
       "      <td>38.151</td>\n",
       "      <td>9.5672</td>\n",
       "      <td>9.08790</td>\n",
       "    </tr>\n",
       "  </tbody>\n",
       "</table>\n",
       "<p>5 rows × 64 columns</p>\n",
       "</div>"
      ],
      "text/plain": [
       "            X1       X2        X3      X4      X5        X6        X7  \\\n",
       "Id                                                                      \n",
       "5691  0.044757  0.49112  0.001948  1.0137 -10.922  0.134140  0.050963   \n",
       "1101  0.009690  0.60158  0.212470  2.6707  42.710  0.035651  0.012172   \n",
       "4461  0.014994  0.73291  0.341770  2.1422 -74.761  0.002097  0.003592   \n",
       "3715  0.351000  0.25999  0.672000  4.0607  70.293  0.000000  0.434290   \n",
       "4257  0.030069  0.58084  0.004893  1.0101  -9.063  0.000000  0.039830   \n",
       "\n",
       "           X8      X9      X10    ...           X55       X56       X57  \\\n",
       "Id                                ...                                     \n",
       "5691  0.97991  1.0891  0.48125    ...      6981.500  0.081838  0.093001   \n",
       "1101  0.62063  1.0472  0.37336    ...     46802.000  0.045033  0.025954   \n",
       "4461  0.36443  1.1278  0.26709    ...     11760.000  0.136290  0.056139   \n",
       "3715  2.84630  2.0269  0.74001    ...      3206.200  0.209330  0.474320   \n",
       "4257  0.72163  4.6379  0.41916    ...        15.613  0.009166  0.071737   \n",
       "\n",
       "          X58      X59     X60      X61      X62     X63       X64  \n",
       "Id                                                                  \n",
       "5691  0.91816  0.72595  39.822  11.4990  109.670  3.3281   0.55093  \n",
       "1101  0.95497  1.27060  10.178   4.8416   45.180  8.0788   1.55590  \n",
       "4461  0.99686  1.25070  16.314  13.3880   96.841  3.7691   3.14150  \n",
       "3715  0.79193  0.00000  22.838   3.9075   39.539  9.2315  18.69000  \n",
       "4257  0.99141  0.22429  44.595  16.7890   38.151  9.5672   9.08790  \n",
       "\n",
       "[5 rows x 64 columns]"
      ]
     },
     "execution_count": 605,
     "metadata": {},
     "output_type": "execute_result"
    }
   ],
   "source": [
    "X_train.set_index('Id', inplace=True)\n",
    "X_train.head()"
   ]
  },
  {
   "cell_type": "code",
   "execution_count": 606,
   "metadata": {
    "scrolled": false
   },
   "outputs": [
    {
     "data": {
      "text/html": [
       "<div>\n",
       "<style scoped>\n",
       "    .dataframe tbody tr th:only-of-type {\n",
       "        vertical-align: middle;\n",
       "    }\n",
       "\n",
       "    .dataframe tbody tr th {\n",
       "        vertical-align: top;\n",
       "    }\n",
       "\n",
       "    .dataframe thead th {\n",
       "        text-align: right;\n",
       "    }\n",
       "</style>\n",
       "<table border=\"1\" class=\"dataframe\">\n",
       "  <thead>\n",
       "    <tr style=\"text-align: right;\">\n",
       "      <th></th>\n",
       "      <th>X1</th>\n",
       "      <th>X2</th>\n",
       "      <th>X3</th>\n",
       "      <th>X4</th>\n",
       "      <th>X5</th>\n",
       "      <th>X6</th>\n",
       "      <th>X7</th>\n",
       "      <th>X8</th>\n",
       "      <th>X9</th>\n",
       "      <th>X10</th>\n",
       "      <th>...</th>\n",
       "      <th>X55</th>\n",
       "      <th>X56</th>\n",
       "      <th>X57</th>\n",
       "      <th>X58</th>\n",
       "      <th>X59</th>\n",
       "      <th>X60</th>\n",
       "      <th>X61</th>\n",
       "      <th>X62</th>\n",
       "      <th>X63</th>\n",
       "      <th>X64</th>\n",
       "    </tr>\n",
       "    <tr>\n",
       "      <th>Id</th>\n",
       "      <th></th>\n",
       "      <th></th>\n",
       "      <th></th>\n",
       "      <th></th>\n",
       "      <th></th>\n",
       "      <th></th>\n",
       "      <th></th>\n",
       "      <th></th>\n",
       "      <th></th>\n",
       "      <th></th>\n",
       "      <th></th>\n",
       "      <th></th>\n",
       "      <th></th>\n",
       "      <th></th>\n",
       "      <th></th>\n",
       "      <th></th>\n",
       "      <th></th>\n",
       "      <th></th>\n",
       "      <th></th>\n",
       "      <th></th>\n",
       "      <th></th>\n",
       "    </tr>\n",
       "  </thead>\n",
       "  <tbody>\n",
       "    <tr>\n",
       "      <th>3119</th>\n",
       "      <td>0.001173</td>\n",
       "      <td>0.672030</td>\n",
       "      <td>0.142270</td>\n",
       "      <td>1.2156</td>\n",
       "      <td>-49.408</td>\n",
       "      <td>0.016824</td>\n",
       "      <td>0.001271</td>\n",
       "      <td>0.48075</td>\n",
       "      <td>1.00740</td>\n",
       "      <td>0.32308</td>\n",
       "      <td>...</td>\n",
       "      <td>19985.0</td>\n",
       "      <td>0.007312</td>\n",
       "      <td>0.003629</td>\n",
       "      <td>0.99269</td>\n",
       "      <td>0.037272</td>\n",
       "      <td>12.3020</td>\n",
       "      <td>4.0442</td>\n",
       "      <td>140.440</td>\n",
       "      <td>2.5991</td>\n",
       "      <td>8.6745</td>\n",
       "    </tr>\n",
       "    <tr>\n",
       "      <th>3687</th>\n",
       "      <td>0.139630</td>\n",
       "      <td>0.250810</td>\n",
       "      <td>0.258480</td>\n",
       "      <td>2.2523</td>\n",
       "      <td>31.714</td>\n",
       "      <td>0.000000</td>\n",
       "      <td>0.182390</td>\n",
       "      <td>2.98710</td>\n",
       "      <td>1.54600</td>\n",
       "      <td>0.74919</td>\n",
       "      <td>...</td>\n",
       "      <td>2443.9</td>\n",
       "      <td>0.124670</td>\n",
       "      <td>0.186370</td>\n",
       "      <td>0.88279</td>\n",
       "      <td>0.044616</td>\n",
       "      <td>11.2790</td>\n",
       "      <td>5.1096</td>\n",
       "      <td>48.732</td>\n",
       "      <td>7.4899</td>\n",
       "      <td>2.8891</td>\n",
       "    </tr>\n",
       "    <tr>\n",
       "      <th>5358</th>\n",
       "      <td>0.147600</td>\n",
       "      <td>0.097863</td>\n",
       "      <td>0.469870</td>\n",
       "      <td>6.4957</td>\n",
       "      <td>59.981</td>\n",
       "      <td>0.003564</td>\n",
       "      <td>0.181560</td>\n",
       "      <td>9.21840</td>\n",
       "      <td>1.44620</td>\n",
       "      <td>0.90214</td>\n",
       "      <td>...</td>\n",
       "      <td>19041.0</td>\n",
       "      <td>0.123660</td>\n",
       "      <td>0.163620</td>\n",
       "      <td>0.87543</td>\n",
       "      <td>0.000000</td>\n",
       "      <td>5.5314</td>\n",
       "      <td>6.8732</td>\n",
       "      <td>21.578</td>\n",
       "      <td>16.9160</td>\n",
       "      <td>3.2526</td>\n",
       "    </tr>\n",
       "    <tr>\n",
       "      <th>3134</th>\n",
       "      <td>0.032618</td>\n",
       "      <td>0.743750</td>\n",
       "      <td>0.052153</td>\n",
       "      <td>1.1584</td>\n",
       "      <td>-49.698</td>\n",
       "      <td>0.111270</td>\n",
       "      <td>0.044782</td>\n",
       "      <td>0.33163</td>\n",
       "      <td>1.05450</td>\n",
       "      <td>0.24665</td>\n",
       "      <td>...</td>\n",
       "      <td>4087.9</td>\n",
       "      <td>0.051681</td>\n",
       "      <td>0.132240</td>\n",
       "      <td>0.94832</td>\n",
       "      <td>1.680600</td>\n",
       "      <td>6.5521</td>\n",
       "      <td>33.0650</td>\n",
       "      <td>59.524</td>\n",
       "      <td>6.1319</td>\n",
       "      <td>3.2633</td>\n",
       "    </tr>\n",
       "    <tr>\n",
       "      <th>4500</th>\n",
       "      <td>0.022155</td>\n",
       "      <td>0.548750</td>\n",
       "      <td>0.540930</td>\n",
       "      <td>2.8668</td>\n",
       "      <td>14.402</td>\n",
       "      <td>0.000000</td>\n",
       "      <td>0.022155</td>\n",
       "      <td>0.82231</td>\n",
       "      <td>0.61232</td>\n",
       "      <td>0.45125</td>\n",
       "      <td>...</td>\n",
       "      <td>4408.8</td>\n",
       "      <td>0.066985</td>\n",
       "      <td>0.049097</td>\n",
       "      <td>0.96466</td>\n",
       "      <td>0.558330</td>\n",
       "      <td>1.1969</td>\n",
       "      <td>2.5829</td>\n",
       "      <td>172.720</td>\n",
       "      <td>2.1132</td>\n",
       "      <td>3.6164</td>\n",
       "    </tr>\n",
       "  </tbody>\n",
       "</table>\n",
       "<p>5 rows × 64 columns</p>\n",
       "</div>"
      ],
      "text/plain": [
       "            X1        X2        X3      X4      X5        X6        X7  \\\n",
       "Id                                                                       \n",
       "3119  0.001173  0.672030  0.142270  1.2156 -49.408  0.016824  0.001271   \n",
       "3687  0.139630  0.250810  0.258480  2.2523  31.714  0.000000  0.182390   \n",
       "5358  0.147600  0.097863  0.469870  6.4957  59.981  0.003564  0.181560   \n",
       "3134  0.032618  0.743750  0.052153  1.1584 -49.698  0.111270  0.044782   \n",
       "4500  0.022155  0.548750  0.540930  2.8668  14.402  0.000000  0.022155   \n",
       "\n",
       "           X8       X9      X10   ...        X55       X56       X57      X58  \\\n",
       "Id                                ...                                           \n",
       "3119  0.48075  1.00740  0.32308   ...    19985.0  0.007312  0.003629  0.99269   \n",
       "3687  2.98710  1.54600  0.74919   ...     2443.9  0.124670  0.186370  0.88279   \n",
       "5358  9.21840  1.44620  0.90214   ...    19041.0  0.123660  0.163620  0.87543   \n",
       "3134  0.33163  1.05450  0.24665   ...     4087.9  0.051681  0.132240  0.94832   \n",
       "4500  0.82231  0.61232  0.45125   ...     4408.8  0.066985  0.049097  0.96466   \n",
       "\n",
       "           X59      X60      X61      X62      X63     X64  \n",
       "Id                                                          \n",
       "3119  0.037272  12.3020   4.0442  140.440   2.5991  8.6745  \n",
       "3687  0.044616  11.2790   5.1096   48.732   7.4899  2.8891  \n",
       "5358  0.000000   5.5314   6.8732   21.578  16.9160  3.2526  \n",
       "3134  1.680600   6.5521  33.0650   59.524   6.1319  3.2633  \n",
       "4500  0.558330   1.1969   2.5829  172.720   2.1132  3.6164  \n",
       "\n",
       "[5 rows x 64 columns]"
      ]
     },
     "execution_count": 606,
     "metadata": {},
     "output_type": "execute_result"
    }
   ],
   "source": [
    "X_test.set_index('Id', inplace=True)\n",
    "X_test.head()"
   ]
  },
  {
   "cell_type": "code",
   "execution_count": 607,
   "metadata": {},
   "outputs": [
    {
     "data": {
      "text/plain": [
       "((3854, 64), (3854,))"
      ]
     },
     "execution_count": 607,
     "metadata": {},
     "output_type": "execute_result"
    }
   ],
   "source": [
    "X_train.shape, y_train.shape"
   ]
  },
  {
   "cell_type": "markdown",
   "metadata": {},
   "source": [
    "# Recipe C.2: Handling non-numeric features/targets\n",
    "\n",
    "No categorical feature here"
   ]
  },
  {
   "cell_type": "markdown",
   "metadata": {},
   "source": [
    "# Recipe C.3: Transformations\n",
    "No transformation needed here"
   ]
  },
  {
   "cell_type": "markdown",
   "metadata": {},
   "source": [
    "# Recipe C.4: Scaling\n",
    "\n",
    "- Since the 64 features are based on different ranges, I decide to normalize them. \n",
    "- First, de-mean the number, then divide by standard deviation. \n",
    "\n",
    "(The goal of normalization is to change the values of numeric columns in the dataset to a common scale, without distorting differences in the ranges of values. For machine learning, every dataset does not require normalization. It is required only when features have different ranges.)"
   ]
  },
  {
   "cell_type": "code",
   "execution_count": 608,
   "metadata": {},
   "outputs": [],
   "source": [
    "def normalize(df):\n",
    "    for i in list(df.columns):\n",
    "        df[i] = (df[i] - df[i].mean()) / stdev(df[i])\n",
    "    return df "
   ]
  },
  {
   "cell_type": "code",
   "execution_count": 609,
   "metadata": {
    "scrolled": false
   },
   "outputs": [
    {
     "data": {
      "text/html": [
       "<div>\n",
       "<style scoped>\n",
       "    .dataframe tbody tr th:only-of-type {\n",
       "        vertical-align: middle;\n",
       "    }\n",
       "\n",
       "    .dataframe tbody tr th {\n",
       "        vertical-align: top;\n",
       "    }\n",
       "\n",
       "    .dataframe thead th {\n",
       "        text-align: right;\n",
       "    }\n",
       "</style>\n",
       "<table border=\"1\" class=\"dataframe\">\n",
       "  <thead>\n",
       "    <tr style=\"text-align: right;\">\n",
       "      <th></th>\n",
       "      <th>X1</th>\n",
       "      <th>X2</th>\n",
       "      <th>X3</th>\n",
       "      <th>X4</th>\n",
       "      <th>X5</th>\n",
       "      <th>X6</th>\n",
       "      <th>X7</th>\n",
       "      <th>X8</th>\n",
       "      <th>X9</th>\n",
       "      <th>X10</th>\n",
       "      <th>...</th>\n",
       "      <th>X55</th>\n",
       "      <th>X56</th>\n",
       "      <th>X57</th>\n",
       "      <th>X58</th>\n",
       "      <th>X59</th>\n",
       "      <th>X60</th>\n",
       "      <th>X61</th>\n",
       "      <th>X62</th>\n",
       "      <th>X63</th>\n",
       "      <th>X64</th>\n",
       "    </tr>\n",
       "    <tr>\n",
       "      <th>Id</th>\n",
       "      <th></th>\n",
       "      <th></th>\n",
       "      <th></th>\n",
       "      <th></th>\n",
       "      <th></th>\n",
       "      <th></th>\n",
       "      <th></th>\n",
       "      <th></th>\n",
       "      <th></th>\n",
       "      <th></th>\n",
       "      <th></th>\n",
       "      <th></th>\n",
       "      <th></th>\n",
       "      <th></th>\n",
       "      <th></th>\n",
       "      <th></th>\n",
       "      <th></th>\n",
       "      <th></th>\n",
       "      <th></th>\n",
       "      <th></th>\n",
       "      <th></th>\n",
       "    </tr>\n",
       "  </thead>\n",
       "  <tbody>\n",
       "    <tr>\n",
       "      <th>5691</th>\n",
       "      <td>0.004299</td>\n",
       "      <td>-0.033489</td>\n",
       "      <td>-0.141656</td>\n",
       "      <td>-0.036322</td>\n",
       "      <td>-0.001277</td>\n",
       "      <td>0.048424</td>\n",
       "      <td>-0.006723</td>\n",
       "      <td>-0.040002</td>\n",
       "      <td>-0.396774</td>\n",
       "      <td>0.024960</td>\n",
       "      <td>...</td>\n",
       "      <td>-0.049168</td>\n",
       "      <td>0.033493</td>\n",
       "      <td>0.016356</td>\n",
       "      <td>-0.046525</td>\n",
       "      <td>0.063131</td>\n",
       "      <td>-0.025908</td>\n",
       "      <td>0.012798</td>\n",
       "      <td>-0.032864</td>\n",
       "      <td>-0.049034</td>\n",
       "      <td>-0.075846</td>\n",
       "    </tr>\n",
       "    <tr>\n",
       "      <th>1101</th>\n",
       "      <td>-0.056227</td>\n",
       "      <td>0.054759</td>\n",
       "      <td>0.013788</td>\n",
       "      <td>-0.021422</td>\n",
       "      <td>0.000737</td>\n",
       "      <td>0.015011</td>\n",
       "      <td>-0.073083</td>\n",
       "      <td>-0.042968</td>\n",
       "      <td>-0.431112</td>\n",
       "      <td>-0.055997</td>\n",
       "      <td>...</td>\n",
       "      <td>0.398598</td>\n",
       "      <td>-0.010804</td>\n",
       "      <td>0.007920</td>\n",
       "      <td>-0.010843</td>\n",
       "      <td>0.148670</td>\n",
       "      <td>-0.089122</td>\n",
       "      <td>-0.139682</td>\n",
       "      <td>-0.058218</td>\n",
       "      <td>-0.011295</td>\n",
       "      <td>-0.073296</td>\n",
       "    </tr>\n",
       "    <tr>\n",
       "      <th>4461</th>\n",
       "      <td>-0.047072</td>\n",
       "      <td>0.159681</td>\n",
       "      <td>0.109260</td>\n",
       "      <td>-0.026175</td>\n",
       "      <td>-0.003674</td>\n",
       "      <td>0.003628</td>\n",
       "      <td>-0.087761</td>\n",
       "      <td>-0.045084</td>\n",
       "      <td>-0.365059</td>\n",
       "      <td>-0.135738</td>\n",
       "      <td>...</td>\n",
       "      <td>0.004565</td>\n",
       "      <td>0.099029</td>\n",
       "      <td>0.011718</td>\n",
       "      <td>0.029763</td>\n",
       "      <td>0.145544</td>\n",
       "      <td>-0.076038</td>\n",
       "      <td>0.056063</td>\n",
       "      <td>-0.037908</td>\n",
       "      <td>-0.045531</td>\n",
       "      <td>-0.069274</td>\n",
       "    </tr>\n",
       "    <tr>\n",
       "      <th>3715</th>\n",
       "      <td>0.532882</td>\n",
       "      <td>-0.218142</td>\n",
       "      <td>0.353093</td>\n",
       "      <td>-0.008923</td>\n",
       "      <td>0.001773</td>\n",
       "      <td>0.002917</td>\n",
       "      <td>0.649042</td>\n",
       "      <td>-0.024594</td>\n",
       "      <td>0.371771</td>\n",
       "      <td>0.219124</td>\n",
       "      <td>...</td>\n",
       "      <td>-0.091619</td>\n",
       "      <td>0.186937</td>\n",
       "      <td>0.064336</td>\n",
       "      <td>-0.168885</td>\n",
       "      <td>-0.050881</td>\n",
       "      <td>-0.062126</td>\n",
       "      <td>-0.161076</td>\n",
       "      <td>-0.060435</td>\n",
       "      <td>-0.002138</td>\n",
       "      <td>-0.029828</td>\n",
       "    </tr>\n",
       "    <tr>\n",
       "      <th>4257</th>\n",
       "      <td>-0.021053</td>\n",
       "      <td>0.038190</td>\n",
       "      <td>-0.139482</td>\n",
       "      <td>-0.036355</td>\n",
       "      <td>-0.001207</td>\n",
       "      <td>0.002917</td>\n",
       "      <td>-0.025768</td>\n",
       "      <td>-0.042135</td>\n",
       "      <td>2.511537</td>\n",
       "      <td>-0.021630</td>\n",
       "      <td>...</td>\n",
       "      <td>-0.127496</td>\n",
       "      <td>-0.053972</td>\n",
       "      <td>0.013681</td>\n",
       "      <td>0.024480</td>\n",
       "      <td>-0.015656</td>\n",
       "      <td>-0.015730</td>\n",
       "      <td>0.133959</td>\n",
       "      <td>-0.060981</td>\n",
       "      <td>0.000529</td>\n",
       "      <td>-0.054188</td>\n",
       "    </tr>\n",
       "  </tbody>\n",
       "</table>\n",
       "<p>5 rows × 64 columns</p>\n",
       "</div>"
      ],
      "text/plain": [
       "            X1        X2        X3        X4        X5        X6        X7  \\\n",
       "Id                                                                           \n",
       "5691  0.004299 -0.033489 -0.141656 -0.036322 -0.001277  0.048424 -0.006723   \n",
       "1101 -0.056227  0.054759  0.013788 -0.021422  0.000737  0.015011 -0.073083   \n",
       "4461 -0.047072  0.159681  0.109260 -0.026175 -0.003674  0.003628 -0.087761   \n",
       "3715  0.532882 -0.218142  0.353093 -0.008923  0.001773  0.002917  0.649042   \n",
       "4257 -0.021053  0.038190 -0.139482 -0.036355 -0.001207  0.002917 -0.025768   \n",
       "\n",
       "            X8        X9       X10    ...          X55       X56       X57  \\\n",
       "Id                                    ...                                    \n",
       "5691 -0.040002 -0.396774  0.024960    ...    -0.049168  0.033493  0.016356   \n",
       "1101 -0.042968 -0.431112 -0.055997    ...     0.398598 -0.010804  0.007920   \n",
       "4461 -0.045084 -0.365059 -0.135738    ...     0.004565  0.099029  0.011718   \n",
       "3715 -0.024594  0.371771  0.219124    ...    -0.091619  0.186937  0.064336   \n",
       "4257 -0.042135  2.511537 -0.021630    ...    -0.127496 -0.053972  0.013681   \n",
       "\n",
       "           X58       X59       X60       X61       X62       X63       X64  \n",
       "Id                                                                          \n",
       "5691 -0.046525  0.063131 -0.025908  0.012798 -0.032864 -0.049034 -0.075846  \n",
       "1101 -0.010843  0.148670 -0.089122 -0.139682 -0.058218 -0.011295 -0.073296  \n",
       "4461  0.029763  0.145544 -0.076038  0.056063 -0.037908 -0.045531 -0.069274  \n",
       "3715 -0.168885 -0.050881 -0.062126 -0.161076 -0.060435 -0.002138 -0.029828  \n",
       "4257  0.024480 -0.015656 -0.015730  0.133959 -0.060981  0.000529 -0.054188  \n",
       "\n",
       "[5 rows x 64 columns]"
      ]
     },
     "execution_count": 609,
     "metadata": {},
     "output_type": "execute_result"
    }
   ],
   "source": [
    "normalize(X_train)\n",
    "normalize(X_test)\n",
    "X_train.head()"
   ]
  },
  {
   "cell_type": "code",
   "execution_count": 610,
   "metadata": {},
   "outputs": [
    {
     "data": {
      "text/html": [
       "<div>\n",
       "<style scoped>\n",
       "    .dataframe tbody tr th:only-of-type {\n",
       "        vertical-align: middle;\n",
       "    }\n",
       "\n",
       "    .dataframe tbody tr th {\n",
       "        vertical-align: top;\n",
       "    }\n",
       "\n",
       "    .dataframe thead th {\n",
       "        text-align: right;\n",
       "    }\n",
       "</style>\n",
       "<table border=\"1\" class=\"dataframe\">\n",
       "  <thead>\n",
       "    <tr style=\"text-align: right;\">\n",
       "      <th></th>\n",
       "      <th>X1</th>\n",
       "      <th>X2</th>\n",
       "      <th>X3</th>\n",
       "      <th>X4</th>\n",
       "      <th>X5</th>\n",
       "      <th>X6</th>\n",
       "      <th>X7</th>\n",
       "      <th>X8</th>\n",
       "      <th>X9</th>\n",
       "      <th>X10</th>\n",
       "      <th>...</th>\n",
       "      <th>X55</th>\n",
       "      <th>X56</th>\n",
       "      <th>X57</th>\n",
       "      <th>X58</th>\n",
       "      <th>X59</th>\n",
       "      <th>X60</th>\n",
       "      <th>X61</th>\n",
       "      <th>X62</th>\n",
       "      <th>X63</th>\n",
       "      <th>X64</th>\n",
       "    </tr>\n",
       "    <tr>\n",
       "      <th>Id</th>\n",
       "      <th></th>\n",
       "      <th></th>\n",
       "      <th></th>\n",
       "      <th></th>\n",
       "      <th></th>\n",
       "      <th></th>\n",
       "      <th></th>\n",
       "      <th></th>\n",
       "      <th></th>\n",
       "      <th></th>\n",
       "      <th></th>\n",
       "      <th></th>\n",
       "      <th></th>\n",
       "      <th></th>\n",
       "      <th></th>\n",
       "      <th></th>\n",
       "      <th></th>\n",
       "      <th></th>\n",
       "      <th></th>\n",
       "      <th></th>\n",
       "      <th></th>\n",
       "    </tr>\n",
       "  </thead>\n",
       "  <tbody>\n",
       "    <tr>\n",
       "      <th>3119</th>\n",
       "      <td>0.029838</td>\n",
       "      <td>0.140369</td>\n",
       "      <td>-0.029327</td>\n",
       "      <td>-0.133150</td>\n",
       "      <td>-0.103046</td>\n",
       "      <td>0.020320</td>\n",
       "      <td>0.028969</td>\n",
       "      <td>-0.145844</td>\n",
       "      <td>-0.340674</td>\n",
       "      <td>-0.046649</td>\n",
       "      <td>...</td>\n",
       "      <td>0.225929</td>\n",
       "      <td>-0.187915</td>\n",
       "      <td>-0.081874</td>\n",
       "      <td>0.197965</td>\n",
       "      <td>-0.005069</td>\n",
       "      <td>-0.032671</td>\n",
       "      <td>-0.163772</td>\n",
       "      <td>0.080674</td>\n",
       "      <td>-0.251946</td>\n",
       "      <td>-0.057077</td>\n",
       "    </tr>\n",
       "    <tr>\n",
       "      <th>3687</th>\n",
       "      <td>0.039101</td>\n",
       "      <td>-0.288119</td>\n",
       "      <td>0.094274</td>\n",
       "      <td>-0.092711</td>\n",
       "      <td>0.049758</td>\n",
       "      <td>0.019292</td>\n",
       "      <td>0.041086</td>\n",
       "      <td>-0.070491</td>\n",
       "      <td>-0.032786</td>\n",
       "      <td>0.002684</td>\n",
       "      <td>...</td>\n",
       "      <td>-0.112828</td>\n",
       "      <td>0.197705</td>\n",
       "      <td>-0.023961</td>\n",
       "      <td>-0.168461</td>\n",
       "      <td>-0.003887</td>\n",
       "      <td>-0.032678</td>\n",
       "      <td>-0.139674</td>\n",
       "      <td>-0.203902</td>\n",
       "      <td>-0.038330</td>\n",
       "      <td>-0.062641</td>\n",
       "    </tr>\n",
       "    <tr>\n",
       "      <th>5358</th>\n",
       "      <td>0.039634</td>\n",
       "      <td>-0.443706</td>\n",
       "      <td>0.319109</td>\n",
       "      <td>0.072812</td>\n",
       "      <td>0.103003</td>\n",
       "      <td>0.019510</td>\n",
       "      <td>0.041031</td>\n",
       "      <td>0.116853</td>\n",
       "      <td>-0.089837</td>\n",
       "      <td>0.020392</td>\n",
       "      <td>...</td>\n",
       "      <td>0.207698</td>\n",
       "      <td>0.194387</td>\n",
       "      <td>-0.031171</td>\n",
       "      <td>-0.193001</td>\n",
       "      <td>-0.011066</td>\n",
       "      <td>-0.032715</td>\n",
       "      <td>-0.099784</td>\n",
       "      <td>-0.288162</td>\n",
       "      <td>0.373373</td>\n",
       "      <td>-0.062292</td>\n",
       "    </tr>\n",
       "    <tr>\n",
       "      <th>3134</th>\n",
       "      <td>0.031942</td>\n",
       "      <td>0.213327</td>\n",
       "      <td>-0.125175</td>\n",
       "      <td>-0.135381</td>\n",
       "      <td>-0.103592</td>\n",
       "      <td>0.026093</td>\n",
       "      <td>0.031880</td>\n",
       "      <td>-0.150327</td>\n",
       "      <td>-0.313750</td>\n",
       "      <td>-0.055498</td>\n",
       "      <td>...</td>\n",
       "      <td>-0.081078</td>\n",
       "      <td>-0.042125</td>\n",
       "      <td>-0.041116</td>\n",
       "      <td>0.050028</td>\n",
       "      <td>0.259347</td>\n",
       "      <td>-0.032708</td>\n",
       "      <td>0.492637</td>\n",
       "      <td>-0.170414</td>\n",
       "      <td>-0.097644</td>\n",
       "      <td>-0.062282</td>\n",
       "    </tr>\n",
       "    <tr>\n",
       "      <th>4500</th>\n",
       "      <td>0.031242</td>\n",
       "      <td>0.014962</td>\n",
       "      <td>0.394688</td>\n",
       "      <td>-0.068741</td>\n",
       "      <td>0.017149</td>\n",
       "      <td>0.019292</td>\n",
       "      <td>0.030366</td>\n",
       "      <td>-0.135575</td>\n",
       "      <td>-0.566520</td>\n",
       "      <td>-0.031810</td>\n",
       "      <td>...</td>\n",
       "      <td>-0.074881</td>\n",
       "      <td>0.008161</td>\n",
       "      <td>-0.067465</td>\n",
       "      <td>0.104508</td>\n",
       "      <td>0.078771</td>\n",
       "      <td>-0.032743</td>\n",
       "      <td>-0.196825</td>\n",
       "      <td>0.180840</td>\n",
       "      <td>-0.273168</td>\n",
       "      <td>-0.061942</td>\n",
       "    </tr>\n",
       "  </tbody>\n",
       "</table>\n",
       "<p>5 rows × 64 columns</p>\n",
       "</div>"
      ],
      "text/plain": [
       "            X1        X2        X3        X4        X5        X6        X7  \\\n",
       "Id                                                                           \n",
       "3119  0.029838  0.140369 -0.029327 -0.133150 -0.103046  0.020320  0.028969   \n",
       "3687  0.039101 -0.288119  0.094274 -0.092711  0.049758  0.019292  0.041086   \n",
       "5358  0.039634 -0.443706  0.319109  0.072812  0.103003  0.019510  0.041031   \n",
       "3134  0.031942  0.213327 -0.125175 -0.135381 -0.103592  0.026093  0.031880   \n",
       "4500  0.031242  0.014962  0.394688 -0.068741  0.017149  0.019292  0.030366   \n",
       "\n",
       "            X8        X9       X10    ...          X55       X56       X57  \\\n",
       "Id                                    ...                                    \n",
       "3119 -0.145844 -0.340674 -0.046649    ...     0.225929 -0.187915 -0.081874   \n",
       "3687 -0.070491 -0.032786  0.002684    ...    -0.112828  0.197705 -0.023961   \n",
       "5358  0.116853 -0.089837  0.020392    ...     0.207698  0.194387 -0.031171   \n",
       "3134 -0.150327 -0.313750 -0.055498    ...    -0.081078 -0.042125 -0.041116   \n",
       "4500 -0.135575 -0.566520 -0.031810    ...    -0.074881  0.008161 -0.067465   \n",
       "\n",
       "           X58       X59       X60       X61       X62       X63       X64  \n",
       "Id                                                                          \n",
       "3119  0.197965 -0.005069 -0.032671 -0.163772  0.080674 -0.251946 -0.057077  \n",
       "3687 -0.168461 -0.003887 -0.032678 -0.139674 -0.203902 -0.038330 -0.062641  \n",
       "5358 -0.193001 -0.011066 -0.032715 -0.099784 -0.288162  0.373373 -0.062292  \n",
       "3134  0.050028  0.259347 -0.032708  0.492637 -0.170414 -0.097644 -0.062282  \n",
       "4500  0.104508  0.078771 -0.032743 -0.196825  0.180840 -0.273168 -0.061942  \n",
       "\n",
       "[5 rows x 64 columns]"
      ]
     },
     "execution_count": 610,
     "metadata": {},
     "output_type": "execute_result"
    }
   ],
   "source": [
    "X_test.head()"
   ]
  },
  {
   "cell_type": "markdown",
   "metadata": {},
   "source": [
    "# Recipe Step D: Train a model\n",
    "\n",
    "# Recipe D.1: Select a model\n",
    "\n",
    "I will use the following models one by one and discuss the pros/cons for each of them. Then choose the best-performed one as MyModel.\n",
    "- (1) Naive Bayes\n",
    "- (2) Logistic Regression\n",
    "- (3) K Nearest Neighbors\n",
    "- (4) Decision Tree\n",
    "- (5) Random Forest\n",
    "- (6) Support Vector Machines"
   ]
  },
  {
   "cell_type": "markdown",
   "metadata": {},
   "source": [
    "# (1) Naive Bayes"
   ]
  },
  {
   "cell_type": "markdown",
   "metadata": {},
   "source": [
    "# Recipe D.2: Fit\n"
   ]
  },
  {
   "cell_type": "code",
   "execution_count": 611,
   "metadata": {},
   "outputs": [
    {
     "data": {
      "text/plain": [
       "GaussianNB(priors=None)"
      ]
     },
     "execution_count": 611,
     "metadata": {},
     "output_type": "execute_result"
    }
   ],
   "source": [
    "model_NB = GaussianNB()\n",
    "model_NB.fit(X_train, y_train)"
   ]
  },
  {
   "cell_type": "markdown",
   "metadata": {},
   "source": [
    "# Recipe D.3: Validation and Cross Validation\n"
   ]
  },
  {
   "cell_type": "code",
   "execution_count": 612,
   "metadata": {
    "scrolled": true
   },
   "outputs": [
    {
     "name": "stdout",
     "output_type": "stream",
     "text": [
      "Naive Bayes: Avg cross val score = 0.18\n",
      "Naive Bayes: Accuracy = 92.32%\n"
     ]
    }
   ],
   "source": [
    "model = \"Naive Bayes\"\n",
    "cross_val_avg = np.mean(cross_val_score(model_NB, X_train, y_train, cv=5))\n",
    "\n",
    "print(\"{m:s}: Avg cross val score = {sc:3.2f}\".format(m=model, sc=cross_val_avg) )\n",
    "\n",
    "accuracy = accuracy_score(y_true = y_test, y_pred = model_NB.predict (X_test))\n",
    "print(\"{m:s}: Accuracy = {a:.2%}\".format(m=model, a=accuracy) )"
   ]
  },
  {
   "cell_type": "markdown",
   "metadata": {},
   "source": [
    "The performance of Naive Bayes on the training set"
   ]
  },
  {
   "cell_type": "code",
   "execution_count": 613,
   "metadata": {},
   "outputs": [
    {
     "data": {
      "text/plain": [
       "0.17488323819408408"
      ]
     },
     "execution_count": 613,
     "metadata": {},
     "output_type": "execute_result"
    }
   ],
   "source": [
    "accuracy_train = model_NB.score(X_train,y_train)\n",
    "accuracy_train"
   ]
  },
  {
   "cell_type": "markdown",
   "metadata": {},
   "source": [
    "# Recipe D.4: Error Analysis"
   ]
  },
  {
   "cell_type": "markdown",
   "metadata": {},
   "source": [
    "- We can see that average cross val score & accuracy on the training set are extremely low. \n",
    "- Naive Bayes is certainly not a good model to use. "
   ]
  },
  {
   "cell_type": "markdown",
   "metadata": {},
   "source": [
    "# (2) Logistic Regression with no additional feature engineering\n",
    "- Since there are already 64 features, I decided not to create new features."
   ]
  },
  {
   "cell_type": "markdown",
   "metadata": {},
   "source": [
    "# Recipe D.2: Fit"
   ]
  },
  {
   "cell_type": "code",
   "execution_count": 614,
   "metadata": {},
   "outputs": [
    {
     "data": {
      "text/plain": [
       "LogisticRegression(C=1.0, class_weight=None, dual=False, fit_intercept=True,\n",
       "          intercept_scaling=1, max_iter=100, multi_class='ovr', n_jobs=1,\n",
       "          penalty='l2', random_state=None, solver='liblinear', tol=0.0001,\n",
       "          verbose=0, warm_start=False)"
      ]
     },
     "execution_count": 614,
     "metadata": {},
     "output_type": "execute_result"
    }
   ],
   "source": [
    "model_LogisticReg = LogisticRegression()\n",
    "model_LogisticReg.fit(X_train, y_train)"
   ]
  },
  {
   "cell_type": "markdown",
   "metadata": {},
   "source": [
    "# Recipe D.3: Validation and Cross Validation"
   ]
  },
  {
   "cell_type": "code",
   "execution_count": 615,
   "metadata": {
    "scrolled": true
   },
   "outputs": [
    {
     "name": "stdout",
     "output_type": "stream",
     "text": [
      "Logistic Regression, version 0: Avg cross val score = 0.94\n",
      "Logistic Regression, version 0: Accuracy = 92.01%\n"
     ]
    }
   ],
   "source": [
    "model = \"Logistic Regression, version 0\"\n",
    "cross_val_avg = np.mean(cross_val_score(model_LogisticReg, X_train, y_train, cv=5))\n",
    "\n",
    "print(\"{m:s}: Avg cross val score = {sc:3.2f}\".format(m=model, sc=cross_val_avg) )\n",
    "\n",
    "accuracy = accuracy_score(y_true = y_test, y_pred = model_LogisticReg.predict (X_test))\n",
    "print(\"{m:s}: Accuracy = {a:.2%}\".format(m=model, a=accuracy) )"
   ]
  },
  {
   "cell_type": "markdown",
   "metadata": {},
   "source": [
    "The performance of Logistic Regression on the training set"
   ]
  },
  {
   "cell_type": "code",
   "execution_count": 616,
   "metadata": {},
   "outputs": [
    {
     "data": {
      "text/plain": [
       "0.9423975090814738"
      ]
     },
     "execution_count": 616,
     "metadata": {},
     "output_type": "execute_result"
    }
   ],
   "source": [
    "accuracy_train = model_LogisticReg.score(X_train,y_train)\n",
    "accuracy_train"
   ]
  },
  {
   "cell_type": "markdown",
   "metadata": {},
   "source": [
    "# Recipe D.4: Error Analysis\n"
   ]
  },
  {
   "cell_type": "code",
   "execution_count": 617,
   "metadata": {
    "scrolled": true
   },
   "outputs": [
    {
     "name": "stdout",
     "output_type": "stream",
     "text": [
      "Accuracy: 0.9201244813278008\n",
      "Recall: 0.935965848452508\n",
      "Specificity: 0.37037037037037035\n",
      "Precision: 0.9809843400447428\n",
      "False positive rate: 0.6296296296296297\n"
     ]
    }
   ],
   "source": [
    "matrix = confusion_matrix(y_true = y_test, y_pred = model_LogisticReg.predict (X_test))\n",
    "matrix\n",
    "\n",
    "TP, FP, FN, TN = matrix.ravel()\n",
    "TP, FP, FN, TN\n",
    "\n",
    "accuracy = (TP + TN)/(TP + FP + FN + TN)\n",
    "recall = TP/(TP + FN)\n",
    "specificity = TN / (TN+FP)\n",
    "precision = TP / (TP+FP)\n",
    "false_positive_rate = FP/ (FP+TN)\n",
    "#f1_score = f1_score(y_true = y_test, y_pred = model_LogisticReg.predict (X_test))\n",
    "\n",
    "\n",
    "print(\"Accuracy:\", accuracy)\n",
    "print(\"Recall:\", recall)\n",
    "print(\"Specificity:\",specificity)\n",
    "print(\"Precision:\", precision)\n",
    "print(\"False positive rate:\", false_positive_rate)\n",
    "#print(\"F1 score:\", f1_score)\n"
   ]
  },
  {
   "cell_type": "markdown",
   "metadata": {},
   "source": [
    "- The accuracy of logistic regression on both test and training sets is high, which is good.\n",
    "- Recall & precision are also high, which is good.\n",
    "- However, **specificity is very low & false positive is very high.**\n",
    "\n",
    "> The low specificity and high false positive rates might be caused by imbalanced classes (i.e. \"Bankrupt\" column has a lot of zeros, but only a few ones). To increase specificity and lower false positive rate, I will do **resampling** in the extra credit part."
   ]
  },
  {
   "cell_type": "markdown",
   "metadata": {},
   "source": [
    "# (3) K Nearest Neighbors (KNN)"
   ]
  },
  {
   "cell_type": "markdown",
   "metadata": {},
   "source": [
    "# Recipe D.2: Fit"
   ]
  },
  {
   "cell_type": "code",
   "execution_count": 618,
   "metadata": {
    "scrolled": true
   },
   "outputs": [
    {
     "data": {
      "text/plain": [
       "KNeighborsClassifier(algorithm='auto', leaf_size=30, metric='euclidean',\n",
       "           metric_params=None, n_jobs=1, n_neighbors=5, p=2,\n",
       "           weights='uniform')"
      ]
     },
     "execution_count": 618,
     "metadata": {},
     "output_type": "execute_result"
    }
   ],
   "source": [
    "model_KNN = KNeighborsClassifier(n_neighbors=5, metric='euclidean')\n",
    "model_KNN.fit(X_train, y_train)"
   ]
  },
  {
   "cell_type": "markdown",
   "metadata": {},
   "source": [
    "# Recipe D.3: Validation and Cross Validation"
   ]
  },
  {
   "cell_type": "code",
   "execution_count": 619,
   "metadata": {
    "scrolled": true
   },
   "outputs": [
    {
     "name": "stdout",
     "output_type": "stream",
     "text": [
      "KNN: Avg cross val score = 0.94\n",
      "KNN: Accuracy = 92.43%\n"
     ]
    }
   ],
   "source": [
    "model = \"KNN\"\n",
    "cross_val_avg = np.mean(cross_val_score(model_KNN, X_train, y_train, cv=5))\n",
    "\n",
    "print(\"{m:s}: Avg cross val score = {sc:3.2f}\".format(m=model, sc=cross_val_avg) )\n",
    "\n",
    "accuracy = accuracy_score(y_true = y_test, y_pred = model_KNN.predict (X_test))\n",
    "print(\"{m:s}: Accuracy = {a:.2%}\".format(m=model, a=accuracy) )"
   ]
  },
  {
   "cell_type": "markdown",
   "metadata": {},
   "source": [
    "The performance of KNN on the training set"
   ]
  },
  {
   "cell_type": "code",
   "execution_count": 620,
   "metadata": {
    "scrolled": true
   },
   "outputs": [
    {
     "data": {
      "text/plain": [
       "0.9481058640373637"
      ]
     },
     "execution_count": 620,
     "metadata": {},
     "output_type": "execute_result"
    }
   ],
   "source": [
    "accuracy_train = model_KNN.score(X_train,y_train)\n",
    "accuracy_train"
   ]
  },
  {
   "cell_type": "markdown",
   "metadata": {},
   "source": [
    "# Recipe D.4: Error Analysis\n"
   ]
  },
  {
   "cell_type": "code",
   "execution_count": 621,
   "metadata": {
    "scrolled": true
   },
   "outputs": [
    {
     "name": "stdout",
     "output_type": "stream",
     "text": [
      "Accuracy: 0.9242738589211619\n",
      "Recall: 0.928944618599791\n",
      "Specificity: 0.2857142857142857\n",
      "Precision: 0.9944071588366891\n",
      "False positive rate: 0.7142857142857143\n"
     ]
    }
   ],
   "source": [
    "matrix = confusion_matrix(y_true = y_test, y_pred = model_KNN.predict (X_test))\n",
    "matrix\n",
    "\n",
    "TP, FP, FN, TN = matrix.ravel()\n",
    "TP, FP, FN, TN\n",
    "\n",
    "accuracy = (TP + TN)/(TP + FP + FN + TN)\n",
    "recall = TP/(TP + FN)\n",
    "specificity = TN / (TN+FP)\n",
    "precision = TP / (TP+FP)\n",
    "false_positive_rate = FP/ (FP+TN)\n",
    "\n",
    "print(\"Accuracy:\", accuracy)\n",
    "print(\"Recall:\", recall)\n",
    "print(\"Specificity:\",specificity)\n",
    "print(\"Precision:\", precision)\n",
    "print(\"False positive rate:\", false_positive_rate)\n"
   ]
  },
  {
   "cell_type": "markdown",
   "metadata": {},
   "source": [
    "Same as Logistic Regression,\n",
    "- The accuracy of logistic regression on both test and training sets is high, which is good.\n",
    "- Recall & precision are also high, which is good.\n",
    "- However, **specificity** is very low & **false positive** is very high. \n",
    "\n",
    "> The low specificity and high false positive rates might be caused by imbalanced classes (i.e. \"Bankrupt\" column has a lot of zeros, but only a few ones). To increase specificity and lower false positive rate, I will do **resampling** in the extra credit part.\n",
    "\n",
    "- **In addition, I found the execution time for the KNN model is longer than NB and Logistic. One of the cons of KNN model is the high memory requirement. All of the training data must be present in memory in order to calculate the closest K neighbors. **\n",
    "- **As we have thousands of lines of data here, KNN is not an optimal choice for us. **"
   ]
  },
  {
   "cell_type": "markdown",
   "metadata": {},
   "source": [
    "# (4) Decision Tree (DT)\n"
   ]
  },
  {
   "cell_type": "markdown",
   "metadata": {},
   "source": [
    "# Recipe D.2: Fit"
   ]
  },
  {
   "cell_type": "code",
   "execution_count": 622,
   "metadata": {
    "scrolled": false
   },
   "outputs": [
    {
     "data": {
      "text/plain": [
       "DecisionTreeClassifier(class_weight=None, criterion='gini', max_depth=None,\n",
       "            max_features=None, max_leaf_nodes=None,\n",
       "            min_impurity_decrease=0.0, min_impurity_split=None,\n",
       "            min_samples_leaf=1, min_samples_split=2,\n",
       "            min_weight_fraction_leaf=0.0, presort=False, random_state=None,\n",
       "            splitter='best')"
      ]
     },
     "execution_count": 622,
     "metadata": {},
     "output_type": "execute_result"
    }
   ],
   "source": [
    "model_DT = DecisionTreeClassifier()\n",
    "model_DT.fit(X_train, y_train)"
   ]
  },
  {
   "cell_type": "markdown",
   "metadata": {},
   "source": [
    "# Recipe D.3: Validation and Cross Validation"
   ]
  },
  {
   "cell_type": "code",
   "execution_count": 623,
   "metadata": {
    "scrolled": true
   },
   "outputs": [
    {
     "name": "stdout",
     "output_type": "stream",
     "text": [
      "Decision Tree: Avg cross val score = 0.92\n",
      "Decision Tree: Accuracy = 33.40%\n"
     ]
    }
   ],
   "source": [
    "model = \"Decision Tree\"\n",
    "cross_val_avg = np.mean(cross_val_score(model_DT, X_train, y_train, cv=5))\n",
    "\n",
    "print(\"{m:s}: Avg cross val score = {sc:3.2f}\".format(m=model, sc=cross_val_avg) )\n",
    "\n",
    "accuracy = accuracy_score(y_true = y_test, y_pred = model_DT.predict (X_test))\n",
    "print(\"{m:s}: Accuracy = {a:.2%}\".format(m=model, a=accuracy) )"
   ]
  },
  {
   "cell_type": "markdown",
   "metadata": {},
   "source": [
    "The performance of Decision Tree on the training set"
   ]
  },
  {
   "cell_type": "code",
   "execution_count": 624,
   "metadata": {
    "scrolled": false
   },
   "outputs": [
    {
     "data": {
      "text/plain": [
       "1.0"
      ]
     },
     "execution_count": 624,
     "metadata": {},
     "output_type": "execute_result"
    }
   ],
   "source": [
    "accuracy_train = model_DT.score(X_train,y_train)\n",
    "accuracy_train"
   ]
  },
  {
   "cell_type": "markdown",
   "metadata": {},
   "source": [
    "# Recipe D.4: Error Analysis\n"
   ]
  },
  {
   "cell_type": "code",
   "execution_count": 625,
   "metadata": {
    "scrolled": false
   },
   "outputs": [
    {
     "name": "stdout",
     "output_type": "stream",
     "text": [
      "Accuracy: 0.33402489626556015\n",
      "Recall: 0.9436619718309859\n",
      "Specificity: 0.07941176470588235\n",
      "Precision: 0.29977628635346754\n",
      "False positive rate: 0.9205882352941176\n"
     ]
    }
   ],
   "source": [
    "matrix = confusion_matrix(y_true = y_test, y_pred = model_DT.predict (X_test))\n",
    "matrix\n",
    "\n",
    "TP, FP, FN, TN = matrix.ravel()\n",
    "TP, FP, FN, TN\n",
    "\n",
    "accuracy = (TP + TN)/(TP + FP + FN + TN)\n",
    "recall = TP/(TP + FN)\n",
    "specificity = TN / (TN+FP)\n",
    "precision = TP / (TP+FP)\n",
    "false_positive_rate = FP/ (FP+TN)\n",
    "\n",
    "print(\"Accuracy:\", accuracy)\n",
    "print(\"Recall:\", recall)\n",
    "print(\"Specificity:\",specificity)\n",
    "print(\"Precision:\", precision)\n",
    "print(\"False positive rate:\", false_positive_rate)"
   ]
  },
  {
   "cell_type": "markdown",
   "metadata": {},
   "source": [
    "Decision Tree is certainly not a good model to use.\n",
    "- very low accuracy, specificity & precision \n",
    "- very high false positive rate \n",
    "- long execution time "
   ]
  },
  {
   "cell_type": "markdown",
   "metadata": {},
   "source": [
    "# (5) Random Forest (RF)"
   ]
  },
  {
   "cell_type": "markdown",
   "metadata": {},
   "source": [
    "# Recipe D.2: Fit"
   ]
  },
  {
   "cell_type": "code",
   "execution_count": 626,
   "metadata": {
    "scrolled": false
   },
   "outputs": [
    {
     "data": {
      "text/plain": [
       "RandomForestClassifier(bootstrap=True, class_weight=None, criterion='gini',\n",
       "            max_depth=None, max_features='auto', max_leaf_nodes=None,\n",
       "            min_impurity_decrease=0.0, min_impurity_split=None,\n",
       "            min_samples_leaf=1, min_samples_split=2,\n",
       "            min_weight_fraction_leaf=0.0, n_estimators=100, n_jobs=1,\n",
       "            oob_score=False, random_state=42, verbose=0, warm_start=False)"
      ]
     },
     "execution_count": 626,
     "metadata": {},
     "output_type": "execute_result"
    }
   ],
   "source": [
    "model_RF = RandomForestClassifier(n_estimators=100, random_state=42)\n",
    "model_RF.fit(X_train, y_train)"
   ]
  },
  {
   "cell_type": "markdown",
   "metadata": {},
   "source": [
    "# Recipe D.3: Validation and Cross Validation"
   ]
  },
  {
   "cell_type": "code",
   "execution_count": 627,
   "metadata": {
    "scrolled": false
   },
   "outputs": [
    {
     "name": "stdout",
     "output_type": "stream",
     "text": [
      "Random Forest: Avg cross val score = 0.95\n",
      "Random Forest: Accuracy = 39.52%\n"
     ]
    }
   ],
   "source": [
    "model = \"Random Forest\"\n",
    "cross_val_avg = np.mean(cross_val_score(model_RF, X_train, y_train, cv=5))\n",
    "\n",
    "print(\"{m:s}: Avg cross val score = {sc:3.2f}\".format(m=model, sc=cross_val_avg) )\n",
    "\n",
    "accuracy = accuracy_score(y_true = y_test, y_pred = model_RF.predict (X_test))\n",
    "print(\"{m:s}: Accuracy = {a:.2%}\".format(m=model, a=accuracy) )"
   ]
  },
  {
   "cell_type": "markdown",
   "metadata": {},
   "source": [
    "The performance of Random Forest on the training set"
   ]
  },
  {
   "cell_type": "code",
   "execution_count": 628,
   "metadata": {
    "scrolled": false
   },
   "outputs": [
    {
     "data": {
      "text/plain": [
       "1.0"
      ]
     },
     "execution_count": 628,
     "metadata": {},
     "output_type": "execute_result"
    }
   ],
   "source": [
    "accuracy_train = model_RF.score(X_train,y_train)\n",
    "accuracy_train"
   ]
  },
  {
   "cell_type": "markdown",
   "metadata": {},
   "source": [
    "# Recipe D.4: Error Analysis\n"
   ]
  },
  {
   "cell_type": "code",
   "execution_count": 629,
   "metadata": {
    "scrolled": false
   },
   "outputs": [
    {
     "name": "stdout",
     "output_type": "stream",
     "text": [
      "Accuracy: 0.39522821576763484\n",
      "Recall: 0.9507246376811594\n",
      "Specificity: 0.08562197092084006\n",
      "Precision: 0.3668903803131991\n",
      "False positive rate: 0.9143780290791599\n"
     ]
    }
   ],
   "source": [
    "matrix = confusion_matrix(y_true = y_test, y_pred = model_RF.predict (X_test))\n",
    "matrix\n",
    "\n",
    "TP, FP, FN, TN = matrix.ravel()\n",
    "TP, FP, FN, TN\n",
    "\n",
    "accuracy = (TP + TN)/(TP + FP + FN + TN)\n",
    "recall = TP/(TP + FN)\n",
    "specificity = TN / (TN+FP)\n",
    "precision = TP / (TP+FP)\n",
    "false_positive_rate = FP/ (FP+TN)\n",
    "\n",
    "print(\"Accuracy:\", accuracy)\n",
    "print(\"Recall:\", recall)\n",
    "print(\"Specificity:\",specificity)\n",
    "print(\"Precision:\", precision)\n",
    "print(\"False positive rate:\", false_positive_rate)"
   ]
  },
  {
   "cell_type": "markdown",
   "metadata": {},
   "source": [
    "Random Forest is certainly not a good model to use.\n",
    "- very low accuracy, specificity & precision \n",
    "- very high false positive rate \n",
    "- long execution time "
   ]
  },
  {
   "cell_type": "markdown",
   "metadata": {},
   "source": [
    "# (6) Support Vector Machines (SVM)"
   ]
  },
  {
   "cell_type": "markdown",
   "metadata": {},
   "source": [
    "# Recipe D.2: Fit"
   ]
  },
  {
   "cell_type": "code",
   "execution_count": 630,
   "metadata": {
    "scrolled": false
   },
   "outputs": [
    {
     "data": {
      "text/plain": [
       "SVC(C=1.0, cache_size=200, class_weight=None, coef0=0.0,\n",
       "  decision_function_shape='ovr', degree=3, gamma='auto', kernel='rbf',\n",
       "  max_iter=-1, probability=False, random_state=None, shrinking=True,\n",
       "  tol=0.001, verbose=False)"
      ]
     },
     "execution_count": 630,
     "metadata": {},
     "output_type": "execute_result"
    }
   ],
   "source": [
    "model_SVM = SVC(gamma=\"auto\")\n",
    "model_SVM.fit(X_train, y_train)"
   ]
  },
  {
   "cell_type": "markdown",
   "metadata": {},
   "source": [
    "# Recipe D.3: Validation and Cross Validation"
   ]
  },
  {
   "cell_type": "code",
   "execution_count": 631,
   "metadata": {
    "scrolled": false
   },
   "outputs": [
    {
     "name": "stdout",
     "output_type": "stream",
     "text": [
      "SVM: Avg cross val score = 0.94\n",
      "SVM: Accuracy = 92.74%\n"
     ]
    }
   ],
   "source": [
    "model = \"SVM\"\n",
    "cross_val_avg = np.mean(cross_val_score(model_SVM, X_train, y_train, cv=5))\n",
    "\n",
    "print(\"{m:s}: Avg cross val score = {sc:3.2f}\".format(m=model, sc=cross_val_avg) )\n",
    "\n",
    "accuracy = accuracy_score(y_true = y_test, y_pred = model_SVM.predict (X_test))\n",
    "print(\"{m:s}: Accuracy = {a:.2%}\".format(m=model, a=accuracy) )"
   ]
  },
  {
   "cell_type": "markdown",
   "metadata": {},
   "source": [
    "The performance of SVM on the training set"
   ]
  },
  {
   "cell_type": "code",
   "execution_count": 632,
   "metadata": {
    "scrolled": true
   },
   "outputs": [
    {
     "data": {
      "text/plain": [
       "0.9436948624805397"
      ]
     },
     "execution_count": 632,
     "metadata": {},
     "output_type": "execute_result"
    }
   ],
   "source": [
    "accuracy_train = model_SVM.score(X_train,y_train)\n",
    "accuracy_train"
   ]
  },
  {
   "cell_type": "markdown",
   "metadata": {},
   "source": [
    "# Recipe D.4: Error Analysis\n"
   ]
  },
  {
   "cell_type": "code",
   "execution_count": 633,
   "metadata": {
    "scrolled": false
   },
   "outputs": [
    {
     "data": {
      "text/plain": [
       "(894, 0, 70, 0)"
      ]
     },
     "execution_count": 633,
     "metadata": {},
     "output_type": "execute_result"
    }
   ],
   "source": [
    "matrix = confusion_matrix(y_true = y_test, y_pred = model_SVM.predict (X_test))\n",
    "matrix\n",
    "\n",
    "TP, FP, FN, TN = matrix.ravel()\n",
    "TP, FP, FN, TN"
   ]
  },
  {
   "cell_type": "code",
   "execution_count": 634,
   "metadata": {
    "scrolled": false
   },
   "outputs": [
    {
     "name": "stdout",
     "output_type": "stream",
     "text": [
      "Accuracy: 0.9273858921161826\n",
      "Recall: 0.9273858921161826\n",
      "Specificity: nan\n",
      "Precision: 1.0\n",
      "False positive rate: nan\n"
     ]
    },
    {
     "name": "stderr",
     "output_type": "stream",
     "text": [
      "/Users/WendiZhang/anaconda3/lib/python3.6/site-packages/ipykernel_launcher.py:3: RuntimeWarning: invalid value encountered in long_scalars\n",
      "  This is separate from the ipykernel package so we can avoid doing imports until\n",
      "/Users/WendiZhang/anaconda3/lib/python3.6/site-packages/ipykernel_launcher.py:5: RuntimeWarning: invalid value encountered in long_scalars\n",
      "  \"\"\"\n"
     ]
    }
   ],
   "source": [
    "accuracy = (TP + TN)/(TP + FP + FN + TN)\n",
    "recall = TP/(TP + FN)\n",
    "specificity = TN / (TN+FP)\n",
    "precision = TP / (TP+FP)\n",
    "false_positive_rate = FP/ (FP+TN)\n",
    "\n",
    "print(\"Accuracy:\", accuracy)\n",
    "print(\"Recall:\", recall)\n",
    "print(\"Specificity:\",specificity)\n",
    "print(\"Precision:\", precision)\n",
    "print(\"False positive rate:\", false_positive_rate)"
   ]
  },
  {
   "cell_type": "markdown",
   "metadata": {},
   "source": [
    "SVM is certainly not a good model to use.\n",
    "- SVM fails to correctly predict negative cases (TN=0, FN=70)\n",
    "- relatively long execution time"
   ]
  },
  {
   "cell_type": "markdown",
   "metadata": {},
   "source": [
    "### As a conclusion, Logistic Regression is the optimal model to use as Mymodel.\n",
    "### However, we need to deal with the issue of imbalanced classes, in order to improve its performance on specificity and false positive rate."
   ]
  },
  {
   "cell_type": "markdown",
   "metadata": {},
   "source": [
    "# Extra credit opportunities\n",
    "- Address the issue of: classes being imbalanced\n",
    "- Address the issue of: Different importance of each type of misclassification\n",
    "    - It is 5 times worse to misclassify a company that *does go bankrupt* than to misclassify a company that does not go bankrupt\n",
    "        - Suppose we invest in a company for which we predict it will not go bankrupt\n",
    "            - We incur substantial losses for a bad investment\n",
    "        - The loss from not investing in a company that we incorrectly classify as going bankrupt is small (opportunity cost)"
   ]
  },
  {
   "cell_type": "markdown",
   "metadata": {},
   "source": [
    "# (1) Address the issue of: classes being imbalanced\n",
    "- I decided to **oversample** (rather than undersample) the training data by adding more copies of the minority class (where \"Bankrupt\" = 1), since we  do not have a ton of data to work with (less than 4k rows).\n"
   ]
  },
  {
   "cell_type": "code",
   "execution_count": 635,
   "metadata": {
    "scrolled": false
   },
   "outputs": [
    {
     "data": {
      "text/html": [
       "<div>\n",
       "<style scoped>\n",
       "    .dataframe tbody tr th:only-of-type {\n",
       "        vertical-align: middle;\n",
       "    }\n",
       "\n",
       "    .dataframe tbody tr th {\n",
       "        vertical-align: top;\n",
       "    }\n",
       "\n",
       "    .dataframe thead th {\n",
       "        text-align: right;\n",
       "    }\n",
       "</style>\n",
       "<table border=\"1\" class=\"dataframe\">\n",
       "  <thead>\n",
       "    <tr style=\"text-align: right;\">\n",
       "      <th></th>\n",
       "      <th>X1</th>\n",
       "      <th>X2</th>\n",
       "      <th>X3</th>\n",
       "      <th>X4</th>\n",
       "      <th>X5</th>\n",
       "      <th>X6</th>\n",
       "      <th>X7</th>\n",
       "      <th>X8</th>\n",
       "      <th>X9</th>\n",
       "      <th>X10</th>\n",
       "      <th>...</th>\n",
       "      <th>X55</th>\n",
       "      <th>X56</th>\n",
       "      <th>X57</th>\n",
       "      <th>X58</th>\n",
       "      <th>X59</th>\n",
       "      <th>X60</th>\n",
       "      <th>X61</th>\n",
       "      <th>X62</th>\n",
       "      <th>X63</th>\n",
       "      <th>X64</th>\n",
       "    </tr>\n",
       "    <tr>\n",
       "      <th>Id</th>\n",
       "      <th></th>\n",
       "      <th></th>\n",
       "      <th></th>\n",
       "      <th></th>\n",
       "      <th></th>\n",
       "      <th></th>\n",
       "      <th></th>\n",
       "      <th></th>\n",
       "      <th></th>\n",
       "      <th></th>\n",
       "      <th></th>\n",
       "      <th></th>\n",
       "      <th></th>\n",
       "      <th></th>\n",
       "      <th></th>\n",
       "      <th></th>\n",
       "      <th></th>\n",
       "      <th></th>\n",
       "      <th></th>\n",
       "      <th></th>\n",
       "      <th></th>\n",
       "    </tr>\n",
       "  </thead>\n",
       "  <tbody>\n",
       "    <tr>\n",
       "      <th>5691</th>\n",
       "      <td>0.004299</td>\n",
       "      <td>-0.033489</td>\n",
       "      <td>-0.141656</td>\n",
       "      <td>-0.036322</td>\n",
       "      <td>-0.001277</td>\n",
       "      <td>0.048424</td>\n",
       "      <td>-0.006723</td>\n",
       "      <td>-0.040002</td>\n",
       "      <td>-0.396774</td>\n",
       "      <td>0.024960</td>\n",
       "      <td>...</td>\n",
       "      <td>-0.049168</td>\n",
       "      <td>0.033493</td>\n",
       "      <td>0.016356</td>\n",
       "      <td>-0.046525</td>\n",
       "      <td>0.063131</td>\n",
       "      <td>-0.025908</td>\n",
       "      <td>0.012798</td>\n",
       "      <td>-0.032864</td>\n",
       "      <td>-0.049034</td>\n",
       "      <td>-0.075846</td>\n",
       "    </tr>\n",
       "    <tr>\n",
       "      <th>1101</th>\n",
       "      <td>-0.056227</td>\n",
       "      <td>0.054759</td>\n",
       "      <td>0.013788</td>\n",
       "      <td>-0.021422</td>\n",
       "      <td>0.000737</td>\n",
       "      <td>0.015011</td>\n",
       "      <td>-0.073083</td>\n",
       "      <td>-0.042968</td>\n",
       "      <td>-0.431112</td>\n",
       "      <td>-0.055997</td>\n",
       "      <td>...</td>\n",
       "      <td>0.398598</td>\n",
       "      <td>-0.010804</td>\n",
       "      <td>0.007920</td>\n",
       "      <td>-0.010843</td>\n",
       "      <td>0.148670</td>\n",
       "      <td>-0.089122</td>\n",
       "      <td>-0.139682</td>\n",
       "      <td>-0.058218</td>\n",
       "      <td>-0.011295</td>\n",
       "      <td>-0.073296</td>\n",
       "    </tr>\n",
       "    <tr>\n",
       "      <th>4461</th>\n",
       "      <td>-0.047072</td>\n",
       "      <td>0.159681</td>\n",
       "      <td>0.109260</td>\n",
       "      <td>-0.026175</td>\n",
       "      <td>-0.003674</td>\n",
       "      <td>0.003628</td>\n",
       "      <td>-0.087761</td>\n",
       "      <td>-0.045084</td>\n",
       "      <td>-0.365059</td>\n",
       "      <td>-0.135738</td>\n",
       "      <td>...</td>\n",
       "      <td>0.004565</td>\n",
       "      <td>0.099029</td>\n",
       "      <td>0.011718</td>\n",
       "      <td>0.029763</td>\n",
       "      <td>0.145544</td>\n",
       "      <td>-0.076038</td>\n",
       "      <td>0.056063</td>\n",
       "      <td>-0.037908</td>\n",
       "      <td>-0.045531</td>\n",
       "      <td>-0.069274</td>\n",
       "    </tr>\n",
       "    <tr>\n",
       "      <th>3715</th>\n",
       "      <td>0.532882</td>\n",
       "      <td>-0.218142</td>\n",
       "      <td>0.353093</td>\n",
       "      <td>-0.008923</td>\n",
       "      <td>0.001773</td>\n",
       "      <td>0.002917</td>\n",
       "      <td>0.649042</td>\n",
       "      <td>-0.024594</td>\n",
       "      <td>0.371771</td>\n",
       "      <td>0.219124</td>\n",
       "      <td>...</td>\n",
       "      <td>-0.091619</td>\n",
       "      <td>0.186937</td>\n",
       "      <td>0.064336</td>\n",
       "      <td>-0.168885</td>\n",
       "      <td>-0.050881</td>\n",
       "      <td>-0.062126</td>\n",
       "      <td>-0.161076</td>\n",
       "      <td>-0.060435</td>\n",
       "      <td>-0.002138</td>\n",
       "      <td>-0.029828</td>\n",
       "    </tr>\n",
       "    <tr>\n",
       "      <th>4257</th>\n",
       "      <td>-0.021053</td>\n",
       "      <td>0.038190</td>\n",
       "      <td>-0.139482</td>\n",
       "      <td>-0.036355</td>\n",
       "      <td>-0.001207</td>\n",
       "      <td>0.002917</td>\n",
       "      <td>-0.025768</td>\n",
       "      <td>-0.042135</td>\n",
       "      <td>2.511537</td>\n",
       "      <td>-0.021630</td>\n",
       "      <td>...</td>\n",
       "      <td>-0.127496</td>\n",
       "      <td>-0.053972</td>\n",
       "      <td>0.013681</td>\n",
       "      <td>0.024480</td>\n",
       "      <td>-0.015656</td>\n",
       "      <td>-0.015730</td>\n",
       "      <td>0.133959</td>\n",
       "      <td>-0.060981</td>\n",
       "      <td>0.000529</td>\n",
       "      <td>-0.054188</td>\n",
       "    </tr>\n",
       "  </tbody>\n",
       "</table>\n",
       "<p>5 rows × 64 columns</p>\n",
       "</div>"
      ],
      "text/plain": [
       "            X1        X2        X3        X4        X5        X6        X7  \\\n",
       "Id                                                                           \n",
       "5691  0.004299 -0.033489 -0.141656 -0.036322 -0.001277  0.048424 -0.006723   \n",
       "1101 -0.056227  0.054759  0.013788 -0.021422  0.000737  0.015011 -0.073083   \n",
       "4461 -0.047072  0.159681  0.109260 -0.026175 -0.003674  0.003628 -0.087761   \n",
       "3715  0.532882 -0.218142  0.353093 -0.008923  0.001773  0.002917  0.649042   \n",
       "4257 -0.021053  0.038190 -0.139482 -0.036355 -0.001207  0.002917 -0.025768   \n",
       "\n",
       "            X8        X9       X10    ...          X55       X56       X57  \\\n",
       "Id                                    ...                                    \n",
       "5691 -0.040002 -0.396774  0.024960    ...    -0.049168  0.033493  0.016356   \n",
       "1101 -0.042968 -0.431112 -0.055997    ...     0.398598 -0.010804  0.007920   \n",
       "4461 -0.045084 -0.365059 -0.135738    ...     0.004565  0.099029  0.011718   \n",
       "3715 -0.024594  0.371771  0.219124    ...    -0.091619  0.186937  0.064336   \n",
       "4257 -0.042135  2.511537 -0.021630    ...    -0.127496 -0.053972  0.013681   \n",
       "\n",
       "           X58       X59       X60       X61       X62       X63       X64  \n",
       "Id                                                                          \n",
       "5691 -0.046525  0.063131 -0.025908  0.012798 -0.032864 -0.049034 -0.075846  \n",
       "1101 -0.010843  0.148670 -0.089122 -0.139682 -0.058218 -0.011295 -0.073296  \n",
       "4461  0.029763  0.145544 -0.076038  0.056063 -0.037908 -0.045531 -0.069274  \n",
       "3715 -0.168885 -0.050881 -0.062126 -0.161076 -0.060435 -0.002138 -0.029828  \n",
       "4257  0.024480 -0.015656 -0.015730  0.133959 -0.060981  0.000529 -0.054188  \n",
       "\n",
       "[5 rows x 64 columns]"
      ]
     },
     "execution_count": 635,
     "metadata": {},
     "output_type": "execute_result"
    }
   ],
   "source": [
    "X_train.head()"
   ]
  },
  {
   "cell_type": "code",
   "execution_count": 636,
   "metadata": {
    "scrolled": false
   },
   "outputs": [
    {
     "data": {
      "text/html": [
       "<div>\n",
       "<style scoped>\n",
       "    .dataframe tbody tr th:only-of-type {\n",
       "        vertical-align: middle;\n",
       "    }\n",
       "\n",
       "    .dataframe tbody tr th {\n",
       "        vertical-align: top;\n",
       "    }\n",
       "\n",
       "    .dataframe thead th {\n",
       "        text-align: right;\n",
       "    }\n",
       "</style>\n",
       "<table border=\"1\" class=\"dataframe\">\n",
       "  <thead>\n",
       "    <tr style=\"text-align: right;\">\n",
       "      <th></th>\n",
       "      <th>Bankrupt</th>\n",
       "    </tr>\n",
       "    <tr>\n",
       "      <th>Id</th>\n",
       "      <th></th>\n",
       "    </tr>\n",
       "  </thead>\n",
       "  <tbody>\n",
       "    <tr>\n",
       "      <th>5691</th>\n",
       "      <td>0</td>\n",
       "    </tr>\n",
       "    <tr>\n",
       "      <th>1101</th>\n",
       "      <td>0</td>\n",
       "    </tr>\n",
       "    <tr>\n",
       "      <th>4461</th>\n",
       "      <td>0</td>\n",
       "    </tr>\n",
       "    <tr>\n",
       "      <th>3715</th>\n",
       "      <td>0</td>\n",
       "    </tr>\n",
       "    <tr>\n",
       "      <th>4257</th>\n",
       "      <td>0</td>\n",
       "    </tr>\n",
       "  </tbody>\n",
       "</table>\n",
       "</div>"
      ],
      "text/plain": [
       "      Bankrupt\n",
       "Id            \n",
       "5691         0\n",
       "1101         0\n",
       "4461         0\n",
       "3715         0\n",
       "4257         0"
      ]
     },
     "execution_count": 636,
     "metadata": {},
     "output_type": "execute_result"
    }
   ],
   "source": [
    "y_train_df = pd.DataFrame(data = y_train)\n",
    "y_train_df['Id'] = list(X_train.index)\n",
    "\n",
    "y_train_df.set_index('Id', inplace=True)\n",
    "\n",
    "y_train_df.head()"
   ]
  },
  {
   "cell_type": "code",
   "execution_count": 637,
   "metadata": {
    "scrolled": true
   },
   "outputs": [
    {
     "data": {
      "text/html": [
       "<div>\n",
       "<style scoped>\n",
       "    .dataframe tbody tr th:only-of-type {\n",
       "        vertical-align: middle;\n",
       "    }\n",
       "\n",
       "    .dataframe tbody tr th {\n",
       "        vertical-align: top;\n",
       "    }\n",
       "\n",
       "    .dataframe thead th {\n",
       "        text-align: right;\n",
       "    }\n",
       "</style>\n",
       "<table border=\"1\" class=\"dataframe\">\n",
       "  <thead>\n",
       "    <tr style=\"text-align: right;\">\n",
       "      <th></th>\n",
       "      <th>X1</th>\n",
       "      <th>X2</th>\n",
       "      <th>X3</th>\n",
       "      <th>X4</th>\n",
       "      <th>X5</th>\n",
       "      <th>X6</th>\n",
       "      <th>X7</th>\n",
       "      <th>X8</th>\n",
       "      <th>X9</th>\n",
       "      <th>X10</th>\n",
       "      <th>...</th>\n",
       "      <th>X56</th>\n",
       "      <th>X57</th>\n",
       "      <th>X58</th>\n",
       "      <th>X59</th>\n",
       "      <th>X60</th>\n",
       "      <th>X61</th>\n",
       "      <th>X62</th>\n",
       "      <th>X63</th>\n",
       "      <th>X64</th>\n",
       "      <th>Bankrupt</th>\n",
       "    </tr>\n",
       "    <tr>\n",
       "      <th>Id</th>\n",
       "      <th></th>\n",
       "      <th></th>\n",
       "      <th></th>\n",
       "      <th></th>\n",
       "      <th></th>\n",
       "      <th></th>\n",
       "      <th></th>\n",
       "      <th></th>\n",
       "      <th></th>\n",
       "      <th></th>\n",
       "      <th></th>\n",
       "      <th></th>\n",
       "      <th></th>\n",
       "      <th></th>\n",
       "      <th></th>\n",
       "      <th></th>\n",
       "      <th></th>\n",
       "      <th></th>\n",
       "      <th></th>\n",
       "      <th></th>\n",
       "      <th></th>\n",
       "    </tr>\n",
       "  </thead>\n",
       "  <tbody>\n",
       "    <tr>\n",
       "      <th>5691</th>\n",
       "      <td>0.004299</td>\n",
       "      <td>-0.033489</td>\n",
       "      <td>-0.141656</td>\n",
       "      <td>-0.036322</td>\n",
       "      <td>-0.001277</td>\n",
       "      <td>0.048424</td>\n",
       "      <td>-0.006723</td>\n",
       "      <td>-0.040002</td>\n",
       "      <td>-0.396774</td>\n",
       "      <td>0.024960</td>\n",
       "      <td>...</td>\n",
       "      <td>0.033493</td>\n",
       "      <td>0.016356</td>\n",
       "      <td>-0.046525</td>\n",
       "      <td>0.063131</td>\n",
       "      <td>-0.025908</td>\n",
       "      <td>0.012798</td>\n",
       "      <td>-0.032864</td>\n",
       "      <td>-0.049034</td>\n",
       "      <td>-0.075846</td>\n",
       "      <td>0</td>\n",
       "    </tr>\n",
       "    <tr>\n",
       "      <th>1101</th>\n",
       "      <td>-0.056227</td>\n",
       "      <td>0.054759</td>\n",
       "      <td>0.013788</td>\n",
       "      <td>-0.021422</td>\n",
       "      <td>0.000737</td>\n",
       "      <td>0.015011</td>\n",
       "      <td>-0.073083</td>\n",
       "      <td>-0.042968</td>\n",
       "      <td>-0.431112</td>\n",
       "      <td>-0.055997</td>\n",
       "      <td>...</td>\n",
       "      <td>-0.010804</td>\n",
       "      <td>0.007920</td>\n",
       "      <td>-0.010843</td>\n",
       "      <td>0.148670</td>\n",
       "      <td>-0.089122</td>\n",
       "      <td>-0.139682</td>\n",
       "      <td>-0.058218</td>\n",
       "      <td>-0.011295</td>\n",
       "      <td>-0.073296</td>\n",
       "      <td>0</td>\n",
       "    </tr>\n",
       "    <tr>\n",
       "      <th>4461</th>\n",
       "      <td>-0.047072</td>\n",
       "      <td>0.159681</td>\n",
       "      <td>0.109260</td>\n",
       "      <td>-0.026175</td>\n",
       "      <td>-0.003674</td>\n",
       "      <td>0.003628</td>\n",
       "      <td>-0.087761</td>\n",
       "      <td>-0.045084</td>\n",
       "      <td>-0.365059</td>\n",
       "      <td>-0.135738</td>\n",
       "      <td>...</td>\n",
       "      <td>0.099029</td>\n",
       "      <td>0.011718</td>\n",
       "      <td>0.029763</td>\n",
       "      <td>0.145544</td>\n",
       "      <td>-0.076038</td>\n",
       "      <td>0.056063</td>\n",
       "      <td>-0.037908</td>\n",
       "      <td>-0.045531</td>\n",
       "      <td>-0.069274</td>\n",
       "      <td>0</td>\n",
       "    </tr>\n",
       "    <tr>\n",
       "      <th>3715</th>\n",
       "      <td>0.532882</td>\n",
       "      <td>-0.218142</td>\n",
       "      <td>0.353093</td>\n",
       "      <td>-0.008923</td>\n",
       "      <td>0.001773</td>\n",
       "      <td>0.002917</td>\n",
       "      <td>0.649042</td>\n",
       "      <td>-0.024594</td>\n",
       "      <td>0.371771</td>\n",
       "      <td>0.219124</td>\n",
       "      <td>...</td>\n",
       "      <td>0.186937</td>\n",
       "      <td>0.064336</td>\n",
       "      <td>-0.168885</td>\n",
       "      <td>-0.050881</td>\n",
       "      <td>-0.062126</td>\n",
       "      <td>-0.161076</td>\n",
       "      <td>-0.060435</td>\n",
       "      <td>-0.002138</td>\n",
       "      <td>-0.029828</td>\n",
       "      <td>0</td>\n",
       "    </tr>\n",
       "    <tr>\n",
       "      <th>4257</th>\n",
       "      <td>-0.021053</td>\n",
       "      <td>0.038190</td>\n",
       "      <td>-0.139482</td>\n",
       "      <td>-0.036355</td>\n",
       "      <td>-0.001207</td>\n",
       "      <td>0.002917</td>\n",
       "      <td>-0.025768</td>\n",
       "      <td>-0.042135</td>\n",
       "      <td>2.511537</td>\n",
       "      <td>-0.021630</td>\n",
       "      <td>...</td>\n",
       "      <td>-0.053972</td>\n",
       "      <td>0.013681</td>\n",
       "      <td>0.024480</td>\n",
       "      <td>-0.015656</td>\n",
       "      <td>-0.015730</td>\n",
       "      <td>0.133959</td>\n",
       "      <td>-0.060981</td>\n",
       "      <td>0.000529</td>\n",
       "      <td>-0.054188</td>\n",
       "      <td>0</td>\n",
       "    </tr>\n",
       "  </tbody>\n",
       "</table>\n",
       "<p>5 rows × 65 columns</p>\n",
       "</div>"
      ],
      "text/plain": [
       "            X1        X2        X3        X4        X5        X6        X7  \\\n",
       "Id                                                                           \n",
       "5691  0.004299 -0.033489 -0.141656 -0.036322 -0.001277  0.048424 -0.006723   \n",
       "1101 -0.056227  0.054759  0.013788 -0.021422  0.000737  0.015011 -0.073083   \n",
       "4461 -0.047072  0.159681  0.109260 -0.026175 -0.003674  0.003628 -0.087761   \n",
       "3715  0.532882 -0.218142  0.353093 -0.008923  0.001773  0.002917  0.649042   \n",
       "4257 -0.021053  0.038190 -0.139482 -0.036355 -0.001207  0.002917 -0.025768   \n",
       "\n",
       "            X8        X9       X10    ...          X56       X57       X58  \\\n",
       "Id                                    ...                                    \n",
       "5691 -0.040002 -0.396774  0.024960    ...     0.033493  0.016356 -0.046525   \n",
       "1101 -0.042968 -0.431112 -0.055997    ...    -0.010804  0.007920 -0.010843   \n",
       "4461 -0.045084 -0.365059 -0.135738    ...     0.099029  0.011718  0.029763   \n",
       "3715 -0.024594  0.371771  0.219124    ...     0.186937  0.064336 -0.168885   \n",
       "4257 -0.042135  2.511537 -0.021630    ...    -0.053972  0.013681  0.024480   \n",
       "\n",
       "           X59       X60       X61       X62       X63       X64  Bankrupt  \n",
       "Id                                                                          \n",
       "5691  0.063131 -0.025908  0.012798 -0.032864 -0.049034 -0.075846         0  \n",
       "1101  0.148670 -0.089122 -0.139682 -0.058218 -0.011295 -0.073296         0  \n",
       "4461  0.145544 -0.076038  0.056063 -0.037908 -0.045531 -0.069274         0  \n",
       "3715 -0.050881 -0.062126 -0.161076 -0.060435 -0.002138 -0.029828         0  \n",
       "4257 -0.015656 -0.015730  0.133959 -0.060981  0.000529 -0.054188         0  \n",
       "\n",
       "[5 rows x 65 columns]"
      ]
     },
     "execution_count": 637,
     "metadata": {},
     "output_type": "execute_result"
    }
   ],
   "source": [
    "from sklearn.utils import resample\n",
    "\n",
    "# concatenate our training data back together\n",
    "X = pd.concat([X_train, y_train_df], axis=1)\n",
    "\n",
    "X.head()"
   ]
  },
  {
   "cell_type": "code",
   "execution_count": 638,
   "metadata": {},
   "outputs": [
    {
     "data": {
      "text/html": [
       "<div>\n",
       "<style scoped>\n",
       "    .dataframe tbody tr th:only-of-type {\n",
       "        vertical-align: middle;\n",
       "    }\n",
       "\n",
       "    .dataframe tbody tr th {\n",
       "        vertical-align: top;\n",
       "    }\n",
       "\n",
       "    .dataframe thead th {\n",
       "        text-align: right;\n",
       "    }\n",
       "</style>\n",
       "<table border=\"1\" class=\"dataframe\">\n",
       "  <thead>\n",
       "    <tr style=\"text-align: right;\">\n",
       "      <th></th>\n",
       "      <th>X1</th>\n",
       "      <th>X2</th>\n",
       "      <th>X3</th>\n",
       "      <th>X4</th>\n",
       "      <th>X5</th>\n",
       "      <th>X6</th>\n",
       "      <th>X7</th>\n",
       "      <th>X8</th>\n",
       "      <th>X9</th>\n",
       "      <th>X10</th>\n",
       "      <th>...</th>\n",
       "      <th>X56</th>\n",
       "      <th>X57</th>\n",
       "      <th>X58</th>\n",
       "      <th>X59</th>\n",
       "      <th>X60</th>\n",
       "      <th>X61</th>\n",
       "      <th>X62</th>\n",
       "      <th>X63</th>\n",
       "      <th>X64</th>\n",
       "      <th>Bankrupt</th>\n",
       "    </tr>\n",
       "    <tr>\n",
       "      <th>Id</th>\n",
       "      <th></th>\n",
       "      <th></th>\n",
       "      <th></th>\n",
       "      <th></th>\n",
       "      <th></th>\n",
       "      <th></th>\n",
       "      <th></th>\n",
       "      <th></th>\n",
       "      <th></th>\n",
       "      <th></th>\n",
       "      <th></th>\n",
       "      <th></th>\n",
       "      <th></th>\n",
       "      <th></th>\n",
       "      <th></th>\n",
       "      <th></th>\n",
       "      <th></th>\n",
       "      <th></th>\n",
       "      <th></th>\n",
       "      <th></th>\n",
       "      <th></th>\n",
       "    </tr>\n",
       "  </thead>\n",
       "  <tbody>\n",
       "    <tr>\n",
       "      <th>2616</th>\n",
       "      <td>-0.122196</td>\n",
       "      <td>0.180237</td>\n",
       "      <td>-0.068379</td>\n",
       "      <td>-0.011356</td>\n",
       "      <td>0.086883</td>\n",
       "      <td>-0.048090</td>\n",
       "      <td>-0.142713</td>\n",
       "      <td>-0.045467</td>\n",
       "      <td>-1.279793</td>\n",
       "      <td>-0.155158</td>\n",
       "      <td>...</td>\n",
       "      <td>-0.666302</td>\n",
       "      <td>-0.010229</td>\n",
       "      <td>0.344936</td>\n",
       "      <td>0.419476</td>\n",
       "      <td>-0.103875</td>\n",
       "      <td>-0.234128</td>\n",
       "      <td>0.372037</td>\n",
       "      <td>-0.072928</td>\n",
       "      <td>-0.077210</td>\n",
       "      <td>1</td>\n",
       "    </tr>\n",
       "    <tr>\n",
       "      <th>4788</th>\n",
       "      <td>-0.063917</td>\n",
       "      <td>-0.060341</td>\n",
       "      <td>-0.149858</td>\n",
       "      <td>-0.036701</td>\n",
       "      <td>-0.004753</td>\n",
       "      <td>0.004693</td>\n",
       "      <td>-0.085808</td>\n",
       "      <td>-0.045144</td>\n",
       "      <td>-0.432423</td>\n",
       "      <td>-0.213574</td>\n",
       "      <td>...</td>\n",
       "      <td>-0.012487</td>\n",
       "      <td>0.008686</td>\n",
       "      <td>-0.009486</td>\n",
       "      <td>0.078949</td>\n",
       "      <td>-0.102134</td>\n",
       "      <td>-0.103292</td>\n",
       "      <td>-0.008514</td>\n",
       "      <td>-0.058576</td>\n",
       "      <td>-0.074710</td>\n",
       "      <td>1</td>\n",
       "    </tr>\n",
       "    <tr>\n",
       "      <th>3534</th>\n",
       "      <td>-0.966929</td>\n",
       "      <td>0.760617</td>\n",
       "      <td>-0.647671</td>\n",
       "      <td>-0.040774</td>\n",
       "      <td>-0.007179</td>\n",
       "      <td>-0.419958</td>\n",
       "      <td>-0.979957</td>\n",
       "      <td>-0.050788</td>\n",
       "      <td>0.401930</td>\n",
       "      <td>-0.700110</td>\n",
       "      <td>...</td>\n",
       "      <td>-0.320351</td>\n",
       "      <td>0.139012</td>\n",
       "      <td>0.229681</td>\n",
       "      <td>-0.050881</td>\n",
       "      <td>-0.100852</td>\n",
       "      <td>-0.058360</td>\n",
       "      <td>0.022721</td>\n",
       "      <td>-0.063923</td>\n",
       "      <td>-0.057399</td>\n",
       "      <td>1</td>\n",
       "    </tr>\n",
       "    <tr>\n",
       "      <th>3793</th>\n",
       "      <td>0.051308</td>\n",
       "      <td>0.166695</td>\n",
       "      <td>0.242876</td>\n",
       "      <td>-0.013459</td>\n",
       "      <td>-0.000365</td>\n",
       "      <td>-0.036026</td>\n",
       "      <td>0.058182</td>\n",
       "      <td>-0.045217</td>\n",
       "      <td>5.139654</td>\n",
       "      <td>-0.142311</td>\n",
       "      <td>...</td>\n",
       "      <td>-0.055764</td>\n",
       "      <td>0.039721</td>\n",
       "      <td>0.021872</td>\n",
       "      <td>0.275710</td>\n",
       "      <td>-0.039181</td>\n",
       "      <td>0.341926</td>\n",
       "      <td>-0.072239</td>\n",
       "      <td>0.229287</td>\n",
       "      <td>-0.004283</td>\n",
       "      <td>1</td>\n",
       "    </tr>\n",
       "    <tr>\n",
       "      <th>4626</th>\n",
       "      <td>-0.388642</td>\n",
       "      <td>0.139500</td>\n",
       "      <td>-0.399651</td>\n",
       "      <td>-0.041809</td>\n",
       "      <td>-0.005664</td>\n",
       "      <td>-0.059132</td>\n",
       "      <td>-0.406797</td>\n",
       "      <td>-0.046024</td>\n",
       "      <td>-0.549360</td>\n",
       "      <td>-0.203158</td>\n",
       "      <td>...</td>\n",
       "      <td>-0.194422</td>\n",
       "      <td>-0.125199</td>\n",
       "      <td>0.137011</td>\n",
       "      <td>0.059998</td>\n",
       "      <td>-0.089948</td>\n",
       "      <td>0.122301</td>\n",
       "      <td>-0.012909</td>\n",
       "      <td>-0.057399</td>\n",
       "      <td>-0.072848</td>\n",
       "      <td>1</td>\n",
       "    </tr>\n",
       "  </tbody>\n",
       "</table>\n",
       "<p>5 rows × 65 columns</p>\n",
       "</div>"
      ],
      "text/plain": [
       "            X1        X2        X3        X4        X5        X6        X7  \\\n",
       "Id                                                                           \n",
       "2616 -0.122196  0.180237 -0.068379 -0.011356  0.086883 -0.048090 -0.142713   \n",
       "4788 -0.063917 -0.060341 -0.149858 -0.036701 -0.004753  0.004693 -0.085808   \n",
       "3534 -0.966929  0.760617 -0.647671 -0.040774 -0.007179 -0.419958 -0.979957   \n",
       "3793  0.051308  0.166695  0.242876 -0.013459 -0.000365 -0.036026  0.058182   \n",
       "4626 -0.388642  0.139500 -0.399651 -0.041809 -0.005664 -0.059132 -0.406797   \n",
       "\n",
       "            X8        X9       X10    ...          X56       X57       X58  \\\n",
       "Id                                    ...                                    \n",
       "2616 -0.045467 -1.279793 -0.155158    ...    -0.666302 -0.010229  0.344936   \n",
       "4788 -0.045144 -0.432423 -0.213574    ...    -0.012487  0.008686 -0.009486   \n",
       "3534 -0.050788  0.401930 -0.700110    ...    -0.320351  0.139012  0.229681   \n",
       "3793 -0.045217  5.139654 -0.142311    ...    -0.055764  0.039721  0.021872   \n",
       "4626 -0.046024 -0.549360 -0.203158    ...    -0.194422 -0.125199  0.137011   \n",
       "\n",
       "           X59       X60       X61       X62       X63       X64  Bankrupt  \n",
       "Id                                                                          \n",
       "2616  0.419476 -0.103875 -0.234128  0.372037 -0.072928 -0.077210         1  \n",
       "4788  0.078949 -0.102134 -0.103292 -0.008514 -0.058576 -0.074710         1  \n",
       "3534 -0.050881 -0.100852 -0.058360  0.022721 -0.063923 -0.057399         1  \n",
       "3793  0.275710 -0.039181  0.341926 -0.072239  0.229287 -0.004283         1  \n",
       "4626  0.059998 -0.089948  0.122301 -0.012909 -0.057399 -0.072848         1  \n",
       "\n",
       "[5 rows x 65 columns]"
      ]
     },
     "execution_count": 638,
     "metadata": {},
     "output_type": "execute_result"
    }
   ],
   "source": [
    "# separate minority and majority classes\n",
    "not_bankrupt = X[X.Bankrupt == 0]\n",
    "bankrupt = X[X.Bankrupt == 1]\n",
    "\n",
    "bankrupt.head()"
   ]
  },
  {
   "cell_type": "code",
   "execution_count": 639,
   "metadata": {},
   "outputs": [],
   "source": [
    "# oversample minority\n",
    "bankrupt_oversampled = resample(bankrupt,\n",
    "                          replace=True, # sample with replacement\n",
    "                          n_samples=len(not_bankrupt), # match number in majority class\n",
    "                          random_state=27) # reproducible results\n"
   ]
  },
  {
   "cell_type": "code",
   "execution_count": 640,
   "metadata": {
    "scrolled": true
   },
   "outputs": [
    {
     "data": {
      "text/plain": [
       "((3854, 65), (7232, 65))"
      ]
     },
     "execution_count": 640,
     "metadata": {},
     "output_type": "execute_result"
    }
   ],
   "source": [
    "# combine majority and oversampled minority\n",
    "X_oversampled = pd.concat([not_bankrupt, bankrupt_oversampled])\n",
    "\n",
    "X.shape, X_oversampled.shape #check if X is indeed oversampled"
   ]
  },
  {
   "cell_type": "code",
   "execution_count": 641,
   "metadata": {
    "scrolled": true
   },
   "outputs": [
    {
     "data": {
      "text/plain": [
       "(3616, 3616)"
      ]
     },
     "execution_count": 641,
     "metadata": {},
     "output_type": "execute_result"
    }
   ],
   "source": [
    "# check new class counts\n",
    "list(X_oversampled['Bankrupt']).count(0), list(X_oversampled['Bankrupt']).count(1)"
   ]
  },
  {
   "cell_type": "code",
   "execution_count": 642,
   "metadata": {},
   "outputs": [
    {
     "data": {
      "text/plain": [
       "((5785, 64), (1447, 64), (5785,), (1447,))"
      ]
     },
     "execution_count": 642,
     "metadata": {},
     "output_type": "execute_result"
    }
   ],
   "source": [
    "# train_test_split again\n",
    "X_train_O, X_test_O, y_train_O, y_test_O = train_test_split(\n",
    "    X_oversampled.drop(columns = ['Bankrupt']), X_oversampled['Bankrupt'], test_size=0.2, random_state=42)\n",
    "\n",
    "X_train_O.shape, X_test_O.shape, y_train_O.shape, y_test_O.shape "
   ]
  },
  {
   "cell_type": "code",
   "execution_count": 643,
   "metadata": {},
   "outputs": [
    {
     "data": {
      "text/plain": [
       "LogisticRegression(C=1.0, class_weight=None, dual=False, fit_intercept=True,\n",
       "          intercept_scaling=1, max_iter=100, multi_class='ovr', n_jobs=1,\n",
       "          penalty='l2', random_state=None, solver='liblinear', tol=0.0001,\n",
       "          verbose=0, warm_start=False)"
      ]
     },
     "execution_count": 643,
     "metadata": {},
     "output_type": "execute_result"
    }
   ],
   "source": [
    "# Run logistic regression again with the balanced training data\n",
    "model_LogisticReg = LogisticRegression()\n",
    "model_LogisticReg.fit(X_train_O, y_train_O)"
   ]
  },
  {
   "cell_type": "code",
   "execution_count": 644,
   "metadata": {
    "scrolled": true
   },
   "outputs": [
    {
     "name": "stdout",
     "output_type": "stream",
     "text": [
      "Logistic Regression, oversampled version: Avg cross val score = 0.79\n",
      "Logistic Regression, oversampled version: Accuracy = 81.20%\n"
     ]
    }
   ],
   "source": [
    "model = \"Logistic Regression, oversampled version\"\n",
    "cross_val_avg = np.mean(cross_val_score(model_LogisticReg, X_train_O, y_train_O, cv=5))\n",
    "\n",
    "print(\"{m:s}: Avg cross val score = {sc:3.2f}\".format(m=model, sc=cross_val_avg) )\n",
    "\n",
    "accuracy = accuracy_score(y_true = y_test_O, y_pred = model_LogisticReg.predict (X_test_O))\n",
    "print(\"{m:s}: Accuracy = {a:.2%}\".format(m=model, a=accuracy) )"
   ]
  },
  {
   "cell_type": "markdown",
   "metadata": {},
   "source": [
    "The performance of Logistic Regression on the training set"
   ]
  },
  {
   "cell_type": "code",
   "execution_count": 645,
   "metadata": {
    "scrolled": true
   },
   "outputs": [
    {
     "data": {
      "text/plain": [
       "0.8025929127052722"
      ]
     },
     "execution_count": 645,
     "metadata": {},
     "output_type": "execute_result"
    }
   ],
   "source": [
    "accuracy_train = model_LogisticReg.score(X_train_O,y_train_O)\n",
    "accuracy_train"
   ]
  },
  {
   "cell_type": "code",
   "execution_count": 646,
   "metadata": {
    "scrolled": false
   },
   "outputs": [
    {
     "name": "stdout",
     "output_type": "stream",
     "text": [
      "Accuracy: 0.8120248790601244\n",
      "Recall: 0.7906976744186046\n",
      "Specificity: 0.836552748885587\n",
      "Precision: 0.8476454293628809\n",
      "False positive rate: 0.16344725111441308\n",
      "F1 score: 0.8054363376251789\n"
     ]
    }
   ],
   "source": [
    "# Let's also check F1 score here \n",
    "# Note: F1 score is the weighted average of the precision and recall\n",
    "# An F1 score reaches its best value at 1 and worst score at 0.\n",
    "\n",
    "matrix = confusion_matrix(y_true = y_test_O, y_pred = model_LogisticReg.predict (X_test_O))\n",
    "matrix\n",
    "\n",
    "TP, FP, FN, TN = matrix.ravel()\n",
    "TP, FP, FN, TN\n",
    "\n",
    "accuracy = (TP + TN)/(TP + FP + FN + TN)\n",
    "recall = TP/(TP + FN)\n",
    "specificity = TN / (TN+FP)\n",
    "precision = TP / (TP+FP)\n",
    "false_positive_rate = FP/ (FP+TN)\n",
    "f1_score = f1_score(y_test_O, model_LogisticReg.predict (X_test_O))\n",
    "\n",
    "print(\"Accuracy:\", accuracy)\n",
    "print(\"Recall:\", recall)\n",
    "print(\"Specificity:\",specificity)\n",
    "print(\"Precision:\", precision)\n",
    "print(\"False positive rate:\", false_positive_rate)\n",
    "print(\"F1 score:\", f1_score)\n"
   ]
  },
  {
   "cell_type": "markdown",
   "metadata": {},
   "source": [
    "- Accuracy: with balanced training data, we sacrifice some accuracy (0.81<0.92)\n",
    "- Recall: with balanced training data, we also sacrifice some recall (0.79<0.94)\n",
    "- Precision: with balanced training data, we also sacrifice some precision (0.85<0.98)\n",
    " \n",
    "**However, the new accuracy, recall and precision rates are still desirable.**\n",
    "\n",
    "**In return, we now obtain a high specificity rate (0.84>0.37), a low false positive rate (0.16<0.63) and a high F1 score (a F1 score reaches its best value at 1 and worst score at 0).**"
   ]
  },
  {
   "cell_type": "markdown",
   "metadata": {},
   "source": [
    "# (2) Address the issue of: Different importance of each type of misclassification\n",
    "    - It is **5 times** worse to misclassify a company that *does go bankrupt* than to misclassify a company that \n",
    "    does not go bankrupt \n",
    "    - Suppose we invest in a company for which we predict it will not go bankrupt\n",
    "    - We incur substantial losses for a bad investment\n",
    "    - The loss from not investing in a company that we incorrectly classify as going bankrupt is small (opportunity cost)"
   ]
  },
  {
   "cell_type": "markdown",
   "metadata": {},
   "source": [
    "#### Some background notes:\n",
    "- **Cost**: The penalty associated with an incorrect prediction.\n",
    "The goal of cost-sensitive learning is to minimize the cost of a model on the training dataset, where it is assumed that different types of prediction errors have a different and known associated cost.\n",
    "- **Cost Minimization**: The goal of cost-sensitive learning is to minimize the cost of a model on a training dataset.\n",
    "- **Cost Matrix**: A matrix that assigns a cost to each cell in the confusion matrix.\n",
    "- All of the following exercises will be conducted based on the **imbalanced training data X_train & y_train**"
   ]
  },
  {
   "cell_type": "markdown",
   "metadata": {},
   "source": [
    "| | Bankrupt | Not Bankrupt  |\n",
    "|-|-----|-----|\n",
    "|**Bankrupt**| TP | FP |\n",
    "|**Not Bankrupt**| FN | TN |"
   ]
  },
  {
   "cell_type": "markdown",
   "metadata": {},
   "source": [
    "#### Cost Matrix\n",
    "| | Bankrupt (1) | Not Bankrupt (0)  |\n",
    "|-|-----|-----|\n",
    "|**Bankrupt (1)**| 0 | 10 |\n",
    "|**Not Bankrupt (0)**| 50 | 0 |"
   ]
  },
  {
   "cell_type": "code",
   "execution_count": 647,
   "metadata": {
    "scrolled": true
   },
   "outputs": [
    {
     "name": "stdout",
     "output_type": "stream",
     "text": [
      "Requirement already satisfied: costcla in /Users/WendiZhang/anaconda3/lib/python3.6/site-packages (0.5)\n",
      "Requirement already satisfied: pandas>=0.14.0 in /Users/WendiZhang/anaconda3/lib/python3.6/site-packages (from costcla) (0.23.0)\n",
      "Requirement already satisfied: numpy>=1.8.0 in /Users/WendiZhang/anaconda3/lib/python3.6/site-packages (from costcla) (1.14.3)\n",
      "Requirement already satisfied: pyea>=0.2 in /Users/WendiZhang/anaconda3/lib/python3.6/site-packages (from costcla) (0.2)\n",
      "Requirement already satisfied: scikit-learn>=0.15.0b2 in /Users/WendiZhang/anaconda3/lib/python3.6/site-packages (from costcla) (0.19.1)\n",
      "Requirement already satisfied: python-dateutil>=2.5.0 in /Users/WendiZhang/anaconda3/lib/python3.6/site-packages (from pandas>=0.14.0->costcla) (2.7.3)\n",
      "Requirement already satisfied: pytz>=2011k in /Users/WendiZhang/anaconda3/lib/python3.6/site-packages (from pandas>=0.14.0->costcla) (2018.4)\n",
      "Requirement already satisfied: six>=1.5 in /Users/WendiZhang/anaconda3/lib/python3.6/site-packages (from python-dateutil>=2.5.0->pandas>=0.14.0->costcla) (1.11.0)\n",
      "\u001b[31mdistributed 1.21.8 requires msgpack, which is not installed.\u001b[0m\n",
      "\u001b[33mYou are using pip version 10.0.1, however version 20.0.2 is available.\n",
      "You should consider upgrading via the 'pip install --upgrade pip' command.\u001b[0m\n"
     ]
    }
   ],
   "source": [
    "# Install a pip package in the current Jupyter kernel\n",
    "import sys\n",
    "!{sys.executable} -m pip install costcla"
   ]
  },
  {
   "cell_type": "code",
   "execution_count": 648,
   "metadata": {
    "scrolled": true
   },
   "outputs": [],
   "source": [
    "from costcla.metrics import cost_loss\n",
    "from costcla.models import CostSensitiveLogisticRegression, CostSensitiveDecisionTreeClassifier, CostSensitiveRandomForestClassifier"
   ]
  },
  {
   "cell_type": "markdown",
   "metadata": {},
   "source": [
    "#### Step 1: create a cost matrix\n",
    "- the columns represent the costs of false positives, false negatives, true positives and true negatives, for each example\n",
    "- Such sequence is aligned with the parameter **\"cost_mat\"** which we will use in the **\"fit\"** command\n",
    "\n",
    "> False Positive (FP): misclassify a company that *does NOT go bankrupt* as *bankrupt*,  cost = 10\n",
    "\n",
    "> False Negative (FN): misclassify a company that *does go bankrupt* as *NOT bankrupt*,  cost = 50\n",
    "\n",
    "> True Positive (TP) & True Negative (TN): correct classification, cost = 0"
   ]
  },
  {
   "cell_type": "code",
   "execution_count": 649,
   "metadata": {
    "scrolled": false
   },
   "outputs": [
    {
     "data": {
      "text/plain": [
       "array([[0., 0., 0., 0.],\n",
       "       [0., 0., 0., 0.],\n",
       "       [0., 0., 0., 0.],\n",
       "       ...,\n",
       "       [0., 0., 0., 0.],\n",
       "       [0., 0., 0., 0.],\n",
       "       [0., 0., 0., 0.]])"
      ]
     },
     "execution_count": 649,
     "metadata": {},
     "output_type": "execute_result"
    }
   ],
   "source": [
    "cost_mat_train = np.zeros((len(y_train),4))\n",
    "cost_mat_train"
   ]
  },
  {
   "cell_type": "code",
   "execution_count": 650,
   "metadata": {
    "scrolled": true
   },
   "outputs": [
    {
     "data": {
      "text/plain": [
       "array([[10., 50.,  0.,  0.],\n",
       "       [10., 50.,  0.,  0.],\n",
       "       [10., 50.,  0.,  0.],\n",
       "       ...,\n",
       "       [10., 50.,  0.,  0.],\n",
       "       [10., 50.,  0.,  0.],\n",
       "       [10., 50.,  0.,  0.]])"
      ]
     },
     "execution_count": 650,
     "metadata": {},
     "output_type": "execute_result"
    }
   ],
   "source": [
    "#false positives cost=10\n",
    "cost_mat_train[:,0] = 10\n",
    "\n",
    "#false negatives cost=50\n",
    "cost_mat_train[:,1] = 50\n",
    "\n",
    "cost_mat_train"
   ]
  },
  {
   "cell_type": "code",
   "execution_count": 651,
   "metadata": {},
   "outputs": [
    {
     "data": {
      "text/plain": [
       "(3854, 4)"
      ]
     },
     "execution_count": 651,
     "metadata": {},
     "output_type": "execute_result"
    }
   ],
   "source": [
    "cost_mat_train.shape"
   ]
  },
  {
   "cell_type": "code",
   "execution_count": 652,
   "metadata": {
    "scrolled": true
   },
   "outputs": [
    {
     "data": {
      "text/plain": [
       "(964, 4)"
      ]
     },
     "execution_count": 652,
     "metadata": {},
     "output_type": "execute_result"
    }
   ],
   "source": [
    "# repeat the same to the test set\n",
    "cost_mat_test = np.zeros((len(y_test),4))\n",
    "\n",
    "cost_mat_test[:,0]=10\n",
    "cost_mat_test[:,1]=50\n",
    "\n",
    "cost_mat_test\n",
    "cost_mat_test.shape"
   ]
  },
  {
   "cell_type": "markdown",
   "metadata": {},
   "source": [
    "#### Step 2: fit Cost Sensitive Logistic Regression (CSLR) model & compare cost loss with the regular Logistic Regression"
   ]
  },
  {
   "cell_type": "code",
   "execution_count": 653,
   "metadata": {
    "scrolled": true
   },
   "outputs": [
    {
     "data": {
      "text/plain": [
       "LogisticRegression(C=1.0, class_weight=None, dual=False, fit_intercept=True,\n",
       "          intercept_scaling=1, max_iter=100, multi_class='ovr', n_jobs=1,\n",
       "          penalty='l2', random_state=None, solver='liblinear', tol=0.0001,\n",
       "          verbose=0, warm_start=False)"
      ]
     },
     "execution_count": 653,
     "metadata": {},
     "output_type": "execute_result"
    }
   ],
   "source": [
    "model_CSLR = CostSensitiveLogisticRegression()\n",
    "model_CSLR.fit(X_train, y_train, cost_mat_train)\n",
    "\n",
    "model_LogisticReg = LogisticRegression()\n",
    "model_LogisticReg.fit(X_train, y_train)"
   ]
  },
  {
   "cell_type": "code",
   "execution_count": 654,
   "metadata": {
    "scrolled": true
   },
   "outputs": [
    {
     "name": "stdout",
     "output_type": "stream",
     "text": [
      "8100.0 3170.0\n"
     ]
    }
   ],
   "source": [
    "y_pred_CSLR = model_CSLR.predict(X_test)\n",
    "y_pred_LR = model_LogisticReg.predict(X_test)\n",
    "\n",
    "print (cost_loss(y_test, y_pred_CSLR, cost_mat_test), cost_loss(y_test, y_pred_LR, cost_mat_test))"
   ]
  },
  {
   "cell_type": "markdown",
   "metadata": {},
   "source": [
    "- Surprisingly, cost sensitive learning actually does slightly worse for logistic regression"
   ]
  },
  {
   "cell_type": "markdown",
   "metadata": {},
   "source": [
    "#### Step 3: fit Cost Sensitive Decision Tree (CSDT) & compare cost loss with the regular Decision Tree"
   ]
  },
  {
   "cell_type": "code",
   "execution_count": 655,
   "metadata": {},
   "outputs": [
    {
     "data": {
      "text/plain": [
       "DecisionTreeClassifier(class_weight=None, criterion='gini', max_depth=None,\n",
       "            max_features=None, max_leaf_nodes=None,\n",
       "            min_impurity_decrease=0.0, min_impurity_split=None,\n",
       "            min_samples_leaf=1, min_samples_split=2,\n",
       "            min_weight_fraction_leaf=0.0, presort=False, random_state=None,\n",
       "            splitter='best')"
      ]
     },
     "execution_count": 655,
     "metadata": {},
     "output_type": "execute_result"
    }
   ],
   "source": [
    "model_CSDT = CostSensitiveDecisionTreeClassifier()\n",
    "model_CSDT.fit(np.array(X_train), np.array(y_train), cost_mat_train)\n",
    "\n",
    "model_DT.fit(X_train, y_train)"
   ]
  },
  {
   "cell_type": "code",
   "execution_count": 656,
   "metadata": {},
   "outputs": [
    {
     "name": "stdout",
     "output_type": "stream",
     "text": [
      "6340.0 7370.0\n"
     ]
    }
   ],
   "source": [
    "y_pred_CSDT = model_CSDT.predict(np.array(X_test))\n",
    "y_pred_DT = model_DT.predict(np.array(X_test))\n",
    "\n",
    "print (cost_loss(np.array(y_test), y_pred_CSDT, cost_mat_test), cost_loss(np.array(y_test), y_pred_DT, cost_mat_test))"
   ]
  },
  {
   "cell_type": "code",
   "execution_count": 657,
   "metadata": {},
   "outputs": [
    {
     "data": {
      "text/plain": [
       "0.1397557666214383"
      ]
     },
     "execution_count": 657,
     "metadata": {},
     "output_type": "execute_result"
    }
   ],
   "source": [
    "1 - cost_loss(np.array(y_test), y_pred_CSDT, cost_mat_test) / cost_loss(np.array(y_test), y_pred_DT, cost_mat_test)"
   ]
  },
  {
   "cell_type": "markdown",
   "metadata": {},
   "source": [
    "- Cost sensitive learning does better than regular learning for decision tree, as cost loss is now lower by 0.19."
   ]
  },
  {
   "cell_type": "markdown",
   "metadata": {},
   "source": [
    "#### Step 4: fit Cost Sensitive Random Forest (CSRF) & compare cost loss with the regular Random Forest"
   ]
  },
  {
   "cell_type": "code",
   "execution_count": 658,
   "metadata": {},
   "outputs": [
    {
     "data": {
      "text/plain": [
       "RandomForestClassifier(bootstrap=True, class_weight=None, criterion='gini',\n",
       "            max_depth=None, max_features='auto', max_leaf_nodes=None,\n",
       "            min_impurity_decrease=0.0, min_impurity_split=None,\n",
       "            min_samples_leaf=1, min_samples_split=2,\n",
       "            min_weight_fraction_leaf=0.0, n_estimators=100, n_jobs=1,\n",
       "            oob_score=False, random_state=42, verbose=0, warm_start=False)"
      ]
     },
     "execution_count": 658,
     "metadata": {},
     "output_type": "execute_result"
    }
   ],
   "source": [
    "model_CSRF = CostSensitiveRandomForestClassifier()\n",
    "model_CSRF.fit(np.array(X_train), np.array(y_train), cost_mat_train)\n",
    "\n",
    "model_RF.fit(X_train, y_train)"
   ]
  },
  {
   "cell_type": "code",
   "execution_count": 659,
   "metadata": {
    "scrolled": true
   },
   "outputs": [
    {
     "name": "stdout",
     "output_type": "stream",
     "text": [
      "3470.0 6510.0\n"
     ]
    }
   ],
   "source": [
    "y_pred_CSRF = model_CSRF.predict(np.array(X_test))\n",
    "y_pred_RF = model_RF.predict(np.array(X_test))\n",
    "\n",
    "print (cost_loss(np.array(y_test), y_pred_CSRF, cost_mat_test), cost_loss(np.array(y_test), y_pred_RF, cost_mat_test))"
   ]
  },
  {
   "cell_type": "code",
   "execution_count": 660,
   "metadata": {},
   "outputs": [
    {
     "data": {
      "text/plain": [
       "0.46697388632872505"
      ]
     },
     "execution_count": 660,
     "metadata": {},
     "output_type": "execute_result"
    }
   ],
   "source": [
    "1- (cost_loss(np.array(y_test), y_pred_CSRF, cost_mat_test) / cost_loss(np.array(y_test), y_pred_RF, cost_mat_test))"
   ]
  },
  {
   "cell_type": "markdown",
   "metadata": {},
   "source": [
    "- Cost sensitive learning does better than regular learning for random forest, as cost loss is now lower by 0.46.\n",
    "- The performance of random forest is better than decision tree (0.46 > 0.19).\n"
   ]
  },
  {
   "cell_type": "markdown",
   "metadata": {},
   "source": [
    "### As a conclusion, WHEN CONSIDERING THE COST OF MISCLASSIFICATION, cost-sensitive random forest is the optimal model.\n",
    "- In general cases, we still want to use logistic regression, since it's easier to implement and more widely used.\n",
    "- **So I use logistic regression as MyModel**"
   ]
  },
  {
   "cell_type": "markdown",
   "metadata": {},
   "source": [
    "# Submission guidelines\n",
    "\n",
    "**In addition** to showing your mastery, there is one task you must perform to make grading easier.\n",
    "\n",
    "- You will implement the body of a subroutine `MyModel`\n",
    "    - that takes as argument, the name of a CSV file containing the test set\n",
    "    - performs predictions on each example in the test set\n",
    "    - returns an array or predictions with a one-to-one correspondence with the examples in the test set\n",
    "    \n",
    "- You will call the subroutine, passing the name of the test set file that we will supply.\n",
    "\n",
    "In this way, we can get the results of your model by executing a single cell."
   ]
  },
  {
   "cell_type": "markdown",
   "metadata": {},
   "source": [
    "`MyModel` has one *required* parameter: `fileName`\n",
    "- you may add additional parameters as you need\n",
    "\n",
    "`MyModel` is where you will perform whatever pre-processing you require, for example\n",
    "- imputing missing values\n",
    "- transformations\n",
    "- whatever else you need\n"
   ]
  },
  {
   "cell_type": "markdown",
   "metadata": {},
   "source": [
    "Here is the cell **that must appear as the last cell in your notebook**\n",
    "- It points to a test file\n",
    "- Your code must make predictions on this test file\n",
    "- There are *no labels* visible to you in the test file; these are available only to the grader"
   ]
  },
  {
   "cell_type": "code",
   "execution_count": 661,
   "metadata": {},
   "outputs": [],
   "source": [
    "data_file = \"5th_yr.csv\""
   ]
  },
  {
   "cell_type": "code",
   "execution_count": 670,
   "metadata": {},
   "outputs": [
    {
     "name": "stdout",
     "output_type": "stream",
     "text": [
      "Test file:  ./data/midterm_project/bankruptcy/holdout/5th_yr.csv\n"
     ]
    },
    {
     "data": {
      "text/plain": [
       "array([0, 0, 0, ..., 0, 0, 0])"
      ]
     },
     "execution_count": 670,
     "metadata": {},
     "output_type": "execute_result"
    }
   ],
   "source": [
    "TEST_PATH = \"./data/midterm_project/bankruptcy/holdout\"\n",
    "\n",
    "import pandas as pd\n",
    "import os\n",
    "\n",
    "testFileName = os.path.join(TEST_PATH, data_file)\n",
    "\n",
    "def MyModel(fileName=None):\n",
    "    print(\"Test file: \", fileName)\n",
    "    \n",
    "    # YOUR CODE GOES HERE\n",
    "    ## Get the data:\n",
    "    test_data = pd.read_csv(fileName)\n",
    "    \n",
    "    ## Cleaning:\n",
    "    #(1) Replace all \"?\" with NaN, then change data type from object to float64\n",
    "    test_data = test_data.replace('?', np.NaN)\n",
    "    \n",
    "    test_data = test_data.astype('float64')\n",
    "    test_data['Id'] = test_data['Id'].astype('int64')\n",
    "    \n",
    "    #(2) Replace NaN with median\n",
    "    test_data_median = test_data.median()\n",
    "    test_data.fillna(test_data_median, inplace = True)\n",
    "\n",
    "    #(3) Set \"Id\" as index\n",
    "    test_data.set_index('Id', inplace=True)\n",
    "\n",
    "   \n",
    "    ## Scaling:\n",
    "    normalize(test_data)\n",
    "    \n",
    "    ## Predict:\n",
    "    predictions = model_LogisticReg.predict (test_data)\n",
    "    # It should create an array of predictions; we initialize it to the empty array for convenience\n",
    "    \n",
    "    return predictions\n",
    "\n",
    "predicts = MyModel(fileName=testFileName)\n",
    "predicts"
   ]
  },
  {
   "cell_type": "code",
   "execution_count": 671,
   "metadata": {},
   "outputs": [
    {
     "name": "stdout",
     "output_type": "stream",
     "text": [
      "Done\n"
     ]
    }
   ],
   "source": [
    "print(\"Done\")"
   ]
  }
 ],
 "metadata": {
  "kernelspec": {
   "display_name": "Python 3",
   "language": "python",
   "name": "python3"
  },
  "language_info": {
   "codemirror_mode": {
    "name": "ipython",
    "version": 3
   },
   "file_extension": ".py",
   "mimetype": "text/x-python",
   "name": "python",
   "nbconvert_exporter": "python",
   "pygments_lexer": "ipython3",
   "version": "3.6.9"
  },
  "toc": {
   "base_numbering": 1,
   "nav_menu": {},
   "number_sections": true,
   "sideBar": true,
   "skip_h1_title": false,
   "title_cell": "Table of Contents",
   "title_sidebar": "Contents",
   "toc_cell": false,
   "toc_position": {},
   "toc_section_display": true,
   "toc_window_display": false
  }
 },
 "nbformat": 4,
 "nbformat_minor": 2
}
